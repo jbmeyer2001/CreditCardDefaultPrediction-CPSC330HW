{
 "cells": [
  {
   "cell_type": "code",
   "execution_count": 1,
   "metadata": {
    "deletable": false,
    "editable": false
   },
   "outputs": [],
   "source": [
    "# Initialize Otter\n",
    "import otter\n",
    "grader = otter.Notebook(\"hw5.ipynb\")"
   ]
  },
  {
   "cell_type": "markdown",
   "metadata": {},
   "source": [
    "# CPSC 330 - Applied Machine Learning \n",
    "\n",
    "## Homework 5: Putting it all together \n",
    "### Associated lectures: All material till lecture 13\n",
    "\n",
    "#### Due date: See the [Calendar](https://htmlpreview.github.io/?https://github.com/UBC-CS/cpsc330-2023s/blob/master/docs/calendar.html)."
   ]
  },
  {
   "cell_type": "markdown",
   "metadata": {},
   "source": [
    "## Table of contents\n",
    "0. [Submission instructions](#si)\n",
    "1. [Understanding the problem](#1)\n",
    "2. [Data splitting](#2)\n",
    "3. [EDA](#3)\n",
    "4. (Optional) [Feature engineering](#4)\n",
    "5. [Preprocessing and transformations](#5) \n",
    "6. [Baseline model](#6)\n",
    "7. [Linear models](#7)\n",
    "8. [Different models](#8)\n",
    "9. (Optional) [Feature selection](#9)\n",
    "10. [Hyperparameter optimization](#10)\n",
    "11. [Interpretation and feature importances](#11) \n",
    "12. [Results on the test set](#12)\n",
    "13. [Summary of the results](#13)\n",
    "14. (Optional) [Your takeaway from the course](#15)"
   ]
  },
  {
   "cell_type": "markdown",
   "metadata": {
    "tags": []
   },
   "source": [
    "## Submission instructions <a name=\"si\"></a>\n",
    "<hr>\n",
    "rubric={points:4}\n",
    "\n",
    "You will receive marks for correctly submitting this assignment. To submit this assignment, follow the instructions below:\n",
    "\n",
    "- **You may work on this assignment in a group (group size <= 4) and submit your assignment as a group.** \n",
    "- Below are some instructions on working as a group.  \n",
    "    - The maximum group size is 4. \n",
    "    - You can choose your own group members. \n",
    "    - Use group work as an opportunity to collaborate and learn new things from each other. \n",
    "    - Be respectful to each other and make sure you understand all the concepts in the assignment well. \n",
    "    - It's your responsibility to make sure that the assignment is submitted by one of the group members before the deadline. [Here](https://help.gradescope.com/article/m5qz2xsnjy-student-add-group-members) are some instructions on adding group members in Gradescope.  \n",
    "- Be sure to follow the [homework submission instructions](https://github.com/UBC-CS/cpsc330-2023s/blob/main/docs/homework_instructions.md).\n",
    "- Upload the .ipynb file to Gradescope.\n",
    "- **If the .ipynb file is too big or doesn't render on Gradescope for some reason, also upload a pdf or html in addition to the .ipynb.** \n",
    "- Make sure that your plots/output are rendered properly in Gradescope."
   ]
  },
  {
   "cell_type": "markdown",
   "metadata": {},
   "source": [
    "## Imports"
   ]
  },
  {
   "cell_type": "code",
   "execution_count": 2,
   "metadata": {
    "tags": []
   },
   "outputs": [],
   "source": [
    "import os\n",
    "\n",
    "%matplotlib inline\n",
    "import string\n",
    "import sys\n",
    "\n",
    "import matplotlib.pyplot as plt\n",
    "import numpy as np\n",
    "import pandas as pd\n",
    "\n",
    "import os\n",
    "import re\n",
    "import sys\n",
    "from hashlib import sha1\n",
    "\n",
    "import matplotlib.pyplot as plt\n",
    "import numpy as np\n",
    "import pandas as pd\n",
    "# import tests_hw5\n",
    "from sklearn import datasets\n",
    "from sklearn.compose import make_column_transformer\n",
    "from sklearn.dummy import DummyClassifier, DummyRegressor\n",
    "from sklearn.ensemble import RandomForestClassifier, RandomForestRegressor\n",
    "from sklearn.linear_model import LogisticRegression, Ridge\n",
    "from sklearn.metrics import (\n",
    "    accuracy_score,\n",
    "    classification_report,\n",
    "    confusion_matrix,\n",
    "    ConfusionMatrixDisplay,\n",
    "    f1_score,\n",
    "    make_scorer,\n",
    "    precision_score,\n",
    "    recall_score,\n",
    ")\n",
    "from sklearn.model_selection import (\n",
    "    GridSearchCV,\n",
    "    RandomizedSearchCV,\n",
    "    cross_val_score,\n",
    "    cross_validate,\n",
    "    train_test_split,\n",
    ")\n",
    "from sklearn.pipeline import Pipeline, make_pipeline\n",
    "from sklearn.preprocessing import OneHotEncoder, OrdinalEncoder, StandardScaler\n",
    "from sklearn.impute import SimpleImputer\n",
    "from sklearn.tree import DecisionTreeClassifier\n",
    "from lightgbm.sklearn import LGBMClassifier\n",
    "from sklearn.svm import SVC\n",
    "from sklearn.feature_selection import RFECV\n",
    "import eli5"
   ]
  },
  {
   "cell_type": "markdown",
   "metadata": {},
   "source": [
    "## Introduction <a name=\"in\"></a>\n",
    "\n",
    "In this homework you will be working on an open-ended mini-project, where you will put all the different things you have learned so far together to solve an interesting problem.\n",
    "\n",
    "A few notes and tips when you work on this mini-project: \n",
    "\n",
    "#### Tips\n",
    "1. This mini-project is open-ended, and while working on it, there might be some situations where you'll have to use your own judgment and make your own decisions (as you would be doing when you work as a data scientist). Make sure you explain your decisions whenever necessary. \n",
    "2. **Do not include everything you ever tried in your submission** -- it's fine just to have your final code. That said, your code should be reproducible and well-documented. For example, if you chose your hyperparameters based on some hyperparameter optimization experiment, you should leave in the code for that experiment so that someone else could re-run it and obtain the same hyperparameters, rather than mysteriously just setting the hyperparameters to some (carefully chosen) values in your code. \n",
    "3. If you realize that you are repeating a lot of code try to organize it in functions. Clear presentation of your code, experiments, and results is the key to be successful in this lab. You may use code from lecture notes or previous lab solutions with appropriate attributions. \n",
    "\n",
    "#### Assessment\n",
    "We plan to grade fairly and leniently. We don't have some secret target score that you need to achieve to get a good grade. **You'll be assessed on demonstration of mastery of course topics, clear presentation, and the quality of your analysis and results.** For example, if you just have a bunch of code and no text or figures, that's not good. If you do a bunch of sane things and get a lower accuracy than your friend, don't sweat it.\n",
    "\n",
    "\n",
    "#### A final note\n",
    "Finally, this style of this \"project\" question is different from other assignments. It'll be up to you to decide when you're \"done\" -- in fact, this is one of the hardest parts of real projects. But please don't spend WAY too much time on this... perhaps \"a few hours\" (15-20 hours???) is a good guideline for this project . Of course if you're having fun you're welcome to spend as much time as you want! But, if so, try not to do it out of perfectionism or getting the best possible grade. Do it because you're learning and enjoying it. Students from the past cohorts have found such kind of labs useful and fun and I hope you enjoy it as well. "
   ]
  },
  {
   "cell_type": "markdown",
   "metadata": {},
   "source": [
    "<br><br>"
   ]
  },
  {
   "cell_type": "markdown",
   "metadata": {},
   "source": [
    "<!-- BEGIN QUESTION -->\n",
    "\n",
    "## 1. Pick your problem and explain the prediction problem <a name=\"1\"></a>\n",
    "<hr>\n",
    "rubric={points:3}\n",
    "\n",
    "In this mini project, you will be working on a classification problem of predicting whether a credit card client will default or not. \n",
    "For this problem, you will use [Default of Credit Card Clients Dataset](https://www.kaggle.com/uciml/default-of-credit-card-clients-dataset). In this data set, there are 30,000 examples and 24 features, and the goal is to estimate whether a person will default (fail to pay) their credit card bills; this column is labeled \"default.payment.next.month\" in the data. The rest of the columns can be used as features. You may take some ideas and compare your results with [the associated research paper](https://www.sciencedirect.com/science/article/pii/S0957417407006719), which is available through [the UBC library](https://www.library.ubc.ca/). \n",
    "\n",
    "**Your tasks:**\n",
    "\n",
    "1. Spend some time understanding the problem and what each feature means. You can find this information in the documentation on [the dataset page on Kaggle](https://www.kaggle.com/uciml/default-of-credit-card-clients-dataset). Write a few sentences on your initial thoughts on the problem and the dataset. \n",
    "2. Download the dataset and read it as a pandas dataframe. "
   ]
  },
  {
   "cell_type": "markdown",
   "metadata": {},
   "source": [
    "<div class=\"alert alert-warning\">\n",
    "    \n",
    "Solution_1\n",
    "    \n",
    "</div>"
   ]
  },
  {
   "cell_type": "markdown",
   "metadata": {},
   "source": [
    "For PAY_N it seems like -2 indicates there was no payment but there was no balance. -1 indicates that the full balance has been payed out. 0 indicates that the required payment was made, but it did not pay off the full balance. 1 and up indicates the payment delay in months.  \n",
    "\n",
    "The PAY_AMT columns by themselves probably don't provide much useful information, however the interaction of PAY_AMT with other columns could be very useful. For example if no payments are made on an account, it could mean someone is about to default if they've been accruing balance, or it could mean they aren't going to default because they haven't bought anything.\n",
    "\n",
    "I'm thinking now I'll definitely have to do some feature engineering on PAY_N, PAY_AMTN, and BILL_AMTN in order to get meaningfull numbers.\n",
    "\n",
    "Sex if I keep it should be binary not numeric, ID doesn't matter so It'll be removed, Marriage is categorical despite being numeric in the file, education should be ordinal (despite being numeric in the file) but there are two numbers for unknown so I might change all of the 'unknowns' to 5. The rest are numeric and will require scaling if I use a model other than decision trees."
   ]
  },
  {
   "cell_type": "code",
   "execution_count": 3,
   "metadata": {
    "tags": []
   },
   "outputs": [
    {
     "data": {
      "text/html": [
       "<div>\n",
       "<style scoped>\n",
       "    .dataframe tbody tr th:only-of-type {\n",
       "        vertical-align: middle;\n",
       "    }\n",
       "\n",
       "    .dataframe tbody tr th {\n",
       "        vertical-align: top;\n",
       "    }\n",
       "\n",
       "    .dataframe thead th {\n",
       "        text-align: right;\n",
       "    }\n",
       "</style>\n",
       "<table border=\"1\" class=\"dataframe\">\n",
       "  <thead>\n",
       "    <tr style=\"text-align: right;\">\n",
       "      <th></th>\n",
       "      <th>ID</th>\n",
       "      <th>LIMIT_BAL</th>\n",
       "      <th>SEX</th>\n",
       "      <th>EDUCATION</th>\n",
       "      <th>MARRIAGE</th>\n",
       "      <th>AGE</th>\n",
       "      <th>PAY_0</th>\n",
       "      <th>PAY_2</th>\n",
       "      <th>PAY_3</th>\n",
       "      <th>PAY_4</th>\n",
       "      <th>...</th>\n",
       "      <th>BILL_AMT4</th>\n",
       "      <th>BILL_AMT5</th>\n",
       "      <th>BILL_AMT6</th>\n",
       "      <th>PAY_AMT1</th>\n",
       "      <th>PAY_AMT2</th>\n",
       "      <th>PAY_AMT3</th>\n",
       "      <th>PAY_AMT4</th>\n",
       "      <th>PAY_AMT5</th>\n",
       "      <th>PAY_AMT6</th>\n",
       "      <th>default.payment.next.month</th>\n",
       "    </tr>\n",
       "  </thead>\n",
       "  <tbody>\n",
       "    <tr>\n",
       "      <th>0</th>\n",
       "      <td>1</td>\n",
       "      <td>20000.0</td>\n",
       "      <td>2</td>\n",
       "      <td>2</td>\n",
       "      <td>1</td>\n",
       "      <td>24</td>\n",
       "      <td>2</td>\n",
       "      <td>2</td>\n",
       "      <td>-1</td>\n",
       "      <td>-1</td>\n",
       "      <td>...</td>\n",
       "      <td>0.0</td>\n",
       "      <td>0.0</td>\n",
       "      <td>0.0</td>\n",
       "      <td>0.0</td>\n",
       "      <td>689.0</td>\n",
       "      <td>0.0</td>\n",
       "      <td>0.0</td>\n",
       "      <td>0.0</td>\n",
       "      <td>0.0</td>\n",
       "      <td>1</td>\n",
       "    </tr>\n",
       "    <tr>\n",
       "      <th>1</th>\n",
       "      <td>2</td>\n",
       "      <td>120000.0</td>\n",
       "      <td>2</td>\n",
       "      <td>2</td>\n",
       "      <td>2</td>\n",
       "      <td>26</td>\n",
       "      <td>-1</td>\n",
       "      <td>2</td>\n",
       "      <td>0</td>\n",
       "      <td>0</td>\n",
       "      <td>...</td>\n",
       "      <td>3272.0</td>\n",
       "      <td>3455.0</td>\n",
       "      <td>3261.0</td>\n",
       "      <td>0.0</td>\n",
       "      <td>1000.0</td>\n",
       "      <td>1000.0</td>\n",
       "      <td>1000.0</td>\n",
       "      <td>0.0</td>\n",
       "      <td>2000.0</td>\n",
       "      <td>1</td>\n",
       "    </tr>\n",
       "    <tr>\n",
       "      <th>2</th>\n",
       "      <td>3</td>\n",
       "      <td>90000.0</td>\n",
       "      <td>2</td>\n",
       "      <td>2</td>\n",
       "      <td>2</td>\n",
       "      <td>34</td>\n",
       "      <td>0</td>\n",
       "      <td>0</td>\n",
       "      <td>0</td>\n",
       "      <td>0</td>\n",
       "      <td>...</td>\n",
       "      <td>14331.0</td>\n",
       "      <td>14948.0</td>\n",
       "      <td>15549.0</td>\n",
       "      <td>1518.0</td>\n",
       "      <td>1500.0</td>\n",
       "      <td>1000.0</td>\n",
       "      <td>1000.0</td>\n",
       "      <td>1000.0</td>\n",
       "      <td>5000.0</td>\n",
       "      <td>0</td>\n",
       "    </tr>\n",
       "    <tr>\n",
       "      <th>3</th>\n",
       "      <td>4</td>\n",
       "      <td>50000.0</td>\n",
       "      <td>2</td>\n",
       "      <td>2</td>\n",
       "      <td>1</td>\n",
       "      <td>37</td>\n",
       "      <td>0</td>\n",
       "      <td>0</td>\n",
       "      <td>0</td>\n",
       "      <td>0</td>\n",
       "      <td>...</td>\n",
       "      <td>28314.0</td>\n",
       "      <td>28959.0</td>\n",
       "      <td>29547.0</td>\n",
       "      <td>2000.0</td>\n",
       "      <td>2019.0</td>\n",
       "      <td>1200.0</td>\n",
       "      <td>1100.0</td>\n",
       "      <td>1069.0</td>\n",
       "      <td>1000.0</td>\n",
       "      <td>0</td>\n",
       "    </tr>\n",
       "    <tr>\n",
       "      <th>4</th>\n",
       "      <td>5</td>\n",
       "      <td>50000.0</td>\n",
       "      <td>1</td>\n",
       "      <td>2</td>\n",
       "      <td>1</td>\n",
       "      <td>57</td>\n",
       "      <td>-1</td>\n",
       "      <td>0</td>\n",
       "      <td>-1</td>\n",
       "      <td>0</td>\n",
       "      <td>...</td>\n",
       "      <td>20940.0</td>\n",
       "      <td>19146.0</td>\n",
       "      <td>19131.0</td>\n",
       "      <td>2000.0</td>\n",
       "      <td>36681.0</td>\n",
       "      <td>10000.0</td>\n",
       "      <td>9000.0</td>\n",
       "      <td>689.0</td>\n",
       "      <td>679.0</td>\n",
       "      <td>0</td>\n",
       "    </tr>\n",
       "  </tbody>\n",
       "</table>\n",
       "<p>5 rows × 25 columns</p>\n",
       "</div>"
      ],
      "text/plain": [
       "   ID  LIMIT_BAL  SEX  EDUCATION  MARRIAGE  AGE  PAY_0  PAY_2  PAY_3  PAY_4  \\\n",
       "0   1    20000.0    2          2         1   24      2      2     -1     -1   \n",
       "1   2   120000.0    2          2         2   26     -1      2      0      0   \n",
       "2   3    90000.0    2          2         2   34      0      0      0      0   \n",
       "3   4    50000.0    2          2         1   37      0      0      0      0   \n",
       "4   5    50000.0    1          2         1   57     -1      0     -1      0   \n",
       "\n",
       "   ...  BILL_AMT4  BILL_AMT5  BILL_AMT6  PAY_AMT1  PAY_AMT2  PAY_AMT3  \\\n",
       "0  ...        0.0        0.0        0.0       0.0     689.0       0.0   \n",
       "1  ...     3272.0     3455.0     3261.0       0.0    1000.0    1000.0   \n",
       "2  ...    14331.0    14948.0    15549.0    1518.0    1500.0    1000.0   \n",
       "3  ...    28314.0    28959.0    29547.0    2000.0    2019.0    1200.0   \n",
       "4  ...    20940.0    19146.0    19131.0    2000.0   36681.0   10000.0   \n",
       "\n",
       "   PAY_AMT4  PAY_AMT5  PAY_AMT6  default.payment.next.month  \n",
       "0       0.0       0.0       0.0                           1  \n",
       "1    1000.0       0.0    2000.0                           1  \n",
       "2    1000.0    1000.0    5000.0                           0  \n",
       "3    1100.0    1069.0    1000.0                           0  \n",
       "4    9000.0     689.0     679.0                           0  \n",
       "\n",
       "[5 rows x 25 columns]"
      ]
     },
     "execution_count": 3,
     "metadata": {},
     "output_type": "execute_result"
    }
   ],
   "source": [
    "data = pd.read_csv(\"data/UCI_Credit_Card.csv\")\n",
    "data.head()"
   ]
  },
  {
   "cell_type": "markdown",
   "metadata": {},
   "source": [
    "<!-- END QUESTION -->\n",
    "\n",
    "<br><br>"
   ]
  },
  {
   "cell_type": "markdown",
   "metadata": {},
   "source": [
    "<!-- BEGIN QUESTION -->\n",
    "\n",
    "## 2. Data splitting <a name=\"2\"></a>\n",
    "<hr>\n",
    "rubric={points:2}\n",
    "\n",
    "**Your tasks:**\n",
    "\n",
    "1. Split the data into train (70%) and test (30%) portions with `random_state=123`.\n",
    "\n",
    "> If your computer cannot handle training on 70% training data, make the test split bigger.  "
   ]
  },
  {
   "cell_type": "markdown",
   "metadata": {},
   "source": [
    "<div class=\"alert alert-warning\">\n",
    "    \n",
    "Solution_2\n",
    "    \n",
    "</div>"
   ]
  },
  {
   "cell_type": "code",
   "execution_count": 4,
   "metadata": {
    "tags": []
   },
   "outputs": [],
   "source": [
    "train_df, test_df = train_test_split(data, test_size=0.3, random_state=123)\n",
    "X_train = train_df.drop(columns=\"default.payment.next.month\")\n",
    "y_train = train_df[[\"default.payment.next.month\"]]\n",
    "X_test = test_df.drop(columns=\"default.payment.next.month\")\n",
    "y_test = test_df[[\"default.payment.next.month\"]]"
   ]
  },
  {
   "cell_type": "markdown",
   "metadata": {},
   "source": [
    "<!-- END QUESTION -->\n",
    "\n",
    "<br><br>"
   ]
  },
  {
   "cell_type": "code",
   "execution_count": 5,
   "metadata": {
    "tags": []
   },
   "outputs": [
    {
     "data": {
      "text/plain": [
       "2    9815\n",
       "1    7433\n",
       "3    3416\n",
       "5     210\n",
       "4      81\n",
       "6      35\n",
       "0      10\n",
       "Name: EDUCATION, dtype: int64"
      ]
     },
     "execution_count": 5,
     "metadata": {},
     "output_type": "execute_result"
    }
   ],
   "source": [
    "train_df['EDUCATION'].value_counts()"
   ]
  },
  {
   "cell_type": "markdown",
   "metadata": {},
   "source": [
    "<!-- BEGIN QUESTION -->\n",
    "\n",
    "## 3. EDA <a name=\"3\"></a>\n",
    "<hr>\n",
    "rubric={points:10}\n",
    "\n",
    "**Your tasks:**\n",
    "\n",
    "1. Perform exploratory data analysis on the train set.\n",
    "2. Include at least two summary statistics and two visualizations that you find useful, and accompany each one with a sentence explaining it.\n",
    "3. Summarize your initial observations about the data. \n",
    "4. Pick appropriate metric/metrics for assessment. "
   ]
  },
  {
   "cell_type": "markdown",
   "metadata": {},
   "source": [
    "<div class=\"alert alert-warning\">\n",
    "    \n",
    "Solution_3\n",
    "    \n",
    "</div>"
   ]
  },
  {
   "cell_type": "markdown",
   "metadata": {},
   "source": [
    "2. two useful summary statistics are:\n",
    " - the mean value of default.payment.next.month indicates that the classes are somewhat imbalanced since only ~22% defaults.\n",
    " - both EDUCATION and MARRIAGE have some zero values which aren't described in the dataset (Marriage shouldn't have 0's) so I am assuming those are unknowns. \n",
    " I will replace the 0's with NaN, and impute them\n",
    " \n",
    "2. I have created plots for two features that show some patterns within the data, and indicate those features are likely to be helpful for the model\n",
    " - the histogram of LIMIT_BAL indicates that someone with a low limit is far more likely to default then someone with a high limit\n",
    " - the histogram of PAY_0 shows that if someone was late by 2 months on the last month, then they are more likely to default than not. However, individuals with -2, -1, and 0 are far\n",
    " more likely not to default\n",
    " \n",
    "3. \n",
    "Based on looking at the data it seems like the PAY_N features have a lot to say, in that people with higher numbers in PAY_N are more likely to default, although it isn't quite that simple because its possible the existance of a positive number says more about the total. For example, multiple -1's followed by a 2 might be more likely to default than someone with consistant 0's. A more complicated model might find a way to do some feature engineering within PAY_N or some relation to PAY_AMT or BILL_AMT but I'm not including it in this model. While these columns could make sense as either ordinal or numeric, I think I will leave them as numeric and scale them like the other numeric columns.\n",
    "\n",
    "Now to look at the BILL_AMT and PAY_AMT features. In an of themselves they probably don't have that much of a say. An example being someone who has a higher limit may have a higher balance than someone who defaults every single month, but they pay it off every single month too. It could also be that the ratio of bill to payment has a say in whether someone defaults or not. This is probably the location that I will focus most of my feature engineering.\n",
    "\n",
    "While I didn't display the plots that I made for them, It appeared that data such as SEX and AGE did have an affect, but not as strongly as either LIMIT_BAL and PAY_0 did, worth including but probably not a main focus for me.\n",
    "\n",
    "4.\n",
    "When considering the potential confusion matrix for this problem, I am deciding that accuracy is likely not the best metric to assess this data. A dummy classifier would get it right roughly 78% of the time which seems rather high. Instead, I am considering precision and recall, although I will likely want to optimize recall since a false negative is probably worse than a false positive, as it means the bank would assume someone is not going to default when they actually are. I have to set a threshold though, since answering true every time would technically give a precision of 100% but is completely useless, I'll use an RC curve later on to decide this."
   ]
  },
  {
   "cell_type": "code",
   "execution_count": 6,
   "metadata": {
    "tags": []
   },
   "outputs": [
    {
     "name": "stdout",
     "output_type": "stream",
     "text": [
      "unique values in count row indicates there are no NaN values [21000.]\n",
      "mean of default.payment.next.month shows 22% of the data defaults - the classes are somewhat imbalanced 0.22323809523809524\n"
     ]
    }
   ],
   "source": [
    "print(\"unique values in count row indicates there are no NaN values\", train_df.describe().loc[\"count\"].unique()) #there are no NaN values\n",
    "print(\"mean of default.payment.next.month shows 22% of the data defaults - the classes are somewhat imbalanced\", train_df.describe().loc[\"mean\", \"default.payment.next.month\"])"
   ]
  },
  {
   "cell_type": "code",
   "execution_count": 7,
   "metadata": {
    "tags": []
   },
   "outputs": [
    {
     "data": {
      "image/png": "[encoded data removed]",
      "text/plain": [
       "<Figure size 640x480 with 1 Axes>"
      ]
     },
     "metadata": {},
     "output_type": "display_data"
    },
    {
     "data": {
      "image/png": "[encoded data removed]",
      "text/plain": [
       "<Figure size 640x480 with 1 Axes>"
      ]
     },
     "metadata": {},
     "output_type": "display_data"
    }
   ],
   "source": [
    "vizualize_cols = [\"LIMIT_BAL\", \"PAY_0\"]\n",
    "\n",
    "for column in vizualize_cols:\n",
    "    #plotting nearly coppy and pasted from example\n",
    "    ax = train_df.groupby(\"default.payment.next.month\")[column].plot.hist(bins=50, alpha=0.5, legend=True)\n",
    "    plt.xlabel(column)\n",
    "    plt.title(\"Histogram of \" + column)\n",
    "    plt.show()\n"
   ]
  },
  {
   "cell_type": "code",
   "execution_count": null,
   "metadata": {
    "tags": []
   },
   "outputs": [],
   "source": []
  },
  {
   "cell_type": "code",
   "execution_count": 8,
   "metadata": {
    "tags": []
   },
   "outputs": [
    {
     "data": {
      "text/plain": [
       "Ellipsis"
      ]
     },
     "execution_count": 8,
     "metadata": {},
     "output_type": "execute_result"
    }
   ],
   "source": [
    "..."
   ]
  },
  {
   "cell_type": "code",
   "execution_count": 9,
   "metadata": {
    "tags": []
   },
   "outputs": [
    {
     "data": {
      "text/plain": [
       "Ellipsis"
      ]
     },
     "execution_count": 9,
     "metadata": {},
     "output_type": "execute_result"
    }
   ],
   "source": [
    "..."
   ]
  },
  {
   "cell_type": "code",
   "execution_count": 10,
   "metadata": {
    "tags": []
   },
   "outputs": [
    {
     "data": {
      "text/plain": [
       "Ellipsis"
      ]
     },
     "execution_count": 10,
     "metadata": {},
     "output_type": "execute_result"
    }
   ],
   "source": [
    "..."
   ]
  },
  {
   "cell_type": "code",
   "execution_count": 11,
   "metadata": {
    "tags": []
   },
   "outputs": [
    {
     "data": {
      "text/plain": [
       "Ellipsis"
      ]
     },
     "execution_count": 11,
     "metadata": {},
     "output_type": "execute_result"
    }
   ],
   "source": [
    "..."
   ]
  },
  {
   "cell_type": "code",
   "execution_count": 12,
   "metadata": {
    "tags": []
   },
   "outputs": [
    {
     "data": {
      "text/plain": [
       "Ellipsis"
      ]
     },
     "execution_count": 12,
     "metadata": {},
     "output_type": "execute_result"
    }
   ],
   "source": [
    "..."
   ]
  },
  {
   "cell_type": "code",
   "execution_count": 13,
   "metadata": {
    "tags": []
   },
   "outputs": [
    {
     "data": {
      "text/plain": [
       "Ellipsis"
      ]
     },
     "execution_count": 13,
     "metadata": {},
     "output_type": "execute_result"
    }
   ],
   "source": [
    "..."
   ]
  },
  {
   "cell_type": "markdown",
   "metadata": {},
   "source": [
    "<!-- END QUESTION -->\n",
    "\n",
    "<br><br>"
   ]
  },
  {
   "cell_type": "markdown",
   "metadata": {},
   "source": [
    "<!-- BEGIN QUESTION -->\n",
    "\n",
    "## (Optional) 4. Feature engineering <a name=\"4\"></a>\n",
    "<hr>\n",
    "rubric={points:1}\n",
    "\n",
    "**Your tasks:**\n",
    "\n",
    "1. Carry out feature engineering. In other words, extract new features relevant for the problem and work with your new feature set in the following exercises. You may have to go back and forth between feature engineering and preprocessing. "
   ]
  },
  {
   "cell_type": "markdown",
   "metadata": {},
   "source": [
    "<div class=\"alert alert-warning\">\n",
    "    \n",
    "Solution_4\n",
    "    \n",
    "</div>"
   ]
  },
  {
   "cell_type": "markdown",
   "metadata": {},
   "source": [
    "<!-- END QUESTION -->\n",
    "\n",
    "<br><br>"
   ]
  },
  {
   "cell_type": "markdown",
   "metadata": {},
   "source": [
    "<!-- BEGIN QUESTION -->\n",
    "\n",
    "## 5. Preprocessing and transformations <a name=\"5\"></a>\n",
    "<hr>\n",
    "rubric={points:10}\n",
    "\n",
    "**Your tasks:**\n",
    "\n",
    "1. Identify different feature types and the transformations you would apply on each feature type. \n",
    "2. Define a column transformer, if necessary. "
   ]
  },
  {
   "cell_type": "markdown",
   "metadata": {},
   "source": [
    "<div class=\"alert alert-warning\">\n",
    "    \n",
    "Solution_5\n",
    "    \n",
    "</div>"
   ]
  },
  {
   "cell_type": "code",
   "execution_count": 14,
   "metadata": {
    "tags": []
   },
   "outputs": [],
   "source": [
    "#in this box, I am adding features I think might have an influence and a description of how I got them from the data provided\n",
    "\n",
    "#the amount spent in each month x is equal to bill(x) - bill(x+1) + pay(x+1)\n",
    "#we can't know the ammount spent in month 6 because we don't have information on month 7\n",
    "#however, we can add bill(x) - bill(x+1) + pay(x+1) for month 1 (September) through month 5 (May)\n",
    "#many of the bills cancel to give a formula of: bill(1) + pay(2) + pay(3) + pay(4) + pay(5) + pay(6) - bill(6)\n",
    "#for the total ammount spent across the previous 5 months\n",
    "X_train[\"SPENT\"] = X_train[\"BILL_AMT1\"] + X_train[\"PAY_AMT2\"] + X_train[\"PAY_AMT3\"] + X_train[\"PAY_AMT4\"] + X_train[\"PAY_AMT5\"] + X_train[\"PAY_AMT5\"] + X_train[\"PAY_AMT6\"] - X_train[\"BILL_AMT6\"]\n",
    "X_test[\"SPENT\"] = X_test[\"BILL_AMT1\"] + X_test[\"PAY_AMT2\"] + X_test[\"PAY_AMT3\"] + X_test[\"PAY_AMT4\"] + X_test[\"PAY_AMT5\"] + X_test[\"PAY_AMT5\"] + X_test[\"PAY_AMT6\"] - X_test[\"BILL_AMT6\"]                             \n",
    "\n",
    "#because I am intending to get a ratio of spent to paid, I need to find the ammount paid in only the past 5 months\n",
    "#instead of all months, which gives pay(1) + pay(2) + pay(3) + pay(4) + pay(5)\n",
    "X_train[\"PAID\"] = X_train[\"PAY_AMT1\"] + X_train[\"PAY_AMT2\"] + X_train[\"PAY_AMT3\"] + X_train[\"PAY_AMT4\"] + X_train[\"PAY_AMT5\"] + X_train[\"PAY_AMT5\"]\n",
    "X_test[\"PAID\"] = X_test[\"PAY_AMT1\"] + X_test[\"PAY_AMT2\"] + X_test[\"PAY_AMT3\"] + X_test[\"PAY_AMT4\"] + X_test[\"PAY_AMT5\"] + X_test[\"PAY_AMT5\"]\n",
    "\n",
    "X_train[\"PAID_TO_SPENT\"] = X_train[\"PAID\"] / (X_train[\"SPENT\"] + .01) #add .01 to prevent dividing by 0\n",
    "X_test[\"PAID_TO_SPENT\"] = X_test[\"PAID\"] / (X_test[\"SPENT\"] + .01)\n",
    "\n",
    "X_train[\"SPENT_TO_LIMIT\"] = X_train[\"SPENT\"] / (X_train[\"LIMIT_BAL\"] + .01) #add .01 to prevent dividing by 0\n",
    "X_test[\"SPENT_TO_LIMIT\"] = X_test[\"SPENT\"] / (X_test[\"LIMIT_BAL\"] + .01)\n",
    "\n",
    "X_train[\"BILL1_TO_LIMIT\"] = X_train[\"BILL_AMT1\"] / (X_train[\"LIMIT_BAL\"] + .01) #add .01 to prevent dividing by 0\n",
    "X_test[\"BILL1_TO_LIMIT\"] = X_test[\"BILL_AMT1\"] / (X_test[\"LIMIT_BAL\"] + .01)\n",
    "\n",
    "#both 5 and 6 mean unknown\n",
    "X_train[\"EDUCATION\"].replace(6, 5, inplace=True)\n",
    "X_test[\"EDUCATION\"].replace(6, 5, inplace=True)"
   ]
  },
  {
   "cell_type": "code",
   "execution_count": 15,
   "metadata": {
    "tags": []
   },
   "outputs": [
    {
     "data": {
      "text/html": [
       "<div>\n",
       "<style scoped>\n",
       "    .dataframe tbody tr th:only-of-type {\n",
       "        vertical-align: middle;\n",
       "    }\n",
       "\n",
       "    .dataframe tbody tr th {\n",
       "        vertical-align: top;\n",
       "    }\n",
       "\n",
       "    .dataframe thead th {\n",
       "        text-align: right;\n",
       "    }\n",
       "</style>\n",
       "<table border=\"1\" class=\"dataframe\">\n",
       "  <thead>\n",
       "    <tr style=\"text-align: right;\">\n",
       "      <th></th>\n",
       "      <th>ID</th>\n",
       "      <th>LIMIT_BAL</th>\n",
       "      <th>SEX</th>\n",
       "      <th>EDUCATION</th>\n",
       "      <th>MARRIAGE</th>\n",
       "      <th>AGE</th>\n",
       "      <th>PAY_0</th>\n",
       "      <th>PAY_2</th>\n",
       "      <th>PAY_3</th>\n",
       "      <th>PAY_4</th>\n",
       "      <th>...</th>\n",
       "      <th>PAY_AMT2</th>\n",
       "      <th>PAY_AMT3</th>\n",
       "      <th>PAY_AMT4</th>\n",
       "      <th>PAY_AMT5</th>\n",
       "      <th>PAY_AMT6</th>\n",
       "      <th>SPENT</th>\n",
       "      <th>PAID</th>\n",
       "      <th>PAID_TO_SPENT</th>\n",
       "      <th>SPENT_TO_LIMIT</th>\n",
       "      <th>BILL1_TO_LIMIT</th>\n",
       "    </tr>\n",
       "  </thead>\n",
       "  <tbody>\n",
       "    <tr>\n",
       "      <th>count</th>\n",
       "      <td>21000.000000</td>\n",
       "      <td>21000.000000</td>\n",
       "      <td>21000.000000</td>\n",
       "      <td>21000.000000</td>\n",
       "      <td>21000.000000</td>\n",
       "      <td>21000.000000</td>\n",
       "      <td>21000.000000</td>\n",
       "      <td>21000.000000</td>\n",
       "      <td>21000.000000</td>\n",
       "      <td>21000.000000</td>\n",
       "      <td>...</td>\n",
       "      <td>2.100000e+04</td>\n",
       "      <td>21000.000000</td>\n",
       "      <td>21000.000000</td>\n",
       "      <td>21000.000000</td>\n",
       "      <td>21000.000000</td>\n",
       "      <td>2.100000e+04</td>\n",
       "      <td>2.100000e+04</td>\n",
       "      <td>2.100000e+04</td>\n",
       "      <td>21000.000000</td>\n",
       "      <td>21000.000000</td>\n",
       "    </tr>\n",
       "    <tr>\n",
       "      <th>mean</th>\n",
       "      <td>14962.348238</td>\n",
       "      <td>167880.651429</td>\n",
       "      <td>1.600762</td>\n",
       "      <td>1.850476</td>\n",
       "      <td>1.554000</td>\n",
       "      <td>35.500810</td>\n",
       "      <td>-0.015429</td>\n",
       "      <td>-0.137095</td>\n",
       "      <td>-0.171619</td>\n",
       "      <td>-0.225238</td>\n",
       "      <td>...</td>\n",
       "      <td>5.895027e+03</td>\n",
       "      <td>5311.432286</td>\n",
       "      <td>4774.021381</td>\n",
       "      <td>4751.850095</td>\n",
       "      <td>5237.762190</td>\n",
       "      <td>4.306231e+04</td>\n",
       "      <td>3.115777e+04</td>\n",
       "      <td>4.328499e+02</td>\n",
       "      <td>0.328628</td>\n",
       "      <td>0.423636</td>\n",
       "    </tr>\n",
       "    <tr>\n",
       "      <th>std</th>\n",
       "      <td>8650.734050</td>\n",
       "      <td>130202.682167</td>\n",
       "      <td>0.489753</td>\n",
       "      <td>0.785254</td>\n",
       "      <td>0.521675</td>\n",
       "      <td>9.212644</td>\n",
       "      <td>1.120465</td>\n",
       "      <td>1.194506</td>\n",
       "      <td>1.196123</td>\n",
       "      <td>1.168556</td>\n",
       "      <td>...</td>\n",
       "      <td>2.180143e+04</td>\n",
       "      <td>18377.997079</td>\n",
       "      <td>15434.136142</td>\n",
       "      <td>15228.193125</td>\n",
       "      <td>18116.846563</td>\n",
       "      <td>7.194694e+04</td>\n",
       "      <td>6.253061e+04</td>\n",
       "      <td>1.478602e+04</td>\n",
       "      <td>0.433782</td>\n",
       "      <td>0.413183</td>\n",
       "    </tr>\n",
       "    <tr>\n",
       "      <th>min</th>\n",
       "      <td>1.000000</td>\n",
       "      <td>10000.000000</td>\n",
       "      <td>1.000000</td>\n",
       "      <td>0.000000</td>\n",
       "      <td>0.000000</td>\n",
       "      <td>21.000000</td>\n",
       "      <td>-2.000000</td>\n",
       "      <td>-2.000000</td>\n",
       "      <td>-2.000000</td>\n",
       "      <td>-2.000000</td>\n",
       "      <td>...</td>\n",
       "      <td>0.000000e+00</td>\n",
       "      <td>0.000000</td>\n",
       "      <td>0.000000</td>\n",
       "      <td>0.000000</td>\n",
       "      <td>0.000000</td>\n",
       "      <td>-3.200670e+05</td>\n",
       "      <td>0.000000e+00</td>\n",
       "      <td>-2.841206e+03</td>\n",
       "      <td>-0.868899</td>\n",
       "      <td>-0.230900</td>\n",
       "    </tr>\n",
       "    <tr>\n",
       "      <th>25%</th>\n",
       "      <td>7498.750000</td>\n",
       "      <td>50000.000000</td>\n",
       "      <td>1.000000</td>\n",
       "      <td>1.000000</td>\n",
       "      <td>1.000000</td>\n",
       "      <td>28.000000</td>\n",
       "      <td>-1.000000</td>\n",
       "      <td>-1.000000</td>\n",
       "      <td>-1.000000</td>\n",
       "      <td>-1.000000</td>\n",
       "      <td>...</td>\n",
       "      <td>8.200000e+02</td>\n",
       "      <td>390.000000</td>\n",
       "      <td>266.000000</td>\n",
       "      <td>234.000000</td>\n",
       "      <td>110.750000</td>\n",
       "      <td>6.086500e+03</td>\n",
       "      <td>6.406750e+03</td>\n",
       "      <td>3.463767e-01</td>\n",
       "      <td>0.059481</td>\n",
       "      <td>0.022372</td>\n",
       "    </tr>\n",
       "    <tr>\n",
       "      <th>50%</th>\n",
       "      <td>14960.500000</td>\n",
       "      <td>140000.000000</td>\n",
       "      <td>2.000000</td>\n",
       "      <td>2.000000</td>\n",
       "      <td>2.000000</td>\n",
       "      <td>34.000000</td>\n",
       "      <td>0.000000</td>\n",
       "      <td>0.000000</td>\n",
       "      <td>0.000000</td>\n",
       "      <td>0.000000</td>\n",
       "      <td>...</td>\n",
       "      <td>2.007000e+03</td>\n",
       "      <td>1809.500000</td>\n",
       "      <td>1500.000000</td>\n",
       "      <td>1500.000000</td>\n",
       "      <td>1500.000000</td>\n",
       "      <td>2.060200e+04</td>\n",
       "      <td>1.386600e+04</td>\n",
       "      <td>8.158214e-01</td>\n",
       "      <td>0.179846</td>\n",
       "      <td>0.314359</td>\n",
       "    </tr>\n",
       "    <tr>\n",
       "      <th>75%</th>\n",
       "      <td>22458.250000</td>\n",
       "      <td>240000.000000</td>\n",
       "      <td>2.000000</td>\n",
       "      <td>2.000000</td>\n",
       "      <td>2.000000</td>\n",
       "      <td>41.000000</td>\n",
       "      <td>0.000000</td>\n",
       "      <td>0.000000</td>\n",
       "      <td>0.000000</td>\n",
       "      <td>0.000000</td>\n",
       "      <td>...</td>\n",
       "      <td>5.000000e+03</td>\n",
       "      <td>4628.500000</td>\n",
       "      <td>4021.250000</td>\n",
       "      <td>4016.000000</td>\n",
       "      <td>4000.000000</td>\n",
       "      <td>5.096350e+04</td>\n",
       "      <td>3.256200e+04</td>\n",
       "      <td>1.322808e+00</td>\n",
       "      <td>0.462633</td>\n",
       "      <td>0.828187</td>\n",
       "    </tr>\n",
       "    <tr>\n",
       "      <th>max</th>\n",
       "      <td>30000.000000</td>\n",
       "      <td>1000000.000000</td>\n",
       "      <td>2.000000</td>\n",
       "      <td>5.000000</td>\n",
       "      <td>3.000000</td>\n",
       "      <td>79.000000</td>\n",
       "      <td>8.000000</td>\n",
       "      <td>8.000000</td>\n",
       "      <td>8.000000</td>\n",
       "      <td>8.000000</td>\n",
       "      <td>...</td>\n",
       "      <td>1.227082e+06</td>\n",
       "      <td>896040.000000</td>\n",
       "      <td>621000.000000</td>\n",
       "      <td>426529.000000</td>\n",
       "      <td>528666.000000</td>\n",
       "      <td>2.780085e+06</td>\n",
       "      <td>3.639066e+06</td>\n",
       "      <td>1.320600e+06</td>\n",
       "      <td>15.160536</td>\n",
       "      <td>6.455297</td>\n",
       "    </tr>\n",
       "  </tbody>\n",
       "</table>\n",
       "<p>8 rows × 29 columns</p>\n",
       "</div>"
      ],
      "text/plain": [
       "                 ID       LIMIT_BAL           SEX     EDUCATION      MARRIAGE  \\\n",
       "count  21000.000000    21000.000000  21000.000000  21000.000000  21000.000000   \n",
       "mean   14962.348238   167880.651429      1.600762      1.850476      1.554000   \n",
       "std     8650.734050   130202.682167      0.489753      0.785254      0.521675   \n",
       "min        1.000000    10000.000000      1.000000      0.000000      0.000000   \n",
       "25%     7498.750000    50000.000000      1.000000      1.000000      1.000000   \n",
       "50%    14960.500000   140000.000000      2.000000      2.000000      2.000000   \n",
       "75%    22458.250000   240000.000000      2.000000      2.000000      2.000000   \n",
       "max    30000.000000  1000000.000000      2.000000      5.000000      3.000000   \n",
       "\n",
       "                AGE         PAY_0         PAY_2         PAY_3         PAY_4  \\\n",
       "count  21000.000000  21000.000000  21000.000000  21000.000000  21000.000000   \n",
       "mean      35.500810     -0.015429     -0.137095     -0.171619     -0.225238   \n",
       "std        9.212644      1.120465      1.194506      1.196123      1.168556   \n",
       "min       21.000000     -2.000000     -2.000000     -2.000000     -2.000000   \n",
       "25%       28.000000     -1.000000     -1.000000     -1.000000     -1.000000   \n",
       "50%       34.000000      0.000000      0.000000      0.000000      0.000000   \n",
       "75%       41.000000      0.000000      0.000000      0.000000      0.000000   \n",
       "max       79.000000      8.000000      8.000000      8.000000      8.000000   \n",
       "\n",
       "       ...      PAY_AMT2       PAY_AMT3       PAY_AMT4       PAY_AMT5  \\\n",
       "count  ...  2.100000e+04   21000.000000   21000.000000   21000.000000   \n",
       "mean   ...  5.895027e+03    5311.432286    4774.021381    4751.850095   \n",
       "std    ...  2.180143e+04   18377.997079   15434.136142   15228.193125   \n",
       "min    ...  0.000000e+00       0.000000       0.000000       0.000000   \n",
       "25%    ...  8.200000e+02     390.000000     266.000000     234.000000   \n",
       "50%    ...  2.007000e+03    1809.500000    1500.000000    1500.000000   \n",
       "75%    ...  5.000000e+03    4628.500000    4021.250000    4016.000000   \n",
       "max    ...  1.227082e+06  896040.000000  621000.000000  426529.000000   \n",
       "\n",
       "            PAY_AMT6         SPENT          PAID  PAID_TO_SPENT  \\\n",
       "count   21000.000000  2.100000e+04  2.100000e+04   2.100000e+04   \n",
       "mean     5237.762190  4.306231e+04  3.115777e+04   4.328499e+02   \n",
       "std     18116.846563  7.194694e+04  6.253061e+04   1.478602e+04   \n",
       "min         0.000000 -3.200670e+05  0.000000e+00  -2.841206e+03   \n",
       "25%       110.750000  6.086500e+03  6.406750e+03   3.463767e-01   \n",
       "50%      1500.000000  2.060200e+04  1.386600e+04   8.158214e-01   \n",
       "75%      4000.000000  5.096350e+04  3.256200e+04   1.322808e+00   \n",
       "max    528666.000000  2.780085e+06  3.639066e+06   1.320600e+06   \n",
       "\n",
       "       SPENT_TO_LIMIT  BILL1_TO_LIMIT  \n",
       "count    21000.000000    21000.000000  \n",
       "mean         0.328628        0.423636  \n",
       "std          0.433782        0.413183  \n",
       "min         -0.868899       -0.230900  \n",
       "25%          0.059481        0.022372  \n",
       "50%          0.179846        0.314359  \n",
       "75%          0.462633        0.828187  \n",
       "max         15.160536        6.455297  \n",
       "\n",
       "[8 rows x 29 columns]"
      ]
     },
     "execution_count": 15,
     "metadata": {},
     "output_type": "execute_result"
    }
   ],
   "source": [
    "#defining numeric/binary/categorical/passthrough/drop features\n",
    "numeric_features = [\"LIMIT_BAL\", \"AGE\", \"PAY_0\", \"PAY_2\", \"PAY_3\", \"PAY_4\", \"PAY_5\", \"PAY_6\", \"BILL_AMT1\", \"BILL_AMT2\", \"BILL_AMT3\", \"BILL_AMT4\", \"BILL_AMT5\", \"BILL_AMT6\", \"PAY_AMT1\", \"PAY_AMT2\", \"PAY_AMT3\", \"PAY_AMT4\", \"PAY_AMT5\", \"PAY_AMT6\", \"SPENT\", \"PAID\", \"PAID_TO_SPENT\", \"SPENT_TO_LIMIT\", \"BILL1_TO_LIMIT\"]\n",
    "binary_features = [\"SEX\"]\n",
    "categorical_features = [\"MARRIAGE\"]\n",
    "passthrough_features = [\"EDUCATION\"]\n",
    "drop_features = [\"ID\"]\n",
    "\n",
    "X_train.describe()"
   ]
  },
  {
   "cell_type": "code",
   "execution_count": 16,
   "metadata": {
    "tags": []
   },
   "outputs": [],
   "source": [
    "#making column transformer\n",
    "ct = make_column_transformer(\n",
    "    (StandardScaler(), numeric_features),\n",
    "    (OneHotEncoder(drop='if_binary'), binary_features),\n",
    "    (make_pipeline(SimpleImputer(missing_values=0, strategy='most_frequent'), OneHotEncoder()), categorical_features),\n",
    "    (SimpleImputer(missing_values=0, strategy='most_frequent'), passthrough_features),\n",
    "    (\"drop\", drop_features),\n",
    ")"
   ]
  },
  {
   "cell_type": "markdown",
   "metadata": {},
   "source": [
    "<!-- END QUESTION -->\n",
    "\n",
    "<br><br>"
   ]
  },
  {
   "cell_type": "markdown",
   "metadata": {},
   "source": [
    "<!-- BEGIN QUESTION -->\n",
    "\n",
    "## 6. Baseline model <a name=\"6\"></a>\n",
    "<hr>\n",
    "rubric={points:2}\n",
    "\n",
    "**Your tasks:**\n",
    "1. Try `scikit-learn`'s baseline model and report results."
   ]
  },
  {
   "cell_type": "markdown",
   "metadata": {},
   "source": [
    "<div class=\"alert alert-warning\">\n",
    "    \n",
    "Solution_6\n",
    "    \n",
    "</div>"
   ]
  },
  {
   "cell_type": "code",
   "execution_count": 17,
   "metadata": {
    "tags": []
   },
   "outputs": [],
   "source": [
    "dummy_pipe = make_pipeline(ct, DummyClassifier())\n"
   ]
  },
  {
   "cell_type": "code",
   "execution_count": 18,
   "metadata": {
    "tags": []
   },
   "outputs": [
    {
     "data": {
      "text/html": [
       "<style>#sk-container-id-1 {color: black;background-color: white;}#sk-container-id-1 pre{padding: 0;}#sk-container-id-1 div.sk-toggleable {background-color: white;}#sk-container-id-1 label.sk-toggleable__label {cursor: pointer;display: block;width: 100%;margin-bottom: 0;padding: 0.3em;box-sizing: border-box;text-align: center;}#sk-container-id-1 label.sk-toggleable__label-arrow:before {content: \"▸\";float: left;margin-right: 0.25em;color: #696969;}#sk-container-id-1 label.sk-toggleable__label-arrow:hover:before {color: black;}#sk-container-id-1 div.sk-estimator:hover label.sk-toggleable__label-arrow:before {color: black;}#sk-container-id-1 div.sk-toggleable__content {max-height: 0;max-width: 0;overflow: hidden;text-align: left;background-color: #f0f8ff;}#sk-container-id-1 div.sk-toggleable__content pre {margin: 0.2em;color: black;border-radius: 0.25em;background-color: #f0f8ff;}#sk-container-id-1 input.sk-toggleable__control:checked~div.sk-toggleable__content {max-height: 200px;max-width: 100%;overflow: auto;}#sk-container-id-1 input.sk-toggleable__control:checked~label.sk-toggleable__label-arrow:before {content: \"▾\";}#sk-container-id-1 div.sk-estimator input.sk-toggleable__control:checked~label.sk-toggleable__label {background-color: #d4ebff;}#sk-container-id-1 div.sk-label input.sk-toggleable__control:checked~label.sk-toggleable__label {background-color: #d4ebff;}#sk-container-id-1 input.sk-hidden--visually {border: 0;clip: rect(1px 1px 1px 1px);clip: rect(1px, 1px, 1px, 1px);height: 1px;margin: -1px;overflow: hidden;padding: 0;position: absolute;width: 1px;}#sk-container-id-1 div.sk-estimator {font-family: monospace;background-color: #f0f8ff;border: 1px dotted black;border-radius: 0.25em;box-sizing: border-box;margin-bottom: 0.5em;}#sk-container-id-1 div.sk-estimator:hover {background-color: #d4ebff;}#sk-container-id-1 div.sk-parallel-item::after {content: \"\";width: 100%;border-bottom: 1px solid gray;flex-grow: 1;}#sk-container-id-1 div.sk-label:hover label.sk-toggleable__label {background-color: #d4ebff;}#sk-container-id-1 div.sk-serial::before {content: \"\";position: absolute;border-left: 1px solid gray;box-sizing: border-box;top: 0;bottom: 0;left: 50%;z-index: 0;}#sk-container-id-1 div.sk-serial {display: flex;flex-direction: column;align-items: center;background-color: white;padding-right: 0.2em;padding-left: 0.2em;position: relative;}#sk-container-id-1 div.sk-item {position: relative;z-index: 1;}#sk-container-id-1 div.sk-parallel {display: flex;align-items: stretch;justify-content: center;background-color: white;position: relative;}#sk-container-id-1 div.sk-item::before, #sk-container-id-1 div.sk-parallel-item::before {content: \"\";position: absolute;border-left: 1px solid gray;box-sizing: border-box;top: 0;bottom: 0;left: 50%;z-index: -1;}#sk-container-id-1 div.sk-parallel-item {display: flex;flex-direction: column;z-index: 1;position: relative;background-color: white;}#sk-container-id-1 div.sk-parallel-item:first-child::after {align-self: flex-end;width: 50%;}#sk-container-id-1 div.sk-parallel-item:last-child::after {align-self: flex-start;width: 50%;}#sk-container-id-1 div.sk-parallel-item:only-child::after {width: 0;}#sk-container-id-1 div.sk-dashed-wrapped {border: 1px dashed gray;margin: 0 0.4em 0.5em 0.4em;box-sizing: border-box;padding-bottom: 0.4em;background-color: white;}#sk-container-id-1 div.sk-label label {font-family: monospace;font-weight: bold;display: inline-block;line-height: 1.2em;}#sk-container-id-1 div.sk-label-container {text-align: center;}#sk-container-id-1 div.sk-container {/* jupyter's `normalize.less` sets `[hidden] { display: none; }` but bootstrap.min.css set `[hidden] { display: none !important; }` so we also need the `!important` here to be able to override the default hidden behavior on the sphinx rendered scikit-learn.org. See: https://github.com/scikit-learn/scikit-learn/issues/21755 */display: inline-block !important;position: relative;}#sk-container-id-1 div.sk-text-repr-fallback {display: none;}</style><div id=\"sk-container-id-1\" class=\"sk-top-container\"><div class=\"sk-text-repr-fallback\"><pre>Pipeline(steps=[(&#x27;columntransformer&#x27;,\n",
       "                 ColumnTransformer(transformers=[(&#x27;standardscaler&#x27;,\n",
       "                                                  StandardScaler(),\n",
       "                                                  [&#x27;LIMIT_BAL&#x27;, &#x27;AGE&#x27;, &#x27;PAY_0&#x27;,\n",
       "                                                   &#x27;PAY_2&#x27;, &#x27;PAY_3&#x27;, &#x27;PAY_4&#x27;,\n",
       "                                                   &#x27;PAY_5&#x27;, &#x27;PAY_6&#x27;,\n",
       "                                                   &#x27;BILL_AMT1&#x27;, &#x27;BILL_AMT2&#x27;,\n",
       "                                                   &#x27;BILL_AMT3&#x27;, &#x27;BILL_AMT4&#x27;,\n",
       "                                                   &#x27;BILL_AMT5&#x27;, &#x27;BILL_AMT6&#x27;,\n",
       "                                                   &#x27;PAY_AMT1&#x27;, &#x27;PAY_AMT2&#x27;,\n",
       "                                                   &#x27;PAY_AMT3&#x27;, &#x27;PAY_AMT4&#x27;,\n",
       "                                                   &#x27;PAY_AMT5&#x27;, &#x27;PAY_AMT6&#x27;,\n",
       "                                                   &#x27;SPENT&#x27;, &#x27;PAID&#x27;,\n",
       "                                                   &#x27;PAID_TO_SPENT&#x27;,\n",
       "                                                   &#x27;SPENT_TO_...\n",
       "                                                 (&#x27;onehotencoder&#x27;,\n",
       "                                                  OneHotEncoder(drop=&#x27;if_binary&#x27;),\n",
       "                                                  [&#x27;SEX&#x27;]),\n",
       "                                                 (&#x27;pipeline&#x27;,\n",
       "                                                  Pipeline(steps=[(&#x27;simpleimputer&#x27;,\n",
       "                                                                   SimpleImputer(missing_values=0,\n",
       "                                                                                 strategy=&#x27;most_frequent&#x27;)),\n",
       "                                                                  (&#x27;onehotencoder&#x27;,\n",
       "                                                                   OneHotEncoder())]),\n",
       "                                                  [&#x27;MARRIAGE&#x27;]),\n",
       "                                                 (&#x27;simpleimputer&#x27;,\n",
       "                                                  SimpleImputer(missing_values=0,\n",
       "                                                                strategy=&#x27;most_frequent&#x27;),\n",
       "                                                  [&#x27;EDUCATION&#x27;]),\n",
       "                                                 (&#x27;drop&#x27;, &#x27;drop&#x27;, [&#x27;ID&#x27;])])),\n",
       "                (&#x27;dummyclassifier&#x27;, DummyClassifier())])</pre><b>In a Jupyter environment, please rerun this cell to show the HTML representation or trust the notebook. <br />On GitHub, the HTML representation is unable to render, please try loading this page with nbviewer.org.</b></div><div class=\"sk-container\" hidden><div class=\"sk-item sk-dashed-wrapped\"><div class=\"sk-label-container\"><div class=\"sk-label sk-toggleable\"><input class=\"sk-toggleable__control sk-hidden--visually\" id=\"sk-estimator-id-1\" type=\"checkbox\" ><label for=\"sk-estimator-id-1\" class=\"sk-toggleable__label sk-toggleable__label-arrow\">Pipeline</label><div class=\"sk-toggleable__content\"><pre>Pipeline(steps=[(&#x27;columntransformer&#x27;,\n",
       "                 ColumnTransformer(transformers=[(&#x27;standardscaler&#x27;,\n",
       "                                                  StandardScaler(),\n",
       "                                                  [&#x27;LIMIT_BAL&#x27;, &#x27;AGE&#x27;, &#x27;PAY_0&#x27;,\n",
       "                                                   &#x27;PAY_2&#x27;, &#x27;PAY_3&#x27;, &#x27;PAY_4&#x27;,\n",
       "                                                   &#x27;PAY_5&#x27;, &#x27;PAY_6&#x27;,\n",
       "                                                   &#x27;BILL_AMT1&#x27;, &#x27;BILL_AMT2&#x27;,\n",
       "                                                   &#x27;BILL_AMT3&#x27;, &#x27;BILL_AMT4&#x27;,\n",
       "                                                   &#x27;BILL_AMT5&#x27;, &#x27;BILL_AMT6&#x27;,\n",
       "                                                   &#x27;PAY_AMT1&#x27;, &#x27;PAY_AMT2&#x27;,\n",
       "                                                   &#x27;PAY_AMT3&#x27;, &#x27;PAY_AMT4&#x27;,\n",
       "                                                   &#x27;PAY_AMT5&#x27;, &#x27;PAY_AMT6&#x27;,\n",
       "                                                   &#x27;SPENT&#x27;, &#x27;PAID&#x27;,\n",
       "                                                   &#x27;PAID_TO_SPENT&#x27;,\n",
       "                                                   &#x27;SPENT_TO_...\n",
       "                                                 (&#x27;onehotencoder&#x27;,\n",
       "                                                  OneHotEncoder(drop=&#x27;if_binary&#x27;),\n",
       "                                                  [&#x27;SEX&#x27;]),\n",
       "                                                 (&#x27;pipeline&#x27;,\n",
       "                                                  Pipeline(steps=[(&#x27;simpleimputer&#x27;,\n",
       "                                                                   SimpleImputer(missing_values=0,\n",
       "                                                                                 strategy=&#x27;most_frequent&#x27;)),\n",
       "                                                                  (&#x27;onehotencoder&#x27;,\n",
       "                                                                   OneHotEncoder())]),\n",
       "                                                  [&#x27;MARRIAGE&#x27;]),\n",
       "                                                 (&#x27;simpleimputer&#x27;,\n",
       "                                                  SimpleImputer(missing_values=0,\n",
       "                                                                strategy=&#x27;most_frequent&#x27;),\n",
       "                                                  [&#x27;EDUCATION&#x27;]),\n",
       "                                                 (&#x27;drop&#x27;, &#x27;drop&#x27;, [&#x27;ID&#x27;])])),\n",
       "                (&#x27;dummyclassifier&#x27;, DummyClassifier())])</pre></div></div></div><div class=\"sk-serial\"><div class=\"sk-item sk-dashed-wrapped\"><div class=\"sk-label-container\"><div class=\"sk-label sk-toggleable\"><input class=\"sk-toggleable__control sk-hidden--visually\" id=\"sk-estimator-id-2\" type=\"checkbox\" ><label for=\"sk-estimator-id-2\" class=\"sk-toggleable__label sk-toggleable__label-arrow\">columntransformer: ColumnTransformer</label><div class=\"sk-toggleable__content\"><pre>ColumnTransformer(transformers=[(&#x27;standardscaler&#x27;, StandardScaler(),\n",
       "                                 [&#x27;LIMIT_BAL&#x27;, &#x27;AGE&#x27;, &#x27;PAY_0&#x27;, &#x27;PAY_2&#x27;, &#x27;PAY_3&#x27;,\n",
       "                                  &#x27;PAY_4&#x27;, &#x27;PAY_5&#x27;, &#x27;PAY_6&#x27;, &#x27;BILL_AMT1&#x27;,\n",
       "                                  &#x27;BILL_AMT2&#x27;, &#x27;BILL_AMT3&#x27;, &#x27;BILL_AMT4&#x27;,\n",
       "                                  &#x27;BILL_AMT5&#x27;, &#x27;BILL_AMT6&#x27;, &#x27;PAY_AMT1&#x27;,\n",
       "                                  &#x27;PAY_AMT2&#x27;, &#x27;PAY_AMT3&#x27;, &#x27;PAY_AMT4&#x27;,\n",
       "                                  &#x27;PAY_AMT5&#x27;, &#x27;PAY_AMT6&#x27;, &#x27;SPENT&#x27;, &#x27;PAID&#x27;,\n",
       "                                  &#x27;PAID_TO_SPENT&#x27;, &#x27;SPENT_TO_LIMIT&#x27;,\n",
       "                                  &#x27;BILL1_TO_LIMIT&#x27;]),\n",
       "                                (&#x27;onehotencoder&#x27;,\n",
       "                                 OneHotEncoder(drop=&#x27;if_binary&#x27;), [&#x27;SEX&#x27;]),\n",
       "                                (&#x27;pipeline&#x27;,\n",
       "                                 Pipeline(steps=[(&#x27;simpleimputer&#x27;,\n",
       "                                                  SimpleImputer(missing_values=0,\n",
       "                                                                strategy=&#x27;most_frequent&#x27;)),\n",
       "                                                 (&#x27;onehotencoder&#x27;,\n",
       "                                                  OneHotEncoder())]),\n",
       "                                 [&#x27;MARRIAGE&#x27;]),\n",
       "                                (&#x27;simpleimputer&#x27;,\n",
       "                                 SimpleImputer(missing_values=0,\n",
       "                                               strategy=&#x27;most_frequent&#x27;),\n",
       "                                 [&#x27;EDUCATION&#x27;]),\n",
       "                                (&#x27;drop&#x27;, &#x27;drop&#x27;, [&#x27;ID&#x27;])])</pre></div></div></div><div class=\"sk-parallel\"><div class=\"sk-parallel-item\"><div class=\"sk-item\"><div class=\"sk-label-container\"><div class=\"sk-label sk-toggleable\"><input class=\"sk-toggleable__control sk-hidden--visually\" id=\"sk-estimator-id-3\" type=\"checkbox\" ><label for=\"sk-estimator-id-3\" class=\"sk-toggleable__label sk-toggleable__label-arrow\">standardscaler</label><div class=\"sk-toggleable__content\"><pre>[&#x27;LIMIT_BAL&#x27;, &#x27;AGE&#x27;, &#x27;PAY_0&#x27;, &#x27;PAY_2&#x27;, &#x27;PAY_3&#x27;, &#x27;PAY_4&#x27;, &#x27;PAY_5&#x27;, &#x27;PAY_6&#x27;, &#x27;BILL_AMT1&#x27;, &#x27;BILL_AMT2&#x27;, &#x27;BILL_AMT3&#x27;, &#x27;BILL_AMT4&#x27;, &#x27;BILL_AMT5&#x27;, &#x27;BILL_AMT6&#x27;, &#x27;PAY_AMT1&#x27;, &#x27;PAY_AMT2&#x27;, &#x27;PAY_AMT3&#x27;, &#x27;PAY_AMT4&#x27;, &#x27;PAY_AMT5&#x27;, &#x27;PAY_AMT6&#x27;, &#x27;SPENT&#x27;, &#x27;PAID&#x27;, &#x27;PAID_TO_SPENT&#x27;, &#x27;SPENT_TO_LIMIT&#x27;, &#x27;BILL1_TO_LIMIT&#x27;]</pre></div></div></div><div class=\"sk-serial\"><div class=\"sk-item\"><div class=\"sk-estimator sk-toggleable\"><input class=\"sk-toggleable__control sk-hidden--visually\" id=\"sk-estimator-id-4\" type=\"checkbox\" ><label for=\"sk-estimator-id-4\" class=\"sk-toggleable__label sk-toggleable__label-arrow\">StandardScaler</label><div class=\"sk-toggleable__content\"><pre>StandardScaler()</pre></div></div></div></div></div></div><div class=\"sk-parallel-item\"><div class=\"sk-item\"><div class=\"sk-label-container\"><div class=\"sk-label sk-toggleable\"><input class=\"sk-toggleable__control sk-hidden--visually\" id=\"sk-estimator-id-5\" type=\"checkbox\" ><label for=\"sk-estimator-id-5\" class=\"sk-toggleable__label sk-toggleable__label-arrow\">onehotencoder</label><div class=\"sk-toggleable__content\"><pre>[&#x27;SEX&#x27;]</pre></div></div></div><div class=\"sk-serial\"><div class=\"sk-item\"><div class=\"sk-estimator sk-toggleable\"><input class=\"sk-toggleable__control sk-hidden--visually\" id=\"sk-estimator-id-6\" type=\"checkbox\" ><label for=\"sk-estimator-id-6\" class=\"sk-toggleable__label sk-toggleable__label-arrow\">OneHotEncoder</label><div class=\"sk-toggleable__content\"><pre>OneHotEncoder(drop=&#x27;if_binary&#x27;)</pre></div></div></div></div></div></div><div class=\"sk-parallel-item\"><div class=\"sk-item\"><div class=\"sk-label-container\"><div class=\"sk-label sk-toggleable\"><input class=\"sk-toggleable__control sk-hidden--visually\" id=\"sk-estimator-id-7\" type=\"checkbox\" ><label for=\"sk-estimator-id-7\" class=\"sk-toggleable__label sk-toggleable__label-arrow\">pipeline</label><div class=\"sk-toggleable__content\"><pre>[&#x27;MARRIAGE&#x27;]</pre></div></div></div><div class=\"sk-serial\"><div class=\"sk-item\"><div class=\"sk-serial\"><div class=\"sk-item\"><div class=\"sk-estimator sk-toggleable\"><input class=\"sk-toggleable__control sk-hidden--visually\" id=\"sk-estimator-id-8\" type=\"checkbox\" ><label for=\"sk-estimator-id-8\" class=\"sk-toggleable__label sk-toggleable__label-arrow\">SimpleImputer</label><div class=\"sk-toggleable__content\"><pre>SimpleImputer(missing_values=0, strategy=&#x27;most_frequent&#x27;)</pre></div></div></div><div class=\"sk-item\"><div class=\"sk-estimator sk-toggleable\"><input class=\"sk-toggleable__control sk-hidden--visually\" id=\"sk-estimator-id-9\" type=\"checkbox\" ><label for=\"sk-estimator-id-9\" class=\"sk-toggleable__label sk-toggleable__label-arrow\">OneHotEncoder</label><div class=\"sk-toggleable__content\"><pre>OneHotEncoder()</pre></div></div></div></div></div></div></div></div><div class=\"sk-parallel-item\"><div class=\"sk-item\"><div class=\"sk-label-container\"><div class=\"sk-label sk-toggleable\"><input class=\"sk-toggleable__control sk-hidden--visually\" id=\"sk-estimator-id-10\" type=\"checkbox\" ><label for=\"sk-estimator-id-10\" class=\"sk-toggleable__label sk-toggleable__label-arrow\">simpleimputer</label><div class=\"sk-toggleable__content\"><pre>[&#x27;EDUCATION&#x27;]</pre></div></div></div><div class=\"sk-serial\"><div class=\"sk-item\"><div class=\"sk-estimator sk-toggleable\"><input class=\"sk-toggleable__control sk-hidden--visually\" id=\"sk-estimator-id-11\" type=\"checkbox\" ><label for=\"sk-estimator-id-11\" class=\"sk-toggleable__label sk-toggleable__label-arrow\">SimpleImputer</label><div class=\"sk-toggleable__content\"><pre>SimpleImputer(missing_values=0, strategy=&#x27;most_frequent&#x27;)</pre></div></div></div></div></div></div><div class=\"sk-parallel-item\"><div class=\"sk-item\"><div class=\"sk-label-container\"><div class=\"sk-label sk-toggleable\"><input class=\"sk-toggleable__control sk-hidden--visually\" id=\"sk-estimator-id-12\" type=\"checkbox\" ><label for=\"sk-estimator-id-12\" class=\"sk-toggleable__label sk-toggleable__label-arrow\">drop</label><div class=\"sk-toggleable__content\"><pre>[&#x27;ID&#x27;]</pre></div></div></div><div class=\"sk-serial\"><div class=\"sk-item\"><div class=\"sk-estimator sk-toggleable\"><input class=\"sk-toggleable__control sk-hidden--visually\" id=\"sk-estimator-id-13\" type=\"checkbox\" ><label for=\"sk-estimator-id-13\" class=\"sk-toggleable__label sk-toggleable__label-arrow\">drop</label><div class=\"sk-toggleable__content\"><pre>drop</pre></div></div></div></div></div></div></div></div><div class=\"sk-item\"><div class=\"sk-estimator sk-toggleable\"><input class=\"sk-toggleable__control sk-hidden--visually\" id=\"sk-estimator-id-14\" type=\"checkbox\" ><label for=\"sk-estimator-id-14\" class=\"sk-toggleable__label sk-toggleable__label-arrow\">DummyClassifier</label><div class=\"sk-toggleable__content\"><pre>DummyClassifier()</pre></div></div></div></div></div></div></div>"
      ],
      "text/plain": [
       "Pipeline(steps=[('columntransformer',\n",
       "                 ColumnTransformer(transformers=[('standardscaler',\n",
       "                                                  StandardScaler(),\n",
       "                                                  ['LIMIT_BAL', 'AGE', 'PAY_0',\n",
       "                                                   'PAY_2', 'PAY_3', 'PAY_4',\n",
       "                                                   'PAY_5', 'PAY_6',\n",
       "                                                   'BILL_AMT1', 'BILL_AMT2',\n",
       "                                                   'BILL_AMT3', 'BILL_AMT4',\n",
       "                                                   'BILL_AMT5', 'BILL_AMT6',\n",
       "                                                   'PAY_AMT1', 'PAY_AMT2',\n",
       "                                                   'PAY_AMT3', 'PAY_AMT4',\n",
       "                                                   'PAY_AMT5', 'PAY_AMT6',\n",
       "                                                   'SPENT', 'PAID',\n",
       "                                                   'PAID_TO_SPENT',\n",
       "                                                   'SPENT_TO_...\n",
       "                                                 ('onehotencoder',\n",
       "                                                  OneHotEncoder(drop='if_binary'),\n",
       "                                                  ['SEX']),\n",
       "                                                 ('pipeline',\n",
       "                                                  Pipeline(steps=[('simpleimputer',\n",
       "                                                                   SimpleImputer(missing_values=0,\n",
       "                                                                                 strategy='most_frequent')),\n",
       "                                                                  ('onehotencoder',\n",
       "                                                                   OneHotEncoder())]),\n",
       "                                                  ['MARRIAGE']),\n",
       "                                                 ('simpleimputer',\n",
       "                                                  SimpleImputer(missing_values=0,\n",
       "                                                                strategy='most_frequent'),\n",
       "                                                  ['EDUCATION']),\n",
       "                                                 ('drop', 'drop', ['ID'])])),\n",
       "                ('dummyclassifier', DummyClassifier())])"
      ]
     },
     "execution_count": 18,
     "metadata": {},
     "output_type": "execute_result"
    }
   ],
   "source": [
    "dummy_pipe.fit(X_train, y_train)\n"
   ]
  },
  {
   "cell_type": "markdown",
   "metadata": {},
   "source": [
    "<!-- END QUESTION -->\n",
    "\n"
   ]
  },
  {
   "cell_type": "code",
   "execution_count": 19,
   "metadata": {},
   "outputs": [
    {
     "name": "stdout",
     "output_type": "stream",
     "text": [
      "recall is 0, precision is undefined\n"
     ]
    },
    {
     "data": {
      "image/png": "[encoded data removed]",
      "text/plain": [
       "<Figure size 640x480 with 1 Axes>"
      ]
     },
     "metadata": {},
     "output_type": "display_data"
    }
   ],
   "source": [
    "#from lecture 9\n",
    "disp = ConfusionMatrixDisplay.from_estimator(\n",
    "    dummy_pipe,\n",
    "    X_train,\n",
    "    y_train,\n",
    "    display_labels=[\"doesn't default\", \"defaults\"],\n",
    "    values_format=\"d\",\n",
    "    cmap=plt.cm.Blues,\n",
    "    colorbar=False,\n",
    ")\n",
    "\n",
    "print(\"recall is 0, precision is undefined\") \n",
    "\n"
   ]
  },
  {
   "cell_type": "markdown",
   "metadata": {},
   "source": [
    "<br><br>"
   ]
  },
  {
   "cell_type": "markdown",
   "metadata": {},
   "source": [
    "<!-- BEGIN QUESTION -->\n",
    "\n",
    "## 7. Linear models <a name=\"7\"></a>\n",
    "<hr>\n",
    "rubric={points:10}\n",
    "\n",
    "**Your tasks:**\n",
    "\n",
    "1. Try a linear model as a first real attempt. \n",
    "2. Carry out hyperparameter tuning to explore different values for the complexity hyperparameter. \n",
    "3. Report cross-validation scores along with standard deviation. \n",
    "4. Summarize your results."
   ]
  },
  {
   "cell_type": "markdown",
   "metadata": {},
   "source": [
    "<div class=\"alert alert-warning\">\n",
    "    \n",
    "Solution_7\n",
    "    \n",
    "</div>"
   ]
  },
  {
   "cell_type": "markdown",
   "metadata": {},
   "source": [
    "I at first tried with class_weight as the default and I got a recall of only around .25, so really bad considering that I'm looking at recall as my primary scoring metric.\n",
    "However, with class_weights='balanced' the recall is MUCH better, it gets up to around .633. It's also interesting to note that the accuracy went from .81 to .7, so the accuracy is actually worse than the dummy classifier now, but I believe it to be a better model. Furthermore, there really isn't any noticible overfitting going on, the test and the train scores for accuracy, f1, recall, and precision are all roughly equal. The fact that I am at a recall of only .633 and the model continues to get more complex without improving or overfitting leads me to believe that a linear model does not fit my data all that well, so hopefully the non-linear models will work better. I've also considered the standard deviation on the resulting data and it is low enough that the scores are quite trustworthy."
   ]
  },
  {
   "cell_type": "code",
   "execution_count": 20,
   "metadata": {
    "tags": []
   },
   "outputs": [],
   "source": [
    "#taken from lecture 3\n",
    "def mean_std_cross_val_scores(model, X_train, y_train, **kwargs):\n",
    "    \"\"\"\n",
    "    Returns mean and std of cross validation\n",
    "    \"\"\"\n",
    "    scores = cross_validate(model, X_train, y_train, **kwargs)\n",
    "\n",
    "    mean_scores = pd.DataFrame(scores).mean()\n",
    "    std_scores = pd.DataFrame(scores).std()\n",
    "    out_col = []\n",
    "\n",
    "    for i in range(len(mean_scores)):\n",
    "        out_col.append((f\"%0.3f (+/- %0.3f)\" % (mean_scores[i], std_scores[i])))\n",
    "\n",
    "    return pd.Series(data=out_col, index=mean_scores.index)\n",
    "\n"
   ]
  },
  {
   "cell_type": "code",
   "execution_count": null,
   "metadata": {
    "tags": []
   },
   "outputs": [],
   "source": [
    "\n"
   ]
  },
  {
   "cell_type": "code",
   "execution_count": 21,
   "metadata": {
    "tags": []
   },
   "outputs": [
    {
     "data": {
      "text/html": [
       "<div>\n",
       "<style scoped>\n",
       "    .dataframe tbody tr th:only-of-type {\n",
       "        vertical-align: middle;\n",
       "    }\n",
       "\n",
       "    .dataframe tbody tr th {\n",
       "        vertical-align: top;\n",
       "    }\n",
       "\n",
       "    .dataframe thead th {\n",
       "        text-align: right;\n",
       "    }\n",
       "</style>\n",
       "<table border=\"1\" class=\"dataframe\">\n",
       "  <thead>\n",
       "    <tr style=\"text-align: right;\">\n",
       "      <th></th>\n",
       "      <th>fit_time</th>\n",
       "      <th>score_time</th>\n",
       "      <th>test_accuracy</th>\n",
       "      <th>train_accuracy</th>\n",
       "      <th>test_f1</th>\n",
       "      <th>train_f1</th>\n",
       "      <th>test_recall</th>\n",
       "      <th>train_recall</th>\n",
       "      <th>test_precision</th>\n",
       "      <th>train_precision</th>\n",
       "    </tr>\n",
       "  </thead>\n",
       "  <tbody>\n",
       "    <tr>\n",
       "      <th>0.0001</th>\n",
       "      <td>0.198 (+/- 0.052)</td>\n",
       "      <td>0.040 (+/- 0.006)</td>\n",
       "      <td>0.669 (+/- 0.008)</td>\n",
       "      <td>0.669 (+/- 0.002)</td>\n",
       "      <td>0.455 (+/- 0.013)</td>\n",
       "      <td>0.456 (+/- 0.002)</td>\n",
       "      <td>0.619 (+/- 0.026)</td>\n",
       "      <td>0.621 (+/- 0.002)</td>\n",
       "      <td>0.360 (+/- 0.009)</td>\n",
       "      <td>0.360 (+/- 0.003)</td>\n",
       "    </tr>\n",
       "    <tr>\n",
       "      <th>0.0010</th>\n",
       "      <td>0.263 (+/- 0.064)</td>\n",
       "      <td>0.043 (+/- 0.013)</td>\n",
       "      <td>0.697 (+/- 0.007)</td>\n",
       "      <td>0.697 (+/- 0.002)</td>\n",
       "      <td>0.479 (+/- 0.015)</td>\n",
       "      <td>0.479 (+/- 0.002)</td>\n",
       "      <td>0.624 (+/- 0.027)</td>\n",
       "      <td>0.624 (+/- 0.002)</td>\n",
       "      <td>0.388 (+/- 0.010)</td>\n",
       "      <td>0.388 (+/- 0.002)</td>\n",
       "    </tr>\n",
       "    <tr>\n",
       "      <th>0.0100</th>\n",
       "      <td>0.385 (+/- 0.122)</td>\n",
       "      <td>0.038 (+/- 0.011)</td>\n",
       "      <td>0.699 (+/- 0.008)</td>\n",
       "      <td>0.700 (+/- 0.002)</td>\n",
       "      <td>0.483 (+/- 0.014)</td>\n",
       "      <td>0.485 (+/- 0.002)</td>\n",
       "      <td>0.630 (+/- 0.024)</td>\n",
       "      <td>0.632 (+/- 0.003)</td>\n",
       "      <td>0.392 (+/- 0.010)</td>\n",
       "      <td>0.393 (+/- 0.002)</td>\n",
       "    </tr>\n",
       "    <tr>\n",
       "      <th>0.1000</th>\n",
       "      <td>0.513 (+/- 0.156)</td>\n",
       "      <td>0.035 (+/- 0.014)</td>\n",
       "      <td>0.700 (+/- 0.008)</td>\n",
       "      <td>0.700 (+/- 0.002)</td>\n",
       "      <td>0.484 (+/- 0.015)</td>\n",
       "      <td>0.485 (+/- 0.002)</td>\n",
       "      <td>0.632 (+/- 0.024)</td>\n",
       "      <td>0.633 (+/- 0.003)</td>\n",
       "      <td>0.393 (+/- 0.011)</td>\n",
       "      <td>0.393 (+/- 0.002)</td>\n",
       "    </tr>\n",
       "    <tr>\n",
       "      <th>1.0000</th>\n",
       "      <td>0.461 (+/- 0.109)</td>\n",
       "      <td>0.041 (+/- 0.009)</td>\n",
       "      <td>0.700 (+/- 0.008)</td>\n",
       "      <td>0.700 (+/- 0.002)</td>\n",
       "      <td>0.484 (+/- 0.015)</td>\n",
       "      <td>0.485 (+/- 0.002)</td>\n",
       "      <td>0.632 (+/- 0.024)</td>\n",
       "      <td>0.633 (+/- 0.003)</td>\n",
       "      <td>0.393 (+/- 0.011)</td>\n",
       "      <td>0.393 (+/- 0.002)</td>\n",
       "    </tr>\n",
       "    <tr>\n",
       "      <th>10.0000</th>\n",
       "      <td>0.416 (+/- 0.133)</td>\n",
       "      <td>0.039 (+/- 0.012)</td>\n",
       "      <td>0.700 (+/- 0.009)</td>\n",
       "      <td>0.700 (+/- 0.002)</td>\n",
       "      <td>0.484 (+/- 0.015)</td>\n",
       "      <td>0.485 (+/- 0.002)</td>\n",
       "      <td>0.632 (+/- 0.024)</td>\n",
       "      <td>0.633 (+/- 0.003)</td>\n",
       "      <td>0.393 (+/- 0.012)</td>\n",
       "      <td>0.393 (+/- 0.002)</td>\n",
       "    </tr>\n",
       "    <tr>\n",
       "      <th>100.0000</th>\n",
       "      <td>0.407 (+/- 0.119)</td>\n",
       "      <td>0.037 (+/- 0.009)</td>\n",
       "      <td>0.700 (+/- 0.009)</td>\n",
       "      <td>0.700 (+/- 0.002)</td>\n",
       "      <td>0.484 (+/- 0.015)</td>\n",
       "      <td>0.485 (+/- 0.002)</td>\n",
       "      <td>0.632 (+/- 0.024)</td>\n",
       "      <td>0.633 (+/- 0.003)</td>\n",
       "      <td>0.393 (+/- 0.012)</td>\n",
       "      <td>0.393 (+/- 0.002)</td>\n",
       "    </tr>\n",
       "    <tr>\n",
       "      <th>1000.0000</th>\n",
       "      <td>0.412 (+/- 0.124)</td>\n",
       "      <td>0.038 (+/- 0.013)</td>\n",
       "      <td>0.700 (+/- 0.009)</td>\n",
       "      <td>0.700 (+/- 0.002)</td>\n",
       "      <td>0.484 (+/- 0.015)</td>\n",
       "      <td>0.485 (+/- 0.002)</td>\n",
       "      <td>0.632 (+/- 0.024)</td>\n",
       "      <td>0.633 (+/- 0.003)</td>\n",
       "      <td>0.393 (+/- 0.012)</td>\n",
       "      <td>0.393 (+/- 0.002)</td>\n",
       "    </tr>\n",
       "  </tbody>\n",
       "</table>\n",
       "</div>"
      ],
      "text/plain": [
       "                    fit_time         score_time      test_accuracy  \\\n",
       "0.0001     0.198 (+/- 0.052)  0.040 (+/- 0.006)  0.669 (+/- 0.008)   \n",
       "0.0010     0.263 (+/- 0.064)  0.043 (+/- 0.013)  0.697 (+/- 0.007)   \n",
       "0.0100     0.385 (+/- 0.122)  0.038 (+/- 0.011)  0.699 (+/- 0.008)   \n",
       "0.1000     0.513 (+/- 0.156)  0.035 (+/- 0.014)  0.700 (+/- 0.008)   \n",
       "1.0000     0.461 (+/- 0.109)  0.041 (+/- 0.009)  0.700 (+/- 0.008)   \n",
       "10.0000    0.416 (+/- 0.133)  0.039 (+/- 0.012)  0.700 (+/- 0.009)   \n",
       "100.0000   0.407 (+/- 0.119)  0.037 (+/- 0.009)  0.700 (+/- 0.009)   \n",
       "1000.0000  0.412 (+/- 0.124)  0.038 (+/- 0.013)  0.700 (+/- 0.009)   \n",
       "\n",
       "              train_accuracy            test_f1           train_f1  \\\n",
       "0.0001     0.669 (+/- 0.002)  0.455 (+/- 0.013)  0.456 (+/- 0.002)   \n",
       "0.0010     0.697 (+/- 0.002)  0.479 (+/- 0.015)  0.479 (+/- 0.002)   \n",
       "0.0100     0.700 (+/- 0.002)  0.483 (+/- 0.014)  0.485 (+/- 0.002)   \n",
       "0.1000     0.700 (+/- 0.002)  0.484 (+/- 0.015)  0.485 (+/- 0.002)   \n",
       "1.0000     0.700 (+/- 0.002)  0.484 (+/- 0.015)  0.485 (+/- 0.002)   \n",
       "10.0000    0.700 (+/- 0.002)  0.484 (+/- 0.015)  0.485 (+/- 0.002)   \n",
       "100.0000   0.700 (+/- 0.002)  0.484 (+/- 0.015)  0.485 (+/- 0.002)   \n",
       "1000.0000  0.700 (+/- 0.002)  0.484 (+/- 0.015)  0.485 (+/- 0.002)   \n",
       "\n",
       "                 test_recall       train_recall     test_precision  \\\n",
       "0.0001     0.619 (+/- 0.026)  0.621 (+/- 0.002)  0.360 (+/- 0.009)   \n",
       "0.0010     0.624 (+/- 0.027)  0.624 (+/- 0.002)  0.388 (+/- 0.010)   \n",
       "0.0100     0.630 (+/- 0.024)  0.632 (+/- 0.003)  0.392 (+/- 0.010)   \n",
       "0.1000     0.632 (+/- 0.024)  0.633 (+/- 0.003)  0.393 (+/- 0.011)   \n",
       "1.0000     0.632 (+/- 0.024)  0.633 (+/- 0.003)  0.393 (+/- 0.011)   \n",
       "10.0000    0.632 (+/- 0.024)  0.633 (+/- 0.003)  0.393 (+/- 0.012)   \n",
       "100.0000   0.632 (+/- 0.024)  0.633 (+/- 0.003)  0.393 (+/- 0.012)   \n",
       "1000.0000  0.632 (+/- 0.024)  0.633 (+/- 0.003)  0.393 (+/- 0.012)   \n",
       "\n",
       "             train_precision  \n",
       "0.0001     0.360 (+/- 0.003)  \n",
       "0.0010     0.388 (+/- 0.002)  \n",
       "0.0100     0.393 (+/- 0.002)  \n",
       "0.1000     0.393 (+/- 0.002)  \n",
       "1.0000     0.393 (+/- 0.002)  \n",
       "10.0000    0.393 (+/- 0.002)  \n",
       "100.0000   0.393 (+/- 0.002)  \n",
       "1000.0000  0.393 (+/- 0.002)  "
      ]
     },
     "execution_count": 21,
     "metadata": {},
     "output_type": "execute_result"
    }
   ],
   "source": [
    "pipe_lr = make_pipeline(ct, LogisticRegression())\n",
    "\n",
    "param_C = {\n",
    "    \"C\": [.0001, 0.001, 0.01, 0.1, 1.0, 10, 100, 1000],\n",
    "}\n",
    "results_lr = {}\n",
    "\n",
    "for val in param_C[\"C\"]:\n",
    "    pipe_lr = make_pipeline(ct, LogisticRegression(C=val, class_weight='balanced'))\n",
    "    results_lr[val] = mean_std_cross_val_scores(pipe_lr, X_train, y_train, scoring=[\"accuracy\", \"f1\", \"recall\", \"precision\"], cv=10, n_jobs=-1, return_train_score=True)\n",
    "    \n",
    "pd.DataFrame(results_lr).T"
   ]
  },
  {
   "cell_type": "markdown",
   "metadata": {
    "tags": []
   },
   "source": []
  },
  {
   "cell_type": "markdown",
   "metadata": {},
   "source": [
    "<!-- END QUESTION -->\n",
    "\n",
    "<br><br>"
   ]
  },
  {
   "cell_type": "markdown",
   "metadata": {},
   "source": [
    "<!-- BEGIN QUESTION -->\n",
    "\n",
    "## 8. Different models <a name=\"8\"></a>\n",
    "<hr>\n",
    "rubric={points:12}\n",
    "\n",
    "**Your tasks:**\n",
    "1. Try at least 3 other models aside from a linear model. One of these models should be a tree-based ensemble model. \n",
    "2. Summarize your results in terms of overfitting/underfitting and fit and score times. Can you beat a linear model? "
   ]
  },
  {
   "cell_type": "markdown",
   "metadata": {},
   "source": [
    "<div class=\"alert alert-warning\">\n",
    "    \n",
    "Solution_8\n",
    "    \n",
    "</div>"
   ]
  },
  {
   "cell_type": "markdown",
   "metadata": {},
   "source": [
    "decision tree classifier:\n",
    "    The train scores (accuracy, f1, recall, precision) are all incredibly high (around 1) which indicates that they are overfitting very hard. The fit and score times are also quite reasonable for this model. The recall, however is significantly worse than the other models.\n",
    "    \n",
    "svm rbf:\n",
    "    The train scores combined with the test scores indicate that SVM RBF is not overfitting yet, which would mean it could be underfitting. It would not underfitting very much, however, since the train score is similar to the test score. Regardless it would definitely be worth doing more hyperparameter optimization with SVM RBF considering its test recall is on the higher end and it could improve with more optimization. Additionally, it has the best accuracy and a good f1 score, which are nice despite not being the primary metric of evaluation. Fit time and score time, however are very slow for this model. I will probably reduce the number of cross validation splits so the hyperparameter optimization of SVM RBF does not take too long. Reducing the number of features might also help with this.\n",
    "\n",
    "lightGBM:\n",
    "    similar to SVM RBF, the train scores and test scores indicate that the model is probably not overfitting yet, and it is very close to the linear model when it comes to recall. The accuracy, f1, and precision are also similar to SVM RBF. It would be worth doing hyperparameter optimization on this model as well to see if it can be improved past the linear model. Thankfully, as opposed to SVM RBF, lightGBM is much faster, and takes only slightly longer than the decision tree to fit and score."
   ]
  },
  {
   "cell_type": "code",
   "execution_count": 22,
   "metadata": {
    "tags": []
   },
   "outputs": [],
   "source": [
    "pipe_dt = make_pipeline(ct, DecisionTreeClassifier(class_weight='balanced'))\n",
    "pipe_svm = make_pipeline(ct, SVC(kernel = \"rbf\", class_weight='balanced'))\n",
    "pipe_lgbm = make_pipeline(ct, LGBMClassifier(class_weight='balanced'))"
   ]
  },
  {
   "cell_type": "code",
   "execution_count": 23,
   "metadata": {
    "tags": []
   },
   "outputs": [],
   "source": [
    "#from lecture 11\n",
    "model_results = {}\n",
    "classifiers = {\n",
    "    \"decision tree\" : (pipe_dt, 10),\n",
    "    \"svm rbf\" : (pipe_svm, 4),\n",
    "    \"lightGBM\" : (pipe_lgbm, 10),\n",
    "}\n",
    "\n",
    "for (name, tup) in classifiers.items():\n",
    "    model_results[name] = mean_std_cross_val_scores(tup[0], X_train, y_train, scoring=[\"accuracy\", \"f1\", \"recall\", \"precision\"], cv=tup[1], n_jobs=-1, return_train_score=True)"
   ]
  },
  {
   "cell_type": "code",
   "execution_count": 24,
   "metadata": {
    "tags": []
   },
   "outputs": [
    {
     "data": {
      "text/html": [
       "<div>\n",
       "<style scoped>\n",
       "    .dataframe tbody tr th:only-of-type {\n",
       "        vertical-align: middle;\n",
       "    }\n",
       "\n",
       "    .dataframe tbody tr th {\n",
       "        vertical-align: top;\n",
       "    }\n",
       "\n",
       "    .dataframe thead th {\n",
       "        text-align: right;\n",
       "    }\n",
       "</style>\n",
       "<table border=\"1\" class=\"dataframe\">\n",
       "  <thead>\n",
       "    <tr style=\"text-align: right;\">\n",
       "      <th></th>\n",
       "      <th>fit_time</th>\n",
       "      <th>score_time</th>\n",
       "      <th>test_accuracy</th>\n",
       "      <th>train_accuracy</th>\n",
       "      <th>test_f1</th>\n",
       "      <th>train_f1</th>\n",
       "      <th>test_recall</th>\n",
       "      <th>train_recall</th>\n",
       "      <th>test_precision</th>\n",
       "      <th>train_precision</th>\n",
       "    </tr>\n",
       "  </thead>\n",
       "  <tbody>\n",
       "    <tr>\n",
       "      <th>decision tree</th>\n",
       "      <td>1.175 (+/- 0.200)</td>\n",
       "      <td>0.032 (+/- 0.010)</td>\n",
       "      <td>0.730 (+/- 0.007)</td>\n",
       "      <td>0.999 (+/- 0.000)</td>\n",
       "      <td>0.395 (+/- 0.014)</td>\n",
       "      <td>0.998 (+/- 0.000)</td>\n",
       "      <td>0.394 (+/- 0.018)</td>\n",
       "      <td>1.000 (+/- 0.000)</td>\n",
       "      <td>0.396 (+/- 0.014)</td>\n",
       "      <td>0.997 (+/- 0.000)</td>\n",
       "    </tr>\n",
       "    <tr>\n",
       "      <th>svm rbf</th>\n",
       "      <td>33.658 (+/- 0.119)</td>\n",
       "      <td>13.107 (+/- 0.268)</td>\n",
       "      <td>0.779 (+/- 0.008)</td>\n",
       "      <td>0.791 (+/- 0.002)</td>\n",
       "      <td>0.538 (+/- 0.013)</td>\n",
       "      <td>0.564 (+/- 0.004)</td>\n",
       "      <td>0.576 (+/- 0.009)</td>\n",
       "      <td>0.607 (+/- 0.006)</td>\n",
       "      <td>0.504 (+/- 0.016)</td>\n",
       "      <td>0.527 (+/- 0.004)</td>\n",
       "    </tr>\n",
       "    <tr>\n",
       "      <th>lightGBM</th>\n",
       "      <td>1.251 (+/- 0.261)</td>\n",
       "      <td>0.061 (+/- 0.016)</td>\n",
       "      <td>0.768 (+/- 0.008)</td>\n",
       "      <td>0.830 (+/- 0.002)</td>\n",
       "      <td>0.541 (+/- 0.015)</td>\n",
       "      <td>0.670 (+/- 0.003)</td>\n",
       "      <td>0.612 (+/- 0.017)</td>\n",
       "      <td>0.774 (+/- 0.004)</td>\n",
       "      <td>0.485 (+/- 0.015)</td>\n",
       "      <td>0.590 (+/- 0.004)</td>\n",
       "    </tr>\n",
       "  </tbody>\n",
       "</table>\n",
       "</div>"
      ],
      "text/plain": [
       "                         fit_time          score_time      test_accuracy  \\\n",
       "decision tree   1.175 (+/- 0.200)   0.032 (+/- 0.010)  0.730 (+/- 0.007)   \n",
       "svm rbf        33.658 (+/- 0.119)  13.107 (+/- 0.268)  0.779 (+/- 0.008)   \n",
       "lightGBM        1.251 (+/- 0.261)   0.061 (+/- 0.016)  0.768 (+/- 0.008)   \n",
       "\n",
       "                  train_accuracy            test_f1           train_f1  \\\n",
       "decision tree  0.999 (+/- 0.000)  0.395 (+/- 0.014)  0.998 (+/- 0.000)   \n",
       "svm rbf        0.791 (+/- 0.002)  0.538 (+/- 0.013)  0.564 (+/- 0.004)   \n",
       "lightGBM       0.830 (+/- 0.002)  0.541 (+/- 0.015)  0.670 (+/- 0.003)   \n",
       "\n",
       "                     test_recall       train_recall     test_precision  \\\n",
       "decision tree  0.394 (+/- 0.018)  1.000 (+/- 0.000)  0.396 (+/- 0.014)   \n",
       "svm rbf        0.576 (+/- 0.009)  0.607 (+/- 0.006)  0.504 (+/- 0.016)   \n",
       "lightGBM       0.612 (+/- 0.017)  0.774 (+/- 0.004)  0.485 (+/- 0.015)   \n",
       "\n",
       "                 train_precision  \n",
       "decision tree  0.997 (+/- 0.000)  \n",
       "svm rbf        0.527 (+/- 0.004)  \n",
       "lightGBM       0.590 (+/- 0.004)  "
      ]
     },
     "execution_count": 24,
     "metadata": {},
     "output_type": "execute_result"
    }
   ],
   "source": [
    "pd.DataFrame(model_results).T"
   ]
  },
  {
   "cell_type": "markdown",
   "metadata": {},
   "source": []
  },
  {
   "cell_type": "markdown",
   "metadata": {},
   "source": [
    "<!-- END QUESTION -->\n",
    "\n",
    "<br><br>"
   ]
  },
  {
   "cell_type": "markdown",
   "metadata": {},
   "source": [
    "<!-- BEGIN QUESTION -->\n",
    "\n",
    "## (Optional) 9. Feature selection <a name=\"9\"></a>\n",
    "<hr>\n",
    "rubric={points:2}\n",
    "\n",
    "**Your tasks:**\n",
    "\n",
    "Make some attempts to select relevant features. You may try `RFECV` or forward selection for this. Do the results improve with feature selection? Summarize your results. If you see improvements in the results, keep feature selection in your pipeline. If not, you may abandon it in the next exercises. "
   ]
  },
  {
   "cell_type": "markdown",
   "metadata": {},
   "source": [
    "<div class=\"alert alert-warning\">\n",
    "    \n",
    "Solution_9\n",
    "    \n",
    "</div>"
   ]
  },
  {
   "cell_type": "markdown",
   "metadata": {},
   "source": [
    "I tried some feature selection with RFECV although it is pretty clear that it is optimizing them with respect to accuracy, I did some research into how to get RFECV to score based on\n",
    "recall and I ran into some trouble. With more time, I would have liked to to do more extensive feature selection that is scored based on recall (including on SVM despite the fact that RFE doesn't like SVM). I will be abandoning the feature selection I have done thus far."
   ]
  },
  {
   "cell_type": "code",
   "execution_count": 25,
   "metadata": {
    "tags": []
   },
   "outputs": [
    {
     "data": {
      "text/html": [
       "<div>\n",
       "<style scoped>\n",
       "    .dataframe tbody tr th:only-of-type {\n",
       "        vertical-align: middle;\n",
       "    }\n",
       "\n",
       "    .dataframe tbody tr th {\n",
       "        vertical-align: top;\n",
       "    }\n",
       "\n",
       "    .dataframe thead th {\n",
       "        text-align: right;\n",
       "    }\n",
       "</style>\n",
       "<table border=\"1\" class=\"dataframe\">\n",
       "  <thead>\n",
       "    <tr style=\"text-align: right;\">\n",
       "      <th></th>\n",
       "      <th>fit_time</th>\n",
       "      <th>score_time</th>\n",
       "      <th>test_accuracy</th>\n",
       "      <th>train_accuracy</th>\n",
       "      <th>test_f1</th>\n",
       "      <th>train_f1</th>\n",
       "      <th>test_recall</th>\n",
       "      <th>train_recall</th>\n",
       "      <th>test_precision</th>\n",
       "      <th>train_precision</th>\n",
       "    </tr>\n",
       "  </thead>\n",
       "  <tbody>\n",
       "    <tr>\n",
       "      <th>0</th>\n",
       "      <td>0.046 (+/- 0.019)</td>\n",
       "      <td>0.017 (+/- 0.014)</td>\n",
       "      <td>0.781 (+/- 0.009)</td>\n",
       "      <td>0.781 (+/- 0.001)</td>\n",
       "      <td>0.514 (+/- 0.014)</td>\n",
       "      <td>0.514 (+/- 0.002)</td>\n",
       "      <td>0.518 (+/- 0.014)</td>\n",
       "      <td>0.518 (+/- 0.002)</td>\n",
       "      <td>0.511 (+/- 0.021)</td>\n",
       "      <td>0.510 (+/- 0.002)</td>\n",
       "    </tr>\n",
       "  </tbody>\n",
       "</table>\n",
       "</div>"
      ],
      "text/plain": [
       "            fit_time         score_time      test_accuracy     train_accuracy  \\\n",
       "0  0.046 (+/- 0.019)  0.017 (+/- 0.014)  0.781 (+/- 0.009)  0.781 (+/- 0.001)   \n",
       "\n",
       "             test_f1           train_f1        test_recall       train_recall  \\\n",
       "0  0.514 (+/- 0.014)  0.514 (+/- 0.002)  0.518 (+/- 0.014)  0.518 (+/- 0.002)   \n",
       "\n",
       "      test_precision    train_precision  \n",
       "0  0.511 (+/- 0.021)  0.510 (+/- 0.002)  "
      ]
     },
     "execution_count": 25,
     "metadata": {},
     "output_type": "execute_result"
    }
   ],
   "source": [
    "column_names = (\n",
    "    numeric_features\n",
    "    + ct.named_transformers_[\"onehotencoder\"].get_feature_names_out().tolist()\n",
    "    + ct.named_transformers_[\"pipeline\"].get_feature_names_out().tolist()\n",
    "    + ct.named_transformers_[\"simpleimputer\"].get_feature_names_out().tolist()\n",
    ")\n",
    "X_train_transformed = pd.DataFrame(ct.fit_transform(X_train), columns=column_names)\n",
    "\n",
    "rfe_cv_lr = RFECV(LogisticRegression(C=.1, class_weight='balanced'), cv=10)\n",
    "rfe_cv_lr.fit(X_train_transformed, y_train.values.ravel())\n",
    "\n",
    "lr_scores = mean_std_cross_val_scores(LogisticRegression(C=.1, class_weight='balanced'), X_train_transformed.T[rfe_cv_lr.support_].T, y_train, scoring=[\"accuracy\", \"f1\", \"recall\", \"precision\"], cv=10, n_jobs=-1,return_train_score=True)\n",
    "pd.DataFrame(lr_scores).T"
   ]
  },
  {
   "cell_type": "code",
   "execution_count": 26,
   "metadata": {
    "tags": []
   },
   "outputs": [
    {
     "data": {
      "text/html": [
       "<div>\n",
       "<style scoped>\n",
       "    .dataframe tbody tr th:only-of-type {\n",
       "        vertical-align: middle;\n",
       "    }\n",
       "\n",
       "    .dataframe tbody tr th {\n",
       "        vertical-align: top;\n",
       "    }\n",
       "\n",
       "    .dataframe thead th {\n",
       "        text-align: right;\n",
       "    }\n",
       "</style>\n",
       "<table border=\"1\" class=\"dataframe\">\n",
       "  <thead>\n",
       "    <tr style=\"text-align: right;\">\n",
       "      <th></th>\n",
       "      <th>fit_time</th>\n",
       "      <th>score_time</th>\n",
       "      <th>test_accuracy</th>\n",
       "      <th>train_accuracy</th>\n",
       "      <th>test_f1</th>\n",
       "      <th>train_f1</th>\n",
       "      <th>test_recall</th>\n",
       "      <th>train_recall</th>\n",
       "      <th>test_precision</th>\n",
       "      <th>train_precision</th>\n",
       "    </tr>\n",
       "  </thead>\n",
       "  <tbody>\n",
       "    <tr>\n",
       "      <th>0</th>\n",
       "      <td>1.075 (+/- 0.170)</td>\n",
       "      <td>0.014 (+/- 0.006)</td>\n",
       "      <td>0.731 (+/- 0.011)</td>\n",
       "      <td>0.999 (+/- 0.000)</td>\n",
       "      <td>0.401 (+/- 0.017)</td>\n",
       "      <td>0.998 (+/- 0.000)</td>\n",
       "      <td>0.403 (+/- 0.019)</td>\n",
       "      <td>1.000 (+/- 0.000)</td>\n",
       "      <td>0.399 (+/- 0.020)</td>\n",
       "      <td>0.997 (+/- 0.000)</td>\n",
       "    </tr>\n",
       "  </tbody>\n",
       "</table>\n",
       "</div>"
      ],
      "text/plain": [
       "            fit_time         score_time      test_accuracy     train_accuracy  \\\n",
       "0  1.075 (+/- 0.170)  0.014 (+/- 0.006)  0.731 (+/- 0.011)  0.999 (+/- 0.000)   \n",
       "\n",
       "             test_f1           train_f1        test_recall       train_recall  \\\n",
       "0  0.401 (+/- 0.017)  0.998 (+/- 0.000)  0.403 (+/- 0.019)  1.000 (+/- 0.000)   \n",
       "\n",
       "      test_precision    train_precision  \n",
       "0  0.399 (+/- 0.020)  0.997 (+/- 0.000)  "
      ]
     },
     "execution_count": 26,
     "metadata": {},
     "output_type": "execute_result"
    }
   ],
   "source": [
    "rfe_cv_dt = RFECV(DecisionTreeClassifier(class_weight='balanced'), cv=10)\n",
    "rfe_cv_dt.fit(X_train_transformed, y_train.values.ravel())\n",
    "\n",
    "dt_scores = mean_std_cross_val_scores(DecisionTreeClassifier(class_weight='balanced'), X_train_transformed.T[rfe_cv_dt.support_].T, y_train, scoring=[\"accuracy\", \"f1\", \"recall\", \"precision\"], cv=10, n_jobs=-1,return_train_score=True)\n",
    "pd.DataFrame(dt_scores).T"
   ]
  },
  {
   "cell_type": "code",
   "execution_count": 27,
   "metadata": {
    "tags": []
   },
   "outputs": [
    {
     "data": {
      "text/html": [
       "<div>\n",
       "<style scoped>\n",
       "    .dataframe tbody tr th:only-of-type {\n",
       "        vertical-align: middle;\n",
       "    }\n",
       "\n",
       "    .dataframe tbody tr th {\n",
       "        vertical-align: top;\n",
       "    }\n",
       "\n",
       "    .dataframe thead th {\n",
       "        text-align: right;\n",
       "    }\n",
       "</style>\n",
       "<table border=\"1\" class=\"dataframe\">\n",
       "  <thead>\n",
       "    <tr style=\"text-align: right;\">\n",
       "      <th></th>\n",
       "      <th>fit_time</th>\n",
       "      <th>score_time</th>\n",
       "      <th>test_accuracy</th>\n",
       "      <th>train_accuracy</th>\n",
       "      <th>test_f1</th>\n",
       "      <th>train_f1</th>\n",
       "      <th>test_recall</th>\n",
       "      <th>train_recall</th>\n",
       "      <th>test_precision</th>\n",
       "      <th>train_precision</th>\n",
       "    </tr>\n",
       "  </thead>\n",
       "  <tbody>\n",
       "    <tr>\n",
       "      <th>0</th>\n",
       "      <td>1.397 (+/- 0.263)</td>\n",
       "      <td>0.045 (+/- 0.011)</td>\n",
       "      <td>0.770 (+/- 0.008)</td>\n",
       "      <td>0.829 (+/- 0.002)</td>\n",
       "      <td>0.544 (+/- 0.015)</td>\n",
       "      <td>0.668 (+/- 0.003)</td>\n",
       "      <td>0.612 (+/- 0.019)</td>\n",
       "      <td>0.769 (+/- 0.008)</td>\n",
       "      <td>0.489 (+/- 0.015)</td>\n",
       "      <td>0.590 (+/- 0.004)</td>\n",
       "    </tr>\n",
       "  </tbody>\n",
       "</table>\n",
       "</div>"
      ],
      "text/plain": [
       "            fit_time         score_time      test_accuracy     train_accuracy  \\\n",
       "0  1.397 (+/- 0.263)  0.045 (+/- 0.011)  0.770 (+/- 0.008)  0.829 (+/- 0.002)   \n",
       "\n",
       "             test_f1           train_f1        test_recall       train_recall  \\\n",
       "0  0.544 (+/- 0.015)  0.668 (+/- 0.003)  0.612 (+/- 0.019)  0.769 (+/- 0.008)   \n",
       "\n",
       "      test_precision    train_precision  \n",
       "0  0.489 (+/- 0.015)  0.590 (+/- 0.004)  "
      ]
     },
     "execution_count": 27,
     "metadata": {},
     "output_type": "execute_result"
    }
   ],
   "source": [
    "rfe_cv_lgbm = RFECV(LGBMClassifier(class_weight='balanced'), cv=10)\n",
    "rfe_cv_lgbm.fit(X_train_transformed, y_train.values.ravel())\n",
    "\n",
    "lgbm_scores =mean_std_cross_val_scores(LGBMClassifier(class_weight='balanced'), X_train_transformed.T[rfe_cv_lgbm.support_].T, y_train, scoring=[\"accuracy\", \"f1\", \"recall\", \"precision\"], cv=10, n_jobs=-1,return_train_score=True)\n",
    "pd.DataFrame(lgbm_scores).T"
   ]
  },
  {
   "cell_type": "markdown",
   "metadata": {},
   "source": [
    "<!-- END QUESTION -->\n",
    "\n",
    "<br><br>"
   ]
  },
  {
   "cell_type": "markdown",
   "metadata": {},
   "source": [
    "<!-- BEGIN QUESTION -->\n",
    "\n",
    "## 10. Hyperparameter optimization <a name=\"10\"></a>\n",
    "<hr>\n",
    "rubric={points:10}\n",
    "\n",
    "**Your tasks:**\n",
    "\n",
    "Make some attempts to optimize hyperparameters for the models you've tried and summarize your results. In at least one case you should be optimizing multiple hyperparameters for a single model. You may use `sklearn`'s methods for hyperparameter optimization or fancier Bayesian optimization methods. \n",
    "  - [GridSearchCV](http://scikit-learn.org/stable/modules/generated/sklearn.model_selection.GridSearchCV.html)   \n",
    "  - [RandomizedSearchCV](http://scikit-learn.org/stable/modules/generated/sklearn.model_selection.RandomizedSearchCV.html)\n",
    "  - [scikit-optimize](https://github.com/scikit-optimize/scikit-optimize) "
   ]
  },
  {
   "cell_type": "markdown",
   "metadata": {},
   "source": [
    "<div class=\"alert alert-warning\">\n",
    "    \n",
    "Solution_10\n",
    "    \n",
    "</div>"
   ]
  },
  {
   "cell_type": "markdown",
   "metadata": {},
   "source": [
    "I conducted hyperparameter optimization with both my decision tree classifier, and my lightGBM classifer. I tried to conduct hyperparameter optimization with SVM RBF but my\n",
    "computer was not powerful enough to have a meaningful number of iterations, and so I have decided to stop testing with it. I used GridSearchCV with my decision tree classifier because I was only tuning one hyperparameter, whereas I used RandomizedSearchCV with lightGBM classifier because I was tuning 3 hyperparameters. Both of them, with hyperparameter tuning, turned out better than the linear model.\n",
    "\n",
    "DecisionTreeClassifier:\n",
    "it is possible to see some very clear overfitting going on after not a large max depth. The train recall hits 1 wherease the test recall tanks to .4. the largest mean_test_recall is when the max depth hyperparameter is 4, which corrosponds to a mean test recall of .65. Not great, but doing better.\n",
    "\n",
    "LightGBMClassifier\n",
    "Because I used randomizedSearchCV the overfitting is not as obvious, although there were some parameter combinations that made it clear that overfitting was occuring (for example when the n_estimators parameter got large and there was a clear split between mean train and mean test scores. The best performing model overall was a LightGBMClassifier with n_estimators=3, max_Depth=2, and feature_fraction=.6. It is interesting to me that, at least with max depth and feature_fraction the model performs best with numbers that corrospond to relatively low complexity. I'm wondering if this is an indication that there are a small number of very important parameters as opposed to a "
   ]
  },
  {
   "cell_type": "code",
   "execution_count": 28,
   "metadata": {
    "tags": []
   },
   "outputs": [
    {
     "data": {
      "text/html": [
       "<div>\n",
       "<style scoped>\n",
       "    .dataframe tbody tr th:only-of-type {\n",
       "        vertical-align: middle;\n",
       "    }\n",
       "\n",
       "    .dataframe tbody tr th {\n",
       "        vertical-align: top;\n",
       "    }\n",
       "\n",
       "    .dataframe thead th {\n",
       "        text-align: right;\n",
       "    }\n",
       "</style>\n",
       "<table border=\"1\" class=\"dataframe\">\n",
       "  <thead>\n",
       "    <tr style=\"text-align: right;\">\n",
       "      <th></th>\n",
       "      <th>mean_fit_time</th>\n",
       "      <th>std_fit_time</th>\n",
       "      <th>param_max_depth</th>\n",
       "      <th>mean_test_recall</th>\n",
       "      <th>mean_train_recall</th>\n",
       "    </tr>\n",
       "  </thead>\n",
       "  <tbody>\n",
       "    <tr>\n",
       "      <th>0</th>\n",
       "      <td>0.178635</td>\n",
       "      <td>0.039918</td>\n",
       "      <td>1</td>\n",
       "      <td>0.517917</td>\n",
       "      <td>0.517918</td>\n",
       "    </tr>\n",
       "    <tr>\n",
       "      <th>1</th>\n",
       "      <td>0.230509</td>\n",
       "      <td>0.031015</td>\n",
       "      <td>2</td>\n",
       "      <td>0.623283</td>\n",
       "      <td>0.633272</td>\n",
       "    </tr>\n",
       "    <tr>\n",
       "      <th>2</th>\n",
       "      <td>0.404467</td>\n",
       "      <td>0.096722</td>\n",
       "      <td>3</td>\n",
       "      <td>0.553754</td>\n",
       "      <td>0.558494</td>\n",
       "    </tr>\n",
       "    <tr>\n",
       "      <th>3</th>\n",
       "      <td>0.442375</td>\n",
       "      <td>0.063076</td>\n",
       "      <td>4</td>\n",
       "      <td>0.650583</td>\n",
       "      <td>0.666478</td>\n",
       "    </tr>\n",
       "    <tr>\n",
       "      <th>4</th>\n",
       "      <td>0.669803</td>\n",
       "      <td>0.161508</td>\n",
       "      <td>5</td>\n",
       "      <td>0.574643</td>\n",
       "      <td>0.595612</td>\n",
       "    </tr>\n",
       "    <tr>\n",
       "      <th>5</th>\n",
       "      <td>0.923924</td>\n",
       "      <td>0.219034</td>\n",
       "      <td>6</td>\n",
       "      <td>0.593415</td>\n",
       "      <td>0.628674</td>\n",
       "    </tr>\n",
       "    <tr>\n",
       "      <th>6</th>\n",
       "      <td>0.677960</td>\n",
       "      <td>0.023601</td>\n",
       "      <td>7</td>\n",
       "      <td>0.612626</td>\n",
       "      <td>0.673421</td>\n",
       "    </tr>\n",
       "    <tr>\n",
       "      <th>7</th>\n",
       "      <td>0.797247</td>\n",
       "      <td>0.078568</td>\n",
       "      <td>8</td>\n",
       "      <td>0.598533</td>\n",
       "      <td>0.684443</td>\n",
       "    </tr>\n",
       "    <tr>\n",
       "      <th>8</th>\n",
       "      <td>0.793117</td>\n",
       "      <td>0.022269</td>\n",
       "      <td>9</td>\n",
       "      <td>0.593851</td>\n",
       "      <td>0.716036</td>\n",
       "    </tr>\n",
       "    <tr>\n",
       "      <th>9</th>\n",
       "      <td>0.862438</td>\n",
       "      <td>0.024445</td>\n",
       "      <td>10</td>\n",
       "      <td>0.586380</td>\n",
       "      <td>0.742440</td>\n",
       "    </tr>\n",
       "    <tr>\n",
       "      <th>10</th>\n",
       "      <td>0.928906</td>\n",
       "      <td>0.036863</td>\n",
       "      <td>11</td>\n",
       "      <td>0.581475</td>\n",
       "      <td>0.781119</td>\n",
       "    </tr>\n",
       "    <tr>\n",
       "      <th>11</th>\n",
       "      <td>0.966800</td>\n",
       "      <td>0.027759</td>\n",
       "      <td>12</td>\n",
       "      <td>0.568679</td>\n",
       "      <td>0.803138</td>\n",
       "    </tr>\n",
       "    <tr>\n",
       "      <th>12</th>\n",
       "      <td>1.066414</td>\n",
       "      <td>0.043857</td>\n",
       "      <td>13</td>\n",
       "      <td>0.558230</td>\n",
       "      <td>0.835348</td>\n",
       "    </tr>\n",
       "    <tr>\n",
       "      <th>13</th>\n",
       "      <td>1.105755</td>\n",
       "      <td>0.046771</td>\n",
       "      <td>14</td>\n",
       "      <td>0.541159</td>\n",
       "      <td>0.862012</td>\n",
       "    </tr>\n",
       "    <tr>\n",
       "      <th>14</th>\n",
       "      <td>1.157166</td>\n",
       "      <td>0.049773</td>\n",
       "      <td>15</td>\n",
       "      <td>0.533272</td>\n",
       "      <td>0.881209</td>\n",
       "    </tr>\n",
       "    <tr>\n",
       "      <th>15</th>\n",
       "      <td>1.196927</td>\n",
       "      <td>0.079589</td>\n",
       "      <td>16</td>\n",
       "      <td>0.529215</td>\n",
       "      <td>0.909604</td>\n",
       "    </tr>\n",
       "    <tr>\n",
       "      <th>16</th>\n",
       "      <td>1.263777</td>\n",
       "      <td>0.126319</td>\n",
       "      <td>17</td>\n",
       "      <td>0.510234</td>\n",
       "      <td>0.927427</td>\n",
       "    </tr>\n",
       "    <tr>\n",
       "      <th>17</th>\n",
       "      <td>1.225942</td>\n",
       "      <td>0.085592</td>\n",
       "      <td>18</td>\n",
       "      <td>0.504902</td>\n",
       "      <td>0.941695</td>\n",
       "    </tr>\n",
       "    <tr>\n",
       "      <th>18</th>\n",
       "      <td>1.227865</td>\n",
       "      <td>0.056609</td>\n",
       "      <td>19</td>\n",
       "      <td>0.493171</td>\n",
       "      <td>0.958404</td>\n",
       "    </tr>\n",
       "    <tr>\n",
       "      <th>19</th>\n",
       "      <td>1.237419</td>\n",
       "      <td>0.043512</td>\n",
       "      <td>20</td>\n",
       "      <td>0.484639</td>\n",
       "      <td>0.971061</td>\n",
       "    </tr>\n",
       "    <tr>\n",
       "      <th>20</th>\n",
       "      <td>1.233065</td>\n",
       "      <td>0.038326</td>\n",
       "      <td>21</td>\n",
       "      <td>0.467792</td>\n",
       "      <td>0.978977</td>\n",
       "    </tr>\n",
       "    <tr>\n",
       "      <th>21</th>\n",
       "      <td>1.250045</td>\n",
       "      <td>0.051860</td>\n",
       "      <td>22</td>\n",
       "      <td>0.459041</td>\n",
       "      <td>0.984191</td>\n",
       "    </tr>\n",
       "    <tr>\n",
       "      <th>22</th>\n",
       "      <td>1.247292</td>\n",
       "      <td>0.029679</td>\n",
       "      <td>23</td>\n",
       "      <td>0.451575</td>\n",
       "      <td>0.989405</td>\n",
       "    </tr>\n",
       "    <tr>\n",
       "      <th>23</th>\n",
       "      <td>1.265374</td>\n",
       "      <td>0.049577</td>\n",
       "      <td>24</td>\n",
       "      <td>0.439207</td>\n",
       "      <td>0.991823</td>\n",
       "    </tr>\n",
       "    <tr>\n",
       "      <th>24</th>\n",
       "      <td>1.278870</td>\n",
       "      <td>0.055609</td>\n",
       "      <td>25</td>\n",
       "      <td>0.431101</td>\n",
       "      <td>0.993814</td>\n",
       "    </tr>\n",
       "    <tr>\n",
       "      <th>25</th>\n",
       "      <td>1.276577</td>\n",
       "      <td>0.043590</td>\n",
       "      <td>26</td>\n",
       "      <td>0.425554</td>\n",
       "      <td>0.995829</td>\n",
       "    </tr>\n",
       "    <tr>\n",
       "      <th>26</th>\n",
       "      <td>1.295960</td>\n",
       "      <td>0.037686</td>\n",
       "      <td>27</td>\n",
       "      <td>0.418512</td>\n",
       "      <td>0.996848</td>\n",
       "    </tr>\n",
       "    <tr>\n",
       "      <th>27</th>\n",
       "      <td>1.288012</td>\n",
       "      <td>0.056307</td>\n",
       "      <td>28</td>\n",
       "      <td>0.415957</td>\n",
       "      <td>0.997985</td>\n",
       "    </tr>\n",
       "    <tr>\n",
       "      <th>28</th>\n",
       "      <td>1.309553</td>\n",
       "      <td>0.073488</td>\n",
       "      <td>29</td>\n",
       "      <td>0.412752</td>\n",
       "      <td>0.998317</td>\n",
       "    </tr>\n",
       "    <tr>\n",
       "      <th>29</th>\n",
       "      <td>1.392798</td>\n",
       "      <td>0.088331</td>\n",
       "      <td>30</td>\n",
       "      <td>0.411690</td>\n",
       "      <td>0.999028</td>\n",
       "    </tr>\n",
       "    <tr>\n",
       "      <th>30</th>\n",
       "      <td>1.362760</td>\n",
       "      <td>0.078142</td>\n",
       "      <td>31</td>\n",
       "      <td>0.412545</td>\n",
       "      <td>0.999431</td>\n",
       "    </tr>\n",
       "    <tr>\n",
       "      <th>31</th>\n",
       "      <td>1.400472</td>\n",
       "      <td>0.073461</td>\n",
       "      <td>32</td>\n",
       "      <td>0.411901</td>\n",
       "      <td>0.999597</td>\n",
       "    </tr>\n",
       "    <tr>\n",
       "      <th>32</th>\n",
       "      <td>1.487515</td>\n",
       "      <td>0.095100</td>\n",
       "      <td>33</td>\n",
       "      <td>0.408705</td>\n",
       "      <td>0.999858</td>\n",
       "    </tr>\n",
       "    <tr>\n",
       "      <th>33</th>\n",
       "      <td>1.349157</td>\n",
       "      <td>0.060896</td>\n",
       "      <td>34</td>\n",
       "      <td>0.402947</td>\n",
       "      <td>0.999976</td>\n",
       "    </tr>\n",
       "    <tr>\n",
       "      <th>34</th>\n",
       "      <td>1.384131</td>\n",
       "      <td>0.147837</td>\n",
       "      <td>35</td>\n",
       "      <td>0.402733</td>\n",
       "      <td>0.999976</td>\n",
       "    </tr>\n",
       "    <tr>\n",
       "      <th>35</th>\n",
       "      <td>1.395844</td>\n",
       "      <td>0.146970</td>\n",
       "      <td>36</td>\n",
       "      <td>0.405074</td>\n",
       "      <td>1.000000</td>\n",
       "    </tr>\n",
       "    <tr>\n",
       "      <th>36</th>\n",
       "      <td>1.285971</td>\n",
       "      <td>0.041266</td>\n",
       "      <td>37</td>\n",
       "      <td>0.402303</td>\n",
       "      <td>0.999929</td>\n",
       "    </tr>\n",
       "    <tr>\n",
       "      <th>37</th>\n",
       "      <td>1.296024</td>\n",
       "      <td>0.045914</td>\n",
       "      <td>38</td>\n",
       "      <td>0.406360</td>\n",
       "      <td>0.999953</td>\n",
       "    </tr>\n",
       "    <tr>\n",
       "      <th>38</th>\n",
       "      <td>1.423789</td>\n",
       "      <td>0.096948</td>\n",
       "      <td>39</td>\n",
       "      <td>0.403371</td>\n",
       "      <td>1.000000</td>\n",
       "    </tr>\n",
       "    <tr>\n",
       "      <th>39</th>\n",
       "      <td>1.387912</td>\n",
       "      <td>0.077201</td>\n",
       "      <td>40</td>\n",
       "      <td>0.396758</td>\n",
       "      <td>0.999976</td>\n",
       "    </tr>\n",
       "    <tr>\n",
       "      <th>40</th>\n",
       "      <td>1.336838</td>\n",
       "      <td>0.077859</td>\n",
       "      <td>41</td>\n",
       "      <td>0.404223</td>\n",
       "      <td>1.000000</td>\n",
       "    </tr>\n",
       "    <tr>\n",
       "      <th>41</th>\n",
       "      <td>1.327672</td>\n",
       "      <td>0.076606</td>\n",
       "      <td>42</td>\n",
       "      <td>0.401667</td>\n",
       "      <td>1.000000</td>\n",
       "    </tr>\n",
       "    <tr>\n",
       "      <th>42</th>\n",
       "      <td>1.334139</td>\n",
       "      <td>0.063577</td>\n",
       "      <td>43</td>\n",
       "      <td>0.400385</td>\n",
       "      <td>1.000000</td>\n",
       "    </tr>\n",
       "    <tr>\n",
       "      <th>43</th>\n",
       "      <td>1.406074</td>\n",
       "      <td>0.106146</td>\n",
       "      <td>44</td>\n",
       "      <td>0.403160</td>\n",
       "      <td>1.000000</td>\n",
       "    </tr>\n",
       "    <tr>\n",
       "      <th>44</th>\n",
       "      <td>1.425939</td>\n",
       "      <td>0.077162</td>\n",
       "      <td>45</td>\n",
       "      <td>0.396117</td>\n",
       "      <td>1.000000</td>\n",
       "    </tr>\n",
       "    <tr>\n",
       "      <th>45</th>\n",
       "      <td>1.358158</td>\n",
       "      <td>0.062375</td>\n",
       "      <td>46</td>\n",
       "      <td>0.399742</td>\n",
       "      <td>1.000000</td>\n",
       "    </tr>\n",
       "    <tr>\n",
       "      <th>46</th>\n",
       "      <td>1.371457</td>\n",
       "      <td>0.060511</td>\n",
       "      <td>47</td>\n",
       "      <td>0.401027</td>\n",
       "      <td>1.000000</td>\n",
       "    </tr>\n",
       "    <tr>\n",
       "      <th>47</th>\n",
       "      <td>1.413492</td>\n",
       "      <td>0.112119</td>\n",
       "      <td>48</td>\n",
       "      <td>0.398035</td>\n",
       "      <td>1.000000</td>\n",
       "    </tr>\n",
       "    <tr>\n",
       "      <th>48</th>\n",
       "      <td>1.386044</td>\n",
       "      <td>0.078647</td>\n",
       "      <td>49</td>\n",
       "      <td>0.397185</td>\n",
       "      <td>1.000000</td>\n",
       "    </tr>\n",
       "    <tr>\n",
       "      <th>49</th>\n",
       "      <td>1.413204</td>\n",
       "      <td>0.053603</td>\n",
       "      <td>50</td>\n",
       "      <td>0.402946</td>\n",
       "      <td>1.000000</td>\n",
       "    </tr>\n",
       "  </tbody>\n",
       "</table>\n",
       "</div>"
      ],
      "text/plain": [
       "    mean_fit_time  std_fit_time param_max_depth  mean_test_recall  \\\n",
       "0        0.178635      0.039918               1          0.517917   \n",
       "1        0.230509      0.031015               2          0.623283   \n",
       "2        0.404467      0.096722               3          0.553754   \n",
       "3        0.442375      0.063076               4          0.650583   \n",
       "4        0.669803      0.161508               5          0.574643   \n",
       "5        0.923924      0.219034               6          0.593415   \n",
       "6        0.677960      0.023601               7          0.612626   \n",
       "7        0.797247      0.078568               8          0.598533   \n",
       "8        0.793117      0.022269               9          0.593851   \n",
       "9        0.862438      0.024445              10          0.586380   \n",
       "10       0.928906      0.036863              11          0.581475   \n",
       "11       0.966800      0.027759              12          0.568679   \n",
       "12       1.066414      0.043857              13          0.558230   \n",
       "13       1.105755      0.046771              14          0.541159   \n",
       "14       1.157166      0.049773              15          0.533272   \n",
       "15       1.196927      0.079589              16          0.529215   \n",
       "16       1.263777      0.126319              17          0.510234   \n",
       "17       1.225942      0.085592              18          0.504902   \n",
       "18       1.227865      0.056609              19          0.493171   \n",
       "19       1.237419      0.043512              20          0.484639   \n",
       "20       1.233065      0.038326              21          0.467792   \n",
       "21       1.250045      0.051860              22          0.459041   \n",
       "22       1.247292      0.029679              23          0.451575   \n",
       "23       1.265374      0.049577              24          0.439207   \n",
       "24       1.278870      0.055609              25          0.431101   \n",
       "25       1.276577      0.043590              26          0.425554   \n",
       "26       1.295960      0.037686              27          0.418512   \n",
       "27       1.288012      0.056307              28          0.415957   \n",
       "28       1.309553      0.073488              29          0.412752   \n",
       "29       1.392798      0.088331              30          0.411690   \n",
       "30       1.362760      0.078142              31          0.412545   \n",
       "31       1.400472      0.073461              32          0.411901   \n",
       "32       1.487515      0.095100              33          0.408705   \n",
       "33       1.349157      0.060896              34          0.402947   \n",
       "34       1.384131      0.147837              35          0.402733   \n",
       "35       1.395844      0.146970              36          0.405074   \n",
       "36       1.285971      0.041266              37          0.402303   \n",
       "37       1.296024      0.045914              38          0.406360   \n",
       "38       1.423789      0.096948              39          0.403371   \n",
       "39       1.387912      0.077201              40          0.396758   \n",
       "40       1.336838      0.077859              41          0.404223   \n",
       "41       1.327672      0.076606              42          0.401667   \n",
       "42       1.334139      0.063577              43          0.400385   \n",
       "43       1.406074      0.106146              44          0.403160   \n",
       "44       1.425939      0.077162              45          0.396117   \n",
       "45       1.358158      0.062375              46          0.399742   \n",
       "46       1.371457      0.060511              47          0.401027   \n",
       "47       1.413492      0.112119              48          0.398035   \n",
       "48       1.386044      0.078647              49          0.397185   \n",
       "49       1.413204      0.053603              50          0.402946   \n",
       "\n",
       "    mean_train_recall  \n",
       "0            0.517918  \n",
       "1            0.633272  \n",
       "2            0.558494  \n",
       "3            0.666478  \n",
       "4            0.595612  \n",
       "5            0.628674  \n",
       "6            0.673421  \n",
       "7            0.684443  \n",
       "8            0.716036  \n",
       "9            0.742440  \n",
       "10           0.781119  \n",
       "11           0.803138  \n",
       "12           0.835348  \n",
       "13           0.862012  \n",
       "14           0.881209  \n",
       "15           0.909604  \n",
       "16           0.927427  \n",
       "17           0.941695  \n",
       "18           0.958404  \n",
       "19           0.971061  \n",
       "20           0.978977  \n",
       "21           0.984191  \n",
       "22           0.989405  \n",
       "23           0.991823  \n",
       "24           0.993814  \n",
       "25           0.995829  \n",
       "26           0.996848  \n",
       "27           0.997985  \n",
       "28           0.998317  \n",
       "29           0.999028  \n",
       "30           0.999431  \n",
       "31           0.999597  \n",
       "32           0.999858  \n",
       "33           0.999976  \n",
       "34           0.999976  \n",
       "35           1.000000  \n",
       "36           0.999929  \n",
       "37           0.999953  \n",
       "38           1.000000  \n",
       "39           0.999976  \n",
       "40           1.000000  \n",
       "41           1.000000  \n",
       "42           1.000000  \n",
       "43           1.000000  \n",
       "44           1.000000  \n",
       "45           1.000000  \n",
       "46           1.000000  \n",
       "47           1.000000  \n",
       "48           1.000000  \n",
       "49           1.000000  "
      ]
     },
     "execution_count": 28,
     "metadata": {},
     "output_type": "execute_result"
    }
   ],
   "source": [
    "param_dt = {\n",
    "    \"max_depth\": np.int_(np.linspace(1, 50, 50)),\n",
    "}\n",
    "\n",
    "search_dt = GridSearchCV(\n",
    "    DecisionTreeClassifier(class_weight='balanced'), param_dt, n_jobs=-1, cv=10, scoring=[\"recall\"], refit=False, return_train_score=True\n",
    ")\n",
    "\n",
    "search_dt.fit(X_train_transformed, y_train)\n",
    "pd.DataFrame(search_dt.cv_results_)[[\"mean_fit_time\", \"std_fit_time\", \"param_max_depth\", \"mean_test_recall\", \"mean_train_recall\"]]"
   ]
  },
  {
   "cell_type": "code",
   "execution_count": 29,
   "metadata": {
    "tags": []
   },
   "outputs": [
    {
     "data": {
      "text/html": [
       "<div>\n",
       "<style scoped>\n",
       "    .dataframe tbody tr th:only-of-type {\n",
       "        vertical-align: middle;\n",
       "    }\n",
       "\n",
       "    .dataframe tbody tr th {\n",
       "        vertical-align: top;\n",
       "    }\n",
       "\n",
       "    .dataframe thead th {\n",
       "        text-align: right;\n",
       "    }\n",
       "</style>\n",
       "<table border=\"1\" class=\"dataframe\">\n",
       "  <thead>\n",
       "    <tr style=\"text-align: right;\">\n",
       "      <th></th>\n",
       "      <th>mean_fit_time</th>\n",
       "      <th>std_fit_time</th>\n",
       "      <th>param_n_estimators</th>\n",
       "      <th>param_max_depth</th>\n",
       "      <th>param_feature_fraction</th>\n",
       "      <th>mean_test_recall</th>\n",
       "      <th>mean_train_recall</th>\n",
       "    </tr>\n",
       "  </thead>\n",
       "  <tbody>\n",
       "    <tr>\n",
       "      <th>0</th>\n",
       "      <td>1.989508</td>\n",
       "      <td>0.097679</td>\n",
       "      <td>200</td>\n",
       "      <td>6</td>\n",
       "      <td>0.8</td>\n",
       "      <td>0.596198</td>\n",
       "      <td>0.845296</td>\n",
       "    </tr>\n",
       "    <tr>\n",
       "      <th>1</th>\n",
       "      <td>0.323222</td>\n",
       "      <td>0.088907</td>\n",
       "      <td>1</td>\n",
       "      <td>50</td>\n",
       "      <td>0.1</td>\n",
       "      <td>0.585955</td>\n",
       "      <td>0.615616</td>\n",
       "    </tr>\n",
       "    <tr>\n",
       "      <th>2</th>\n",
       "      <td>1.019092</td>\n",
       "      <td>0.092404</td>\n",
       "      <td>100</td>\n",
       "      <td>5</td>\n",
       "      <td>0.7</td>\n",
       "      <td>0.618809</td>\n",
       "      <td>0.714057</td>\n",
       "    </tr>\n",
       "    <tr>\n",
       "      <th>3</th>\n",
       "      <td>0.326215</td>\n",
       "      <td>0.060958</td>\n",
       "      <td>4</td>\n",
       "      <td>5</td>\n",
       "      <td>0.2</td>\n",
       "      <td>0.593216</td>\n",
       "      <td>0.615615</td>\n",
       "    </tr>\n",
       "    <tr>\n",
       "      <th>4</th>\n",
       "      <td>0.510273</td>\n",
       "      <td>0.049996</td>\n",
       "      <td>50</td>\n",
       "      <td>4</td>\n",
       "      <td>0.2</td>\n",
       "      <td>0.634381</td>\n",
       "      <td>0.658543</td>\n",
       "    </tr>\n",
       "    <tr>\n",
       "      <th>5</th>\n",
       "      <td>0.229739</td>\n",
       "      <td>0.004756</td>\n",
       "      <td>1</td>\n",
       "      <td>25</td>\n",
       "      <td>0.5</td>\n",
       "      <td>0.617956</td>\n",
       "      <td>0.646013</td>\n",
       "    </tr>\n",
       "    <tr>\n",
       "      <th>6</th>\n",
       "      <td>0.416110</td>\n",
       "      <td>0.022212</td>\n",
       "      <td>100</td>\n",
       "      <td>2</td>\n",
       "      <td>0.1</td>\n",
       "      <td>0.626065</td>\n",
       "      <td>0.634919</td>\n",
       "    </tr>\n",
       "    <tr>\n",
       "      <th>7</th>\n",
       "      <td>0.334410</td>\n",
       "      <td>0.018392</td>\n",
       "      <td>10</td>\n",
       "      <td>4</td>\n",
       "      <td>1</td>\n",
       "      <td>0.607498</td>\n",
       "      <td>0.623296</td>\n",
       "    </tr>\n",
       "    <tr>\n",
       "      <th>8</th>\n",
       "      <td>0.277666</td>\n",
       "      <td>0.010393</td>\n",
       "      <td>5</td>\n",
       "      <td>25</td>\n",
       "      <td>0.7</td>\n",
       "      <td>0.616252</td>\n",
       "      <td>0.647505</td>\n",
       "    </tr>\n",
       "    <tr>\n",
       "      <th>9</th>\n",
       "      <td>0.659706</td>\n",
       "      <td>0.094455</td>\n",
       "      <td>50</td>\n",
       "      <td>50</td>\n",
       "      <td>0.4</td>\n",
       "      <td>0.624570</td>\n",
       "      <td>0.711124</td>\n",
       "    </tr>\n",
       "    <tr>\n",
       "      <th>10</th>\n",
       "      <td>0.311302</td>\n",
       "      <td>0.043924</td>\n",
       "      <td>1</td>\n",
       "      <td>10</td>\n",
       "      <td>0.4</td>\n",
       "      <td>0.597475</td>\n",
       "      <td>0.627083</td>\n",
       "    </tr>\n",
       "    <tr>\n",
       "      <th>11</th>\n",
       "      <td>0.489174</td>\n",
       "      <td>0.058255</td>\n",
       "      <td>4</td>\n",
       "      <td>8</td>\n",
       "      <td>0.2</td>\n",
       "      <td>0.626491</td>\n",
       "      <td>0.658864</td>\n",
       "    </tr>\n",
       "    <tr>\n",
       "      <th>12</th>\n",
       "      <td>0.452016</td>\n",
       "      <td>0.058422</td>\n",
       "      <td>10</td>\n",
       "      <td>10</td>\n",
       "      <td>0.4</td>\n",
       "      <td>0.623930</td>\n",
       "      <td>0.665103</td>\n",
       "    </tr>\n",
       "    <tr>\n",
       "      <th>13</th>\n",
       "      <td>0.377530</td>\n",
       "      <td>0.026620</td>\n",
       "      <td>10</td>\n",
       "      <td>6</td>\n",
       "      <td>0.6</td>\n",
       "      <td>0.611772</td>\n",
       "      <td>0.644199</td>\n",
       "    </tr>\n",
       "    <tr>\n",
       "      <th>14</th>\n",
       "      <td>0.256855</td>\n",
       "      <td>0.036879</td>\n",
       "      <td>1</td>\n",
       "      <td>10</td>\n",
       "      <td>0.7</td>\n",
       "      <td>0.608154</td>\n",
       "      <td>0.644303</td>\n",
       "    </tr>\n",
       "    <tr>\n",
       "      <th>15</th>\n",
       "      <td>0.614334</td>\n",
       "      <td>0.073234</td>\n",
       "      <td>75</td>\n",
       "      <td>9</td>\n",
       "      <td>0.2</td>\n",
       "      <td>0.629476</td>\n",
       "      <td>0.728456</td>\n",
       "    </tr>\n",
       "    <tr>\n",
       "      <th>16</th>\n",
       "      <td>0.271815</td>\n",
       "      <td>0.020194</td>\n",
       "      <td>2</td>\n",
       "      <td>3</td>\n",
       "      <td>0.7</td>\n",
       "      <td>0.585757</td>\n",
       "      <td>0.590921</td>\n",
       "    </tr>\n",
       "    <tr>\n",
       "      <th>17</th>\n",
       "      <td>0.295436</td>\n",
       "      <td>0.009355</td>\n",
       "      <td>4</td>\n",
       "      <td>3</td>\n",
       "      <td>0.6</td>\n",
       "      <td>0.601739</td>\n",
       "      <td>0.609270</td>\n",
       "    </tr>\n",
       "    <tr>\n",
       "      <th>18</th>\n",
       "      <td>0.294459</td>\n",
       "      <td>0.043565</td>\n",
       "      <td>3</td>\n",
       "      <td>4</td>\n",
       "      <td>0.5</td>\n",
       "      <td>0.594709</td>\n",
       "      <td>0.612681</td>\n",
       "    </tr>\n",
       "    <tr>\n",
       "      <th>19</th>\n",
       "      <td>0.327864</td>\n",
       "      <td>0.042583</td>\n",
       "      <td>5</td>\n",
       "      <td>8</td>\n",
       "      <td>0.6</td>\n",
       "      <td>0.614545</td>\n",
       "      <td>0.645478</td>\n",
       "    </tr>\n",
       "    <tr>\n",
       "      <th>20</th>\n",
       "      <td>0.311355</td>\n",
       "      <td>0.044688</td>\n",
       "      <td>5</td>\n",
       "      <td>1</td>\n",
       "      <td>0.1</td>\n",
       "      <td>0.638028</td>\n",
       "      <td>0.643180</td>\n",
       "    </tr>\n",
       "    <tr>\n",
       "      <th>21</th>\n",
       "      <td>0.344510</td>\n",
       "      <td>0.059415</td>\n",
       "      <td>1</td>\n",
       "      <td>25</td>\n",
       "      <td>0.2</td>\n",
       "      <td>0.626263</td>\n",
       "      <td>0.656840</td>\n",
       "    </tr>\n",
       "    <tr>\n",
       "      <th>22</th>\n",
       "      <td>0.336482</td>\n",
       "      <td>0.037041</td>\n",
       "      <td>5</td>\n",
       "      <td>4</td>\n",
       "      <td>0.9</td>\n",
       "      <td>0.608780</td>\n",
       "      <td>0.623456</td>\n",
       "    </tr>\n",
       "    <tr>\n",
       "      <th>23</th>\n",
       "      <td>0.313354</td>\n",
       "      <td>0.051889</td>\n",
       "      <td>2</td>\n",
       "      <td>50</td>\n",
       "      <td>0.8</td>\n",
       "      <td>0.637367</td>\n",
       "      <td>0.668996</td>\n",
       "    </tr>\n",
       "    <tr>\n",
       "      <th>24</th>\n",
       "      <td>0.388341</td>\n",
       "      <td>0.091422</td>\n",
       "      <td>3</td>\n",
       "      <td>8</td>\n",
       "      <td>0.1</td>\n",
       "      <td>0.640570</td>\n",
       "      <td>0.667555</td>\n",
       "    </tr>\n",
       "    <tr>\n",
       "      <th>25</th>\n",
       "      <td>0.458455</td>\n",
       "      <td>0.061288</td>\n",
       "      <td>4</td>\n",
       "      <td>9</td>\n",
       "      <td>0.5</td>\n",
       "      <td>0.624144</td>\n",
       "      <td>0.652304</td>\n",
       "    </tr>\n",
       "    <tr>\n",
       "      <th>26</th>\n",
       "      <td>1.416996</td>\n",
       "      <td>0.224450</td>\n",
       "      <td>100</td>\n",
       "      <td>25</td>\n",
       "      <td>0.8</td>\n",
       "      <td>0.613477</td>\n",
       "      <td>0.789889</td>\n",
       "    </tr>\n",
       "    <tr>\n",
       "      <th>27</th>\n",
       "      <td>0.746928</td>\n",
       "      <td>0.172258</td>\n",
       "      <td>50</td>\n",
       "      <td>5</td>\n",
       "      <td>0.4</td>\n",
       "      <td>0.628622</td>\n",
       "      <td>0.670435</td>\n",
       "    </tr>\n",
       "    <tr>\n",
       "      <th>28</th>\n",
       "      <td>0.390333</td>\n",
       "      <td>0.048523</td>\n",
       "      <td>10</td>\n",
       "      <td>10</td>\n",
       "      <td>0.5</td>\n",
       "      <td>0.626489</td>\n",
       "      <td>0.664676</td>\n",
       "    </tr>\n",
       "    <tr>\n",
       "      <th>29</th>\n",
       "      <td>0.300522</td>\n",
       "      <td>0.045634</td>\n",
       "      <td>2</td>\n",
       "      <td>9</td>\n",
       "      <td>0.8</td>\n",
       "      <td>0.639073</td>\n",
       "      <td>0.671289</td>\n",
       "    </tr>\n",
       "    <tr>\n",
       "      <th>30</th>\n",
       "      <td>0.265996</td>\n",
       "      <td>0.026205</td>\n",
       "      <td>4</td>\n",
       "      <td>4</td>\n",
       "      <td>0.7</td>\n",
       "      <td>0.611767</td>\n",
       "      <td>0.624628</td>\n",
       "    </tr>\n",
       "    <tr>\n",
       "      <th>31</th>\n",
       "      <td>1.581001</td>\n",
       "      <td>0.172782</td>\n",
       "      <td>150</td>\n",
       "      <td>10</td>\n",
       "      <td>0.8</td>\n",
       "      <td>0.603024</td>\n",
       "      <td>0.840657</td>\n",
       "    </tr>\n",
       "    <tr>\n",
       "      <th>32</th>\n",
       "      <td>0.326843</td>\n",
       "      <td>0.018570</td>\n",
       "      <td>3</td>\n",
       "      <td>5</td>\n",
       "      <td>0.3</td>\n",
       "      <td>0.592795</td>\n",
       "      <td>0.618600</td>\n",
       "    </tr>\n",
       "    <tr>\n",
       "      <th>33</th>\n",
       "      <td>1.249982</td>\n",
       "      <td>0.057438</td>\n",
       "      <td>200</td>\n",
       "      <td>4</td>\n",
       "      <td>0.6</td>\n",
       "      <td>0.619663</td>\n",
       "      <td>0.726270</td>\n",
       "    </tr>\n",
       "    <tr>\n",
       "      <th>34</th>\n",
       "      <td>0.434456</td>\n",
       "      <td>0.052220</td>\n",
       "      <td>20</td>\n",
       "      <td>8</td>\n",
       "      <td>0.5</td>\n",
       "      <td>0.631182</td>\n",
       "      <td>0.675875</td>\n",
       "    </tr>\n",
       "    <tr>\n",
       "      <th>35</th>\n",
       "      <td>2.428551</td>\n",
       "      <td>0.144173</td>\n",
       "      <td>200</td>\n",
       "      <td>50</td>\n",
       "      <td>1</td>\n",
       "      <td>0.590655</td>\n",
       "      <td>0.894198</td>\n",
       "    </tr>\n",
       "    <tr>\n",
       "      <th>36</th>\n",
       "      <td>0.309118</td>\n",
       "      <td>0.103487</td>\n",
       "      <td>1</td>\n",
       "      <td>7</td>\n",
       "      <td>0.2</td>\n",
       "      <td>0.580404</td>\n",
       "      <td>0.615297</td>\n",
       "    </tr>\n",
       "    <tr>\n",
       "      <th>37</th>\n",
       "      <td>0.501376</td>\n",
       "      <td>0.066039</td>\n",
       "      <td>10</td>\n",
       "      <td>8</td>\n",
       "      <td>0.8</td>\n",
       "      <td>0.622864</td>\n",
       "      <td>0.652091</td>\n",
       "    </tr>\n",
       "    <tr>\n",
       "      <th>38</th>\n",
       "      <td>0.276654</td>\n",
       "      <td>0.015141</td>\n",
       "      <td>20</td>\n",
       "      <td>4</td>\n",
       "      <td>0.1</td>\n",
       "      <td>0.617530</td>\n",
       "      <td>0.638332</td>\n",
       "    </tr>\n",
       "    <tr>\n",
       "      <th>39</th>\n",
       "      <td>0.318282</td>\n",
       "      <td>0.041194</td>\n",
       "      <td>3</td>\n",
       "      <td>5</td>\n",
       "      <td>0.4</td>\n",
       "      <td>0.596840</td>\n",
       "      <td>0.621161</td>\n",
       "    </tr>\n",
       "    <tr>\n",
       "      <th>40</th>\n",
       "      <td>0.311828</td>\n",
       "      <td>0.019679</td>\n",
       "      <td>4</td>\n",
       "      <td>25</td>\n",
       "      <td>0.6</td>\n",
       "      <td>0.623504</td>\n",
       "      <td>0.652944</td>\n",
       "    </tr>\n",
       "    <tr>\n",
       "      <th>41</th>\n",
       "      <td>0.276998</td>\n",
       "      <td>0.009021</td>\n",
       "      <td>2</td>\n",
       "      <td>4</td>\n",
       "      <td>0.7</td>\n",
       "      <td>0.628631</td>\n",
       "      <td>0.635290</td>\n",
       "    </tr>\n",
       "    <tr>\n",
       "      <th>42</th>\n",
       "      <td>1.935237</td>\n",
       "      <td>0.052787</td>\n",
       "      <td>200</td>\n",
       "      <td>7</td>\n",
       "      <td>0.8</td>\n",
       "      <td>0.593855</td>\n",
       "      <td>0.867267</td>\n",
       "    </tr>\n",
       "    <tr>\n",
       "      <th>43</th>\n",
       "      <td>1.454144</td>\n",
       "      <td>0.064663</td>\n",
       "      <td>200</td>\n",
       "      <td>25</td>\n",
       "      <td>0.4</td>\n",
       "      <td>0.593209</td>\n",
       "      <td>0.863001</td>\n",
       "    </tr>\n",
       "    <tr>\n",
       "      <th>44</th>\n",
       "      <td>0.739717</td>\n",
       "      <td>0.020755</td>\n",
       "      <td>150</td>\n",
       "      <td>1</td>\n",
       "      <td>0.9</td>\n",
       "      <td>0.595347</td>\n",
       "      <td>0.601482</td>\n",
       "    </tr>\n",
       "    <tr>\n",
       "      <th>45</th>\n",
       "      <td>0.237149</td>\n",
       "      <td>0.008647</td>\n",
       "      <td>5</td>\n",
       "      <td>9</td>\n",
       "      <td>0.1</td>\n",
       "      <td>0.643557</td>\n",
       "      <td>0.681954</td>\n",
       "    </tr>\n",
       "    <tr>\n",
       "      <th>46</th>\n",
       "      <td>0.260523</td>\n",
       "      <td>0.007978</td>\n",
       "      <td>4</td>\n",
       "      <td>10</td>\n",
       "      <td>0.5</td>\n",
       "      <td>0.624784</td>\n",
       "      <td>0.654650</td>\n",
       "    </tr>\n",
       "    <tr>\n",
       "      <th>47</th>\n",
       "      <td>0.234230</td>\n",
       "      <td>0.008522</td>\n",
       "      <td>1</td>\n",
       "      <td>2</td>\n",
       "      <td>0.9</td>\n",
       "      <td>0.626657</td>\n",
       "      <td>0.630985</td>\n",
       "    </tr>\n",
       "    <tr>\n",
       "      <th>48</th>\n",
       "      <td>0.247473</td>\n",
       "      <td>0.008572</td>\n",
       "      <td>4</td>\n",
       "      <td>2</td>\n",
       "      <td>0.7</td>\n",
       "      <td>0.617734</td>\n",
       "      <td>0.623722</td>\n",
       "    </tr>\n",
       "    <tr>\n",
       "      <th>49</th>\n",
       "      <td>0.244286</td>\n",
       "      <td>0.013739</td>\n",
       "      <td>1</td>\n",
       "      <td>10</td>\n",
       "      <td>0.8</td>\n",
       "      <td>0.595993</td>\n",
       "      <td>0.630652</td>\n",
       "    </tr>\n",
       "  </tbody>\n",
       "</table>\n",
       "</div>"
      ],
      "text/plain": [
       "    mean_fit_time  std_fit_time param_n_estimators param_max_depth  \\\n",
       "0        1.989508      0.097679                200               6   \n",
       "1        0.323222      0.088907                  1              50   \n",
       "2        1.019092      0.092404                100               5   \n",
       "3        0.326215      0.060958                  4               5   \n",
       "4        0.510273      0.049996                 50               4   \n",
       "5        0.229739      0.004756                  1              25   \n",
       "6        0.416110      0.022212                100               2   \n",
       "7        0.334410      0.018392                 10               4   \n",
       "8        0.277666      0.010393                  5              25   \n",
       "9        0.659706      0.094455                 50              50   \n",
       "10       0.311302      0.043924                  1              10   \n",
       "11       0.489174      0.058255                  4               8   \n",
       "12       0.452016      0.058422                 10              10   \n",
       "13       0.377530      0.026620                 10               6   \n",
       "14       0.256855      0.036879                  1              10   \n",
       "15       0.614334      0.073234                 75               9   \n",
       "16       0.271815      0.020194                  2               3   \n",
       "17       0.295436      0.009355                  4               3   \n",
       "18       0.294459      0.043565                  3               4   \n",
       "19       0.327864      0.042583                  5               8   \n",
       "20       0.311355      0.044688                  5               1   \n",
       "21       0.344510      0.059415                  1              25   \n",
       "22       0.336482      0.037041                  5               4   \n",
       "23       0.313354      0.051889                  2              50   \n",
       "24       0.388341      0.091422                  3               8   \n",
       "25       0.458455      0.061288                  4               9   \n",
       "26       1.416996      0.224450                100              25   \n",
       "27       0.746928      0.172258                 50               5   \n",
       "28       0.390333      0.048523                 10              10   \n",
       "29       0.300522      0.045634                  2               9   \n",
       "30       0.265996      0.026205                  4               4   \n",
       "31       1.581001      0.172782                150              10   \n",
       "32       0.326843      0.018570                  3               5   \n",
       "33       1.249982      0.057438                200               4   \n",
       "34       0.434456      0.052220                 20               8   \n",
       "35       2.428551      0.144173                200              50   \n",
       "36       0.309118      0.103487                  1               7   \n",
       "37       0.501376      0.066039                 10               8   \n",
       "38       0.276654      0.015141                 20               4   \n",
       "39       0.318282      0.041194                  3               5   \n",
       "40       0.311828      0.019679                  4              25   \n",
       "41       0.276998      0.009021                  2               4   \n",
       "42       1.935237      0.052787                200               7   \n",
       "43       1.454144      0.064663                200              25   \n",
       "44       0.739717      0.020755                150               1   \n",
       "45       0.237149      0.008647                  5               9   \n",
       "46       0.260523      0.007978                  4              10   \n",
       "47       0.234230      0.008522                  1               2   \n",
       "48       0.247473      0.008572                  4               2   \n",
       "49       0.244286      0.013739                  1              10   \n",
       "\n",
       "   param_feature_fraction  mean_test_recall  mean_train_recall  \n",
       "0                     0.8          0.596198           0.845296  \n",
       "1                     0.1          0.585955           0.615616  \n",
       "2                     0.7          0.618809           0.714057  \n",
       "3                     0.2          0.593216           0.615615  \n",
       "4                     0.2          0.634381           0.658543  \n",
       "5                     0.5          0.617956           0.646013  \n",
       "6                     0.1          0.626065           0.634919  \n",
       "7                       1          0.607498           0.623296  \n",
       "8                     0.7          0.616252           0.647505  \n",
       "9                     0.4          0.624570           0.711124  \n",
       "10                    0.4          0.597475           0.627083  \n",
       "11                    0.2          0.626491           0.658864  \n",
       "12                    0.4          0.623930           0.665103  \n",
       "13                    0.6          0.611772           0.644199  \n",
       "14                    0.7          0.608154           0.644303  \n",
       "15                    0.2          0.629476           0.728456  \n",
       "16                    0.7          0.585757           0.590921  \n",
       "17                    0.6          0.601739           0.609270  \n",
       "18                    0.5          0.594709           0.612681  \n",
       "19                    0.6          0.614545           0.645478  \n",
       "20                    0.1          0.638028           0.643180  \n",
       "21                    0.2          0.626263           0.656840  \n",
       "22                    0.9          0.608780           0.623456  \n",
       "23                    0.8          0.637367           0.668996  \n",
       "24                    0.1          0.640570           0.667555  \n",
       "25                    0.5          0.624144           0.652304  \n",
       "26                    0.8          0.613477           0.789889  \n",
       "27                    0.4          0.628622           0.670435  \n",
       "28                    0.5          0.626489           0.664676  \n",
       "29                    0.8          0.639073           0.671289  \n",
       "30                    0.7          0.611767           0.624628  \n",
       "31                    0.8          0.603024           0.840657  \n",
       "32                    0.3          0.592795           0.618600  \n",
       "33                    0.6          0.619663           0.726270  \n",
       "34                    0.5          0.631182           0.675875  \n",
       "35                      1          0.590655           0.894198  \n",
       "36                    0.2          0.580404           0.615297  \n",
       "37                    0.8          0.622864           0.652091  \n",
       "38                    0.1          0.617530           0.638332  \n",
       "39                    0.4          0.596840           0.621161  \n",
       "40                    0.6          0.623504           0.652944  \n",
       "41                    0.7          0.628631           0.635290  \n",
       "42                    0.8          0.593855           0.867267  \n",
       "43                    0.4          0.593209           0.863001  \n",
       "44                    0.9          0.595347           0.601482  \n",
       "45                    0.1          0.643557           0.681954  \n",
       "46                    0.5          0.624784           0.654650  \n",
       "47                    0.9          0.626657           0.630985  \n",
       "48                    0.7          0.617734           0.623722  \n",
       "49                    0.8          0.595993           0.630652  "
      ]
     },
     "execution_count": 29,
     "metadata": {},
     "output_type": "execute_result"
    }
   ],
   "source": [
    "param_lgdb = {\n",
    "    \"n_estimators\" : [1, 2, 3, 4, 5, 10, 20, 50, 75, 100, 150, 200],#, 50, 100, 250, 500],\n",
    "    \"max_depth\" : [1,2,3,4,5,6,7,8,9,10, 25, 50],\n",
    "    \"feature_fraction\" : [.1, .2, .3, .4, .5, .6, .7, .8, .9, 1],#, 15, 20, 25],\n",
    "}\n",
    "\n",
    "search_lgbm = RandomizedSearchCV(\n",
    "    LGBMClassifier(class_weight='balanced'), param_lgdb, n_jobs=-1, cv=5, n_iter=50, scoring=[\"recall\"], refit=False, return_train_score=True\n",
    ")\n",
    "\n",
    "search_lgbm.fit(X_train_transformed, y_train)\n",
    "pd.DataFrame(search_lgbm.cv_results_)[[\"mean_fit_time\", \"std_fit_time\", \"param_n_estimators\", \"param_max_depth\", \"param_feature_fraction\", \"mean_test_recall\", \"mean_train_recall\"]]"
   ]
  },
  {
   "cell_type": "code",
   "execution_count": null,
   "metadata": {
    "tags": []
   },
   "outputs": [],
   "source": []
  },
  {
   "cell_type": "code",
   "execution_count": null,
   "metadata": {
    "tags": []
   },
   "outputs": [],
   "source": []
  },
  {
   "cell_type": "code",
   "execution_count": null,
   "metadata": {
    "tags": []
   },
   "outputs": [],
   "source": [
    "\n"
   ]
  },
  {
   "cell_type": "code",
   "execution_count": 30,
   "metadata": {
    "tags": []
   },
   "outputs": [
    {
     "data": {
      "text/plain": [
       "Ellipsis"
      ]
     },
     "execution_count": 30,
     "metadata": {},
     "output_type": "execute_result"
    }
   ],
   "source": [
    "..."
   ]
  },
  {
   "cell_type": "code",
   "execution_count": 31,
   "metadata": {
    "tags": []
   },
   "outputs": [
    {
     "data": {
      "text/plain": [
       "Ellipsis"
      ]
     },
     "execution_count": 31,
     "metadata": {},
     "output_type": "execute_result"
    }
   ],
   "source": [
    "..."
   ]
  },
  {
   "cell_type": "code",
   "execution_count": 32,
   "metadata": {
    "tags": []
   },
   "outputs": [
    {
     "data": {
      "text/plain": [
       "Ellipsis"
      ]
     },
     "execution_count": 32,
     "metadata": {},
     "output_type": "execute_result"
    }
   ],
   "source": [
    "..."
   ]
  },
  {
   "cell_type": "markdown",
   "metadata": {},
   "source": [
    "<!-- END QUESTION -->\n",
    "\n",
    "<br><br>"
   ]
  },
  {
   "cell_type": "markdown",
   "metadata": {},
   "source": [
    "<!-- BEGIN QUESTION -->\n",
    "\n",
    "## 11. Interpretation and feature importances <a name=\"1\"></a>\n",
    "<hr>\n",
    "rubric={points:10}\n",
    "\n",
    "**Your tasks:**\n",
    "\n",
    "1. Use the methods we saw in class (e.g., `eli5`, `shap`) (or any other methods of your choice) to examine the most important features of one of the non-linear models. \n",
    "2. Summarize your observations. "
   ]
  },
  {
   "cell_type": "markdown",
   "metadata": {},
   "source": [
    "<div class=\"alert alert-warning\">\n",
    "    \n",
    "Solution_11\n",
    "    \n",
    "</div>"
   ]
  },
  {
   "cell_type": "markdown",
   "metadata": {},
   "source": [
    "PAY_0 is the most important feature by a lot, at a weight of 0.6073, followed by PAY_2 at 0.2595, and then SPENT and PAY_6. There are very few features that have any weight at all.\n",
    "\n",
    "Some of what I see makes sense, and other bits I am confused about. I think it makes a lot of sense that PAY_0 is the most important feature, if someone misses a monthly payment the month before then it would not be surprising at all for them to default. Along these lines, it also makes sense that PAY_2 is also important, for the same reason (despite not being quite as important). Seeing SPENT so high is a little bit confusing to me, since spending a lot does not necessarily mean that someone is going to default, especially if their limit is high. I suppose that SPENT being so high could be because in conjunction with PAY_0 and PAY_2 it is important. I am a little bit surprised that LIMIT_BAL isn't in there though, because spending a lot when having a low limit I would think would contribute. Seeing PAY_6 have such a little weight isn't surprising, I assume it is just a quirk of the data that PAY_6 is there but PAY_3 through PAY_5 isn't. \n",
    "\n",
    "I am confused about the fact that only 4 features have any weight at all, I did predict before that since the best model is less complex that it is more likely a few important features deciding the outcome, although the fact that they are the only ones that decide the outcome is a bit surprising."
   ]
  },
  {
   "cell_type": "code",
   "execution_count": 33,
   "metadata": {
    "tags": []
   },
   "outputs": [
    {
     "data": {
      "text/plain": [
       "fit_time           0.308 (+/- 0.047)\n",
       "score_time         0.045 (+/- 0.014)\n",
       "test_accuracy      0.691 (+/- 0.015)\n",
       "train_accuracy     0.693 (+/- 0.015)\n",
       "test_f1            0.500 (+/- 0.010)\n",
       "train_f1           0.502 (+/- 0.006)\n",
       "test_recall        0.692 (+/- 0.026)\n",
       "train_recall       0.694 (+/- 0.016)\n",
       "test_precision     0.392 (+/- 0.013)\n",
       "train_precision    0.394 (+/- 0.013)\n",
       "dtype: object"
      ]
     },
     "execution_count": 33,
     "metadata": {},
     "output_type": "execute_result"
    }
   ],
   "source": [
    "best_pipe_lgbm = make_pipeline(ct, LGBMClassifier(n_estimators=3, max_depth=2, feature_fraction=.6, class_weight='balanced'))\n",
    "mean_std_cross_val_scores(best_pipe_lgbm, X_train, y_train, scoring=[\"accuracy\", \"f1\", \"recall\", \"precision\"], cv=10, n_jobs=-1, return_train_score=True)"
   ]
  },
  {
   "cell_type": "code",
   "execution_count": 34,
   "metadata": {
    "tags": []
   },
   "outputs": [
    {
     "data": {
      "text/html": [
       "\n",
       "    <style>\n",
       "    table.eli5-weights tr:hover {\n",
       "        filter: brightness(85%);\n",
       "    }\n",
       "</style>\n",
       "\n",
       "\n",
       "\n",
       "    \n",
       "\n",
       "    \n",
       "\n",
       "    \n",
       "\n",
       "    \n",
       "\n",
       "    \n",
       "\n",
       "    \n",
       "\n",
       "\n",
       "    \n",
       "\n",
       "    \n",
       "\n",
       "    \n",
       "\n",
       "    \n",
       "\n",
       "    \n",
       "\n",
       "    \n",
       "\n",
       "\n",
       "    \n",
       "\n",
       "    \n",
       "\n",
       "    \n",
       "\n",
       "    \n",
       "\n",
       "    \n",
       "        <table class=\"eli5-weights eli5-feature-importances\" style=\"border-collapse: collapse; border: none; margin-top: 0em; table-layout: auto;\">\n",
       "    <thead>\n",
       "    <tr style=\"border: none;\">\n",
       "        <th style=\"padding: 0 1em 0 0.5em; text-align: right; border: none;\">Weight</th>\n",
       "        <th style=\"padding: 0 0.5em 0 0.5em; text-align: left; border: none;\">Feature</th>\n",
       "    </tr>\n",
       "    </thead>\n",
       "    <tbody>\n",
       "    \n",
       "        <tr style=\"background-color: hsl(120, 100.00%, 80.00%); border: none;\">\n",
       "            <td style=\"padding: 0 1em 0 0.5em; text-align: right; border: none;\">\n",
       "                0.6073\n",
       "                \n",
       "            </td>\n",
       "            <td style=\"padding: 0 0.5em 0 0.5em; text-align: left; border: none;\">\n",
       "                PAY_0\n",
       "            </td>\n",
       "        </tr>\n",
       "    \n",
       "        <tr style=\"background-color: hsl(120, 100.00%, 88.97%); border: none;\">\n",
       "            <td style=\"padding: 0 1em 0 0.5em; text-align: right; border: none;\">\n",
       "                0.2595\n",
       "                \n",
       "            </td>\n",
       "            <td style=\"padding: 0 0.5em 0 0.5em; text-align: left; border: none;\">\n",
       "                PAY_2\n",
       "            </td>\n",
       "        </tr>\n",
       "    \n",
       "        <tr style=\"background-color: hsl(120, 100.00%, 93.35%); border: none;\">\n",
       "            <td style=\"padding: 0 1em 0 0.5em; text-align: right; border: none;\">\n",
       "                0.1261\n",
       "                \n",
       "            </td>\n",
       "            <td style=\"padding: 0 0.5em 0 0.5em; text-align: left; border: none;\">\n",
       "                SPENT\n",
       "            </td>\n",
       "        </tr>\n",
       "    \n",
       "        <tr style=\"background-color: hsl(120, 100.00%, 99.12%); border: none;\">\n",
       "            <td style=\"padding: 0 1em 0 0.5em; text-align: right; border: none;\">\n",
       "                0.0071\n",
       "                \n",
       "            </td>\n",
       "            <td style=\"padding: 0 0.5em 0 0.5em; text-align: left; border: none;\">\n",
       "                PAY_6\n",
       "            </td>\n",
       "        </tr>\n",
       "    \n",
       "        <tr style=\"background-color: hsl(0, 100.00%, 100.00%); border: none;\">\n",
       "            <td style=\"padding: 0 1em 0 0.5em; text-align: right; border: none;\">\n",
       "                0\n",
       "                \n",
       "            </td>\n",
       "            <td style=\"padding: 0 0.5em 0 0.5em; text-align: left; border: none;\">\n",
       "                PAY_AMT1\n",
       "            </td>\n",
       "        </tr>\n",
       "    \n",
       "        <tr style=\"background-color: hsl(0, 100.00%, 100.00%); border: none;\">\n",
       "            <td style=\"padding: 0 1em 0 0.5em; text-align: right; border: none;\">\n",
       "                0\n",
       "                \n",
       "            </td>\n",
       "            <td style=\"padding: 0 0.5em 0 0.5em; text-align: left; border: none;\">\n",
       "                PAY_3\n",
       "            </td>\n",
       "        </tr>\n",
       "    \n",
       "        <tr style=\"background-color: hsl(0, 100.00%, 100.00%); border: none;\">\n",
       "            <td style=\"padding: 0 1em 0 0.5em; text-align: right; border: none;\">\n",
       "                0\n",
       "                \n",
       "            </td>\n",
       "            <td style=\"padding: 0 0.5em 0 0.5em; text-align: left; border: none;\">\n",
       "                PAY_4\n",
       "            </td>\n",
       "        </tr>\n",
       "    \n",
       "        <tr style=\"background-color: hsl(0, 100.00%, 100.00%); border: none;\">\n",
       "            <td style=\"padding: 0 1em 0 0.5em; text-align: right; border: none;\">\n",
       "                0\n",
       "                \n",
       "            </td>\n",
       "            <td style=\"padding: 0 0.5em 0 0.5em; text-align: left; border: none;\">\n",
       "                PAY_5\n",
       "            </td>\n",
       "        </tr>\n",
       "    \n",
       "        <tr style=\"background-color: hsl(0, 100.00%, 100.00%); border: none;\">\n",
       "            <td style=\"padding: 0 1em 0 0.5em; text-align: right; border: none;\">\n",
       "                0\n",
       "                \n",
       "            </td>\n",
       "            <td style=\"padding: 0 0.5em 0 0.5em; text-align: left; border: none;\">\n",
       "                BILL_AMT1\n",
       "            </td>\n",
       "        </tr>\n",
       "    \n",
       "        <tr style=\"background-color: hsl(0, 100.00%, 100.00%); border: none;\">\n",
       "            <td style=\"padding: 0 1em 0 0.5em; text-align: right; border: none;\">\n",
       "                0\n",
       "                \n",
       "            </td>\n",
       "            <td style=\"padding: 0 0.5em 0 0.5em; text-align: left; border: none;\">\n",
       "                BILL_AMT2\n",
       "            </td>\n",
       "        </tr>\n",
       "    \n",
       "        <tr style=\"background-color: hsl(0, 100.00%, 100.00%); border: none;\">\n",
       "            <td style=\"padding: 0 1em 0 0.5em; text-align: right; border: none;\">\n",
       "                0\n",
       "                \n",
       "            </td>\n",
       "            <td style=\"padding: 0 0.5em 0 0.5em; text-align: left; border: none;\">\n",
       "                BILL_AMT3\n",
       "            </td>\n",
       "        </tr>\n",
       "    \n",
       "        <tr style=\"background-color: hsl(0, 100.00%, 100.00%); border: none;\">\n",
       "            <td style=\"padding: 0 1em 0 0.5em; text-align: right; border: none;\">\n",
       "                0\n",
       "                \n",
       "            </td>\n",
       "            <td style=\"padding: 0 0.5em 0 0.5em; text-align: left; border: none;\">\n",
       "                BILL_AMT5\n",
       "            </td>\n",
       "        </tr>\n",
       "    \n",
       "        <tr style=\"background-color: hsl(0, 100.00%, 100.00%); border: none;\">\n",
       "            <td style=\"padding: 0 1em 0 0.5em; text-align: right; border: none;\">\n",
       "                0\n",
       "                \n",
       "            </td>\n",
       "            <td style=\"padding: 0 0.5em 0 0.5em; text-align: left; border: none;\">\n",
       "                BILL_AMT6\n",
       "            </td>\n",
       "        </tr>\n",
       "    \n",
       "        <tr style=\"background-color: hsl(0, 100.00%, 100.00%); border: none;\">\n",
       "            <td style=\"padding: 0 1em 0 0.5em; text-align: right; border: none;\">\n",
       "                0\n",
       "                \n",
       "            </td>\n",
       "            <td style=\"padding: 0 0.5em 0 0.5em; text-align: left; border: none;\">\n",
       "                AGE\n",
       "            </td>\n",
       "        </tr>\n",
       "    \n",
       "        <tr style=\"background-color: hsl(0, 100.00%, 100.00%); border: none;\">\n",
       "            <td style=\"padding: 0 1em 0 0.5em; text-align: right; border: none;\">\n",
       "                0\n",
       "                \n",
       "            </td>\n",
       "            <td style=\"padding: 0 0.5em 0 0.5em; text-align: left; border: none;\">\n",
       "                LIMIT_BAL\n",
       "            </td>\n",
       "        </tr>\n",
       "    \n",
       "        <tr style=\"background-color: hsl(0, 100.00%, 100.00%); border: none;\">\n",
       "            <td style=\"padding: 0 1em 0 0.5em; text-align: right; border: none;\">\n",
       "                0\n",
       "                \n",
       "            </td>\n",
       "            <td style=\"padding: 0 0.5em 0 0.5em; text-align: left; border: none;\">\n",
       "                PAY_AMT3\n",
       "            </td>\n",
       "        </tr>\n",
       "    \n",
       "        <tr style=\"background-color: hsl(0, 100.00%, 100.00%); border: none;\">\n",
       "            <td style=\"padding: 0 1em 0 0.5em; text-align: right; border: none;\">\n",
       "                0\n",
       "                \n",
       "            </td>\n",
       "            <td style=\"padding: 0 0.5em 0 0.5em; text-align: left; border: none;\">\n",
       "                SEX_2\n",
       "            </td>\n",
       "        </tr>\n",
       "    \n",
       "        <tr style=\"background-color: hsl(0, 100.00%, 100.00%); border: none;\">\n",
       "            <td style=\"padding: 0 1em 0 0.5em; text-align: right; border: none;\">\n",
       "                0\n",
       "                \n",
       "            </td>\n",
       "            <td style=\"padding: 0 0.5em 0 0.5em; text-align: left; border: none;\">\n",
       "                MARRIAGE_2\n",
       "            </td>\n",
       "        </tr>\n",
       "    \n",
       "        <tr style=\"background-color: hsl(0, 100.00%, 100.00%); border: none;\">\n",
       "            <td style=\"padding: 0 1em 0 0.5em; text-align: right; border: none;\">\n",
       "                0\n",
       "                \n",
       "            </td>\n",
       "            <td style=\"padding: 0 0.5em 0 0.5em; text-align: left; border: none;\">\n",
       "                BILL_AMT4\n",
       "            </td>\n",
       "        </tr>\n",
       "    \n",
       "        <tr style=\"background-color: hsl(0, 100.00%, 100.00%); border: none;\">\n",
       "            <td style=\"padding: 0 1em 0 0.5em; text-align: right; border: none;\">\n",
       "                0\n",
       "                \n",
       "            </td>\n",
       "            <td style=\"padding: 0 0.5em 0 0.5em; text-align: left; border: none;\">\n",
       "                EDUCATION\n",
       "            </td>\n",
       "        </tr>\n",
       "    \n",
       "    \n",
       "        \n",
       "            <tr style=\"background-color: hsl(0, 100.00%, 100.00%); border: none;\">\n",
       "                <td colspan=\"2\" style=\"padding: 0 0.5em 0 0.5em; text-align: center; border: none; white-space: nowrap;\">\n",
       "                    <i>&hellip; 10 more &hellip;</i>\n",
       "                </td>\n",
       "            </tr>\n",
       "        \n",
       "    \n",
       "    </tbody>\n",
       "</table>\n",
       "    \n",
       "\n",
       "    \n",
       "\n",
       "\n",
       "    \n",
       "\n",
       "    \n",
       "\n",
       "    \n",
       "\n",
       "    \n",
       "\n",
       "    \n",
       "\n",
       "    \n",
       "\n",
       "\n",
       "\n"
      ],
      "text/plain": [
       "Explanation(estimator=\"LGBMClassifier(class_weight='balanced', feature_fraction=0.6, max_depth=2,\\n               n_estimators=3)\", description='\\nLightGBM feature importances; values are numbers 0 <= x <= 1;\\nall values sum to 1.\\n', error=None, method='feature importances', is_regression=False, targets=None, feature_importances=FeatureImportances(importances=[FeatureWeight(feature='PAY_0', weight=0.6073491042787998, std=None, value=None), FeatureWeight(feature='PAY_2', weight=0.2594958448279559, std=None, value=None), FeatureWeight(feature='SPENT', weight=0.12609913305131176, std=None, value=None), FeatureWeight(feature='PAY_6', weight=0.007055917841932541, std=None, value=None), FeatureWeight(feature='PAY_AMT1', weight=0.0, std=None, value=None), FeatureWeight(feature='PAY_3', weight=0.0, std=None, value=None), FeatureWeight(feature='PAY_4', weight=0.0, std=None, value=None), FeatureWeight(feature='PAY_5', weight=0.0, std=None, value=None), FeatureWeight(feature='BILL_AMT1', weight=0.0, std=None, value=None), FeatureWeight(feature='BILL_AMT2', weight=0.0, std=None, value=None), FeatureWeight(feature='BILL_AMT3', weight=0.0, std=None, value=None), FeatureWeight(feature='BILL_AMT5', weight=0.0, std=None, value=None), FeatureWeight(feature='BILL_AMT6', weight=0.0, std=None, value=None), FeatureWeight(feature='AGE', weight=0.0, std=None, value=None), FeatureWeight(feature='LIMIT_BAL', weight=0.0, std=None, value=None), FeatureWeight(feature='PAY_AMT3', weight=0.0, std=None, value=None), FeatureWeight(feature='SEX_2', weight=0.0, std=None, value=None), FeatureWeight(feature='MARRIAGE_2', weight=0.0, std=None, value=None), FeatureWeight(feature='BILL_AMT4', weight=0.0, std=None, value=None), FeatureWeight(feature='EDUCATION', weight=0.0, std=None, value=None)], remaining=10), decision_tree=None, highlight_spaces=None, transition_features=None, image=None)"
      ]
     },
     "execution_count": 34,
     "metadata": {},
     "output_type": "execute_result"
    }
   ],
   "source": [
    "best_pipe_lgbm.fit(X_train, y_train.values.ravel())\n",
    "eli5_lgbm = eli5.explain_weights(\n",
    "    best_pipe_lgbm.named_steps[\"lgbmclassifier\"], feature_names=list(X_train_transformed.columns)\n",
    ")\n",
    "eli5_lgbm"
   ]
  },
  {
   "cell_type": "code",
   "execution_count": 35,
   "metadata": {
    "tags": []
   },
   "outputs": [
    {
     "data": {
      "text/plain": [
       "Ellipsis"
      ]
     },
     "execution_count": 35,
     "metadata": {},
     "output_type": "execute_result"
    }
   ],
   "source": [
    "..."
   ]
  },
  {
   "cell_type": "code",
   "execution_count": 36,
   "metadata": {
    "tags": []
   },
   "outputs": [
    {
     "data": {
      "text/plain": [
       "Ellipsis"
      ]
     },
     "execution_count": 36,
     "metadata": {},
     "output_type": "execute_result"
    }
   ],
   "source": [
    "..."
   ]
  },
  {
   "cell_type": "code",
   "execution_count": 37,
   "metadata": {
    "tags": []
   },
   "outputs": [
    {
     "data": {
      "text/plain": [
       "Ellipsis"
      ]
     },
     "execution_count": 37,
     "metadata": {},
     "output_type": "execute_result"
    }
   ],
   "source": [
    "..."
   ]
  },
  {
   "cell_type": "code",
   "execution_count": 38,
   "metadata": {
    "tags": []
   },
   "outputs": [
    {
     "data": {
      "text/plain": [
       "Ellipsis"
      ]
     },
     "execution_count": 38,
     "metadata": {},
     "output_type": "execute_result"
    }
   ],
   "source": [
    "..."
   ]
  },
  {
   "cell_type": "code",
   "execution_count": 39,
   "metadata": {
    "tags": []
   },
   "outputs": [
    {
     "data": {
      "text/plain": [
       "Ellipsis"
      ]
     },
     "execution_count": 39,
     "metadata": {},
     "output_type": "execute_result"
    }
   ],
   "source": [
    "..."
   ]
  },
  {
   "cell_type": "code",
   "execution_count": 40,
   "metadata": {
    "tags": []
   },
   "outputs": [
    {
     "data": {
      "text/plain": [
       "Ellipsis"
      ]
     },
     "execution_count": 40,
     "metadata": {},
     "output_type": "execute_result"
    }
   ],
   "source": [
    "..."
   ]
  },
  {
   "cell_type": "code",
   "execution_count": 41,
   "metadata": {
    "tags": []
   },
   "outputs": [
    {
     "data": {
      "text/plain": [
       "Ellipsis"
      ]
     },
     "execution_count": 41,
     "metadata": {},
     "output_type": "execute_result"
    }
   ],
   "source": [
    "..."
   ]
  },
  {
   "cell_type": "code",
   "execution_count": 42,
   "metadata": {
    "tags": []
   },
   "outputs": [
    {
     "data": {
      "text/plain": [
       "Ellipsis"
      ]
     },
     "execution_count": 42,
     "metadata": {},
     "output_type": "execute_result"
    }
   ],
   "source": [
    "..."
   ]
  },
  {
   "cell_type": "code",
   "execution_count": 43,
   "metadata": {
    "tags": []
   },
   "outputs": [
    {
     "data": {
      "text/plain": [
       "Ellipsis"
      ]
     },
     "execution_count": 43,
     "metadata": {},
     "output_type": "execute_result"
    }
   ],
   "source": [
    "..."
   ]
  },
  {
   "cell_type": "markdown",
   "metadata": {},
   "source": [
    "<!-- END QUESTION -->\n",
    "\n",
    "<br><br>"
   ]
  },
  {
   "cell_type": "markdown",
   "metadata": {
    "tags": []
   },
   "source": [
    "<!-- BEGIN QUESTION -->\n",
    "\n",
    "## 12. Results on the test set <a name=\"12\"></a>\n",
    "<hr>\n",
    "\n",
    "rubric={points:10}\n",
    "\n",
    "**Your tasks:**\n",
    "\n",
    "1. Try your best performing model on the test data and report test scores. \n",
    "2. Do the test scores agree with the validation scores from before? To what extent do you trust your results? Do you think you've had issues with optimization bias? \n",
    "3. Take one or two test predictions and explain these individual predictions (e.g., with SHAP force plots).  "
   ]
  },
  {
   "cell_type": "markdown",
   "metadata": {},
   "source": [
    "<div class=\"alert alert-warning\">\n",
    "    \n",
    "Solution_12\n",
    "    \n",
    "</div>"
   ]
  },
  {
   "cell_type": "markdown",
   "metadata": {},
   "source": [
    "The results from the test set do agree with the training scores, to a degree that I did not expect. I actually got a better recall on the test set than I did on the training set, which is a bit surprising as I didn't train the model with those values. The model is not particularly complex, as I've already mentioned, so the fact that it did as well as it did means that it probably generalizes pretty well. I don't think that I had a problem with optimization bias, given the test score that I have. I have displayed two shap plots, which show how the four important features have impacted a couple guesses, one where all four 'agree' so to speak, and one where the model is very unsure because the features 'disagree'"
   ]
  },
  {
   "cell_type": "code",
   "execution_count": 44,
   "metadata": {
    "tags": []
   },
   "outputs": [
    {
     "data": {
      "text/plain": [
       "0.6682222222222223"
      ]
     },
     "execution_count": 44,
     "metadata": {},
     "output_type": "execute_result"
    }
   ],
   "source": [
    "best_pipe_lgbm.score(X_test, y_test)"
   ]
  },
  {
   "cell_type": "code",
   "execution_count": 45,
   "metadata": {
    "tags": []
   },
   "outputs": [
    {
     "data": {
      "image/png": "[encoded data removed]",
      "text/plain": [
       "<Figure size 640x480 with 1 Axes>"
      ]
     },
     "metadata": {},
     "output_type": "display_data"
    }
   ],
   "source": [
    "#from lecture 9 \n",
    "disp = ConfusionMatrixDisplay.from_estimator(\n",
    "    best_pipe_lgbm,\n",
    "    X_test,\n",
    "    y_test,\n",
    "    display_labels=[\"doesn't default\", \"defaults\"],\n",
    "    values_format=\"d\",\n",
    "    cmap=plt.cm.Blues,\n",
    "    colorbar=False,\n",
    ")"
   ]
  },
  {
   "cell_type": "code",
   "execution_count": 46,
   "metadata": {
    "tags": []
   },
   "outputs": [
    {
     "name": "stdout",
     "output_type": "stream",
     "text": [
      "recall is:  0.7217659137577002\n",
      "precision is:  0.3651948051948052\n"
     ]
    }
   ],
   "source": [
    "#also from lecture 9\n",
    "predictions = best_pipe_lgbm.predict(X_test)\n",
    "TN, FP, FN, TP = confusion_matrix(y_test, predictions).ravel()\n",
    "precision = TP / (TP + FP)\n",
    "recall = TP / (TP + FN)\n",
    "print(\"recall is: \", recall)\n",
    "print(\"precision is: \", precision)"
   ]
  },
  {
   "cell_type": "code",
   "execution_count": 47,
   "metadata": {
    "tags": []
   },
   "outputs": [],
   "source": [
    "#from lecture 12\n",
    "import warnings\n",
    "\n",
    "from numba import NumbaDeprecationWarning\n",
    "\n",
    "warnings.simplefilter(action=\"ignore\", category=NumbaDeprecationWarning)  # ignore warnings\n",
    "warnings.simplefilter(action=\"ignore\", category=UserWarning)  # ignore warnings\n",
    "\n",
    "import shap"
   ]
  },
  {
   "cell_type": "code",
   "execution_count": 48,
   "metadata": {
    "tags": []
   },
   "outputs": [
    {
     "data": {
      "text/plain": [
       "<shap.explainers._tree.Tree at 0x210962c96c0>"
      ]
     },
     "execution_count": 48,
     "metadata": {},
     "output_type": "execute_result"
    }
   ],
   "source": [
    "X_test_transformed = ct.transform(X_test)\n",
    "lgbm_explainer = shap.TreeExplainer(best_pipe_lgbm.named_steps[\"lgbmclassifier\"])\n",
    "test_lgbm_shap_values = lgbm_explainer.shap_values(X_test_transformed)\n",
    "lgbm_explainer"
   ]
  },
  {
   "cell_type": "code",
   "execution_count": 49,
   "metadata": {
    "tags": []
   },
   "outputs": [
    {
     "data": {
      "image/png": "[encoded data removed]",
      "text/plain": [
       "<Figure size 2000x300 with 1 Axes>"
      ]
     },
     "metadata": {},
     "output_type": "display_data"
    }
   ],
   "source": [
    "#incorrect false prediction\n",
    "val = 3\n",
    "shap.force_plot(\n",
    "    lgbm_explainer.expected_value[y_test.values.ravel()[val]],\n",
    "    test_lgbm_shap_values[y_test.values.ravel()[val]][val],\n",
    "    X_test_transformed[val],\n",
    "    matplotlib=True,\n",
    "    feature_names = list(X_train_transformed.columns),\n",
    ")"
   ]
  },
  {
   "cell_type": "code",
   "execution_count": 50,
   "metadata": {
    "tags": []
   },
   "outputs": [
    {
     "data": {
      "image/png": "[encoded data removed]",
      "text/plain": [
       "<Figure size 2000x300 with 1 Axes>"
      ]
     },
     "metadata": {},
     "output_type": "display_data"
    }
   ],
   "source": [
    "#incorrect true prediction\n",
    "val = 4\n",
    "shap.force_plot(\n",
    "    lgbm_explainer.expected_value[y_test.values.ravel()[val]],\n",
    "    test_lgbm_shap_values[y_test.values.ravel()[val]][val],\n",
    "    X_test_transformed[val],\n",
    "    matplotlib=True,\n",
    "    feature_names = list(X_train_transformed.columns),\n",
    ")"
   ]
  },
  {
   "cell_type": "code",
   "execution_count": null,
   "metadata": {
    "tags": []
   },
   "outputs": [],
   "source": []
  },
  {
   "cell_type": "code",
   "execution_count": null,
   "metadata": {
    "tags": []
   },
   "outputs": [],
   "source": []
  },
  {
   "cell_type": "code",
   "execution_count": 51,
   "metadata": {
    "tags": []
   },
   "outputs": [
    {
     "data": {
      "text/plain": [
       "Ellipsis"
      ]
     },
     "execution_count": 51,
     "metadata": {},
     "output_type": "execute_result"
    }
   ],
   "source": [
    "..."
   ]
  },
  {
   "cell_type": "code",
   "execution_count": 52,
   "metadata": {
    "tags": []
   },
   "outputs": [
    {
     "data": {
      "text/plain": [
       "Ellipsis"
      ]
     },
     "execution_count": 52,
     "metadata": {},
     "output_type": "execute_result"
    }
   ],
   "source": [
    "..."
   ]
  },
  {
   "cell_type": "code",
   "execution_count": 53,
   "metadata": {
    "tags": []
   },
   "outputs": [
    {
     "data": {
      "text/plain": [
       "Ellipsis"
      ]
     },
     "execution_count": 53,
     "metadata": {},
     "output_type": "execute_result"
    }
   ],
   "source": [
    "..."
   ]
  },
  {
   "cell_type": "markdown",
   "metadata": {},
   "source": [
    "<!-- END QUESTION -->\n",
    "\n",
    "<br><br>"
   ]
  },
  {
   "cell_type": "markdown",
   "metadata": {},
   "source": [
    "<!-- BEGIN QUESTION -->\n",
    "\n",
    "## 13. Summary of results <a name=\"13\"></a>\n",
    "<hr>\n",
    "rubric={points:12}\n",
    "\n",
    "Imagine that you want to present the summary of these results to your boss and co-workers. \n",
    "\n",
    "**Your tasks:**\n",
    "\n",
    "1. Create a table summarizing important results. \n",
    "2. Write concluding remarks.\n",
    "3. Discuss other ideas that you did not try but could potentially improve the performance/interpretability . \n",
    "3. Report your final test score along with the metric you used at the top of this notebook in the [Submission instructions section](#si)."
   ]
  },
  {
   "cell_type": "markdown",
   "metadata": {},
   "source": [
    "<div class=\"alert alert-warning\">\n",
    "    \n",
    "Solution_13\n",
    "    \n",
    "</div>"
   ]
  },
  {
   "cell_type": "markdown",
   "metadata": {},
   "source": [
    "In retrospect, I don't think that I would have used recall as the scoring metric. I assumed that I would be able to get a better score than I did, despite improving upon the DummyClassifiers recall. While I do think that a false negative would be the worst case for the bank considering the data set, having a high accuracy is also important. I would like to have been able to test more with SVM, and done some feature selection with it, since SVM may have benefitted more from removing a couple features. In the future I would try a voting classifier which might improve performance. My final test score for recall was 0.7217659137577002, and the accuracy was 0.6682222222222223, so actually worse than the Dummy Classifier but that isn't unexpected considering I wasn't going for accuracy. The most important features were PAY_0, PAY2 - which are an indication for the previous two months of whether a payment was made on time -  and SPENT, which records the total amount spent over the past 5 months."
   ]
  },
  {
   "cell_type": "code",
   "execution_count": 54,
   "metadata": {
    "tags": []
   },
   "outputs": [
    {
     "data": {
      "text/html": [
       "\n",
       "    <style>\n",
       "    table.eli5-weights tr:hover {\n",
       "        filter: brightness(85%);\n",
       "    }\n",
       "</style>\n",
       "\n",
       "\n",
       "\n",
       "    \n",
       "\n",
       "    \n",
       "\n",
       "    \n",
       "\n",
       "    \n",
       "\n",
       "    \n",
       "\n",
       "    \n",
       "\n",
       "\n",
       "    \n",
       "\n",
       "    \n",
       "\n",
       "    \n",
       "\n",
       "    \n",
       "\n",
       "    \n",
       "\n",
       "    \n",
       "\n",
       "\n",
       "    \n",
       "\n",
       "    \n",
       "\n",
       "    \n",
       "\n",
       "    \n",
       "\n",
       "    \n",
       "        <table class=\"eli5-weights eli5-feature-importances\" style=\"border-collapse: collapse; border: none; margin-top: 0em; table-layout: auto;\">\n",
       "    <thead>\n",
       "    <tr style=\"border: none;\">\n",
       "        <th style=\"padding: 0 1em 0 0.5em; text-align: right; border: none;\">Weight</th>\n",
       "        <th style=\"padding: 0 0.5em 0 0.5em; text-align: left; border: none;\">Feature</th>\n",
       "    </tr>\n",
       "    </thead>\n",
       "    <tbody>\n",
       "    \n",
       "        <tr style=\"background-color: hsl(120, 100.00%, 80.00%); border: none;\">\n",
       "            <td style=\"padding: 0 1em 0 0.5em; text-align: right; border: none;\">\n",
       "                0.6073\n",
       "                \n",
       "            </td>\n",
       "            <td style=\"padding: 0 0.5em 0 0.5em; text-align: left; border: none;\">\n",
       "                PAY_0\n",
       "            </td>\n",
       "        </tr>\n",
       "    \n",
       "        <tr style=\"background-color: hsl(120, 100.00%, 88.97%); border: none;\">\n",
       "            <td style=\"padding: 0 1em 0 0.5em; text-align: right; border: none;\">\n",
       "                0.2595\n",
       "                \n",
       "            </td>\n",
       "            <td style=\"padding: 0 0.5em 0 0.5em; text-align: left; border: none;\">\n",
       "                PAY_2\n",
       "            </td>\n",
       "        </tr>\n",
       "    \n",
       "        <tr style=\"background-color: hsl(120, 100.00%, 93.35%); border: none;\">\n",
       "            <td style=\"padding: 0 1em 0 0.5em; text-align: right; border: none;\">\n",
       "                0.1261\n",
       "                \n",
       "            </td>\n",
       "            <td style=\"padding: 0 0.5em 0 0.5em; text-align: left; border: none;\">\n",
       "                SPENT\n",
       "            </td>\n",
       "        </tr>\n",
       "    \n",
       "        <tr style=\"background-color: hsl(120, 100.00%, 99.12%); border: none;\">\n",
       "            <td style=\"padding: 0 1em 0 0.5em; text-align: right; border: none;\">\n",
       "                0.0071\n",
       "                \n",
       "            </td>\n",
       "            <td style=\"padding: 0 0.5em 0 0.5em; text-align: left; border: none;\">\n",
       "                PAY_6\n",
       "            </td>\n",
       "        </tr>\n",
       "    \n",
       "        <tr style=\"background-color: hsl(0, 100.00%, 100.00%); border: none;\">\n",
       "            <td style=\"padding: 0 1em 0 0.5em; text-align: right; border: none;\">\n",
       "                0\n",
       "                \n",
       "            </td>\n",
       "            <td style=\"padding: 0 0.5em 0 0.5em; text-align: left; border: none;\">\n",
       "                PAY_AMT1\n",
       "            </td>\n",
       "        </tr>\n",
       "    \n",
       "        <tr style=\"background-color: hsl(0, 100.00%, 100.00%); border: none;\">\n",
       "            <td style=\"padding: 0 1em 0 0.5em; text-align: right; border: none;\">\n",
       "                0\n",
       "                \n",
       "            </td>\n",
       "            <td style=\"padding: 0 0.5em 0 0.5em; text-align: left; border: none;\">\n",
       "                PAY_3\n",
       "            </td>\n",
       "        </tr>\n",
       "    \n",
       "        <tr style=\"background-color: hsl(0, 100.00%, 100.00%); border: none;\">\n",
       "            <td style=\"padding: 0 1em 0 0.5em; text-align: right; border: none;\">\n",
       "                0\n",
       "                \n",
       "            </td>\n",
       "            <td style=\"padding: 0 0.5em 0 0.5em; text-align: left; border: none;\">\n",
       "                PAY_4\n",
       "            </td>\n",
       "        </tr>\n",
       "    \n",
       "        <tr style=\"background-color: hsl(0, 100.00%, 100.00%); border: none;\">\n",
       "            <td style=\"padding: 0 1em 0 0.5em; text-align: right; border: none;\">\n",
       "                0\n",
       "                \n",
       "            </td>\n",
       "            <td style=\"padding: 0 0.5em 0 0.5em; text-align: left; border: none;\">\n",
       "                PAY_5\n",
       "            </td>\n",
       "        </tr>\n",
       "    \n",
       "        <tr style=\"background-color: hsl(0, 100.00%, 100.00%); border: none;\">\n",
       "            <td style=\"padding: 0 1em 0 0.5em; text-align: right; border: none;\">\n",
       "                0\n",
       "                \n",
       "            </td>\n",
       "            <td style=\"padding: 0 0.5em 0 0.5em; text-align: left; border: none;\">\n",
       "                BILL_AMT1\n",
       "            </td>\n",
       "        </tr>\n",
       "    \n",
       "        <tr style=\"background-color: hsl(0, 100.00%, 100.00%); border: none;\">\n",
       "            <td style=\"padding: 0 1em 0 0.5em; text-align: right; border: none;\">\n",
       "                0\n",
       "                \n",
       "            </td>\n",
       "            <td style=\"padding: 0 0.5em 0 0.5em; text-align: left; border: none;\">\n",
       "                BILL_AMT2\n",
       "            </td>\n",
       "        </tr>\n",
       "    \n",
       "        <tr style=\"background-color: hsl(0, 100.00%, 100.00%); border: none;\">\n",
       "            <td style=\"padding: 0 1em 0 0.5em; text-align: right; border: none;\">\n",
       "                0\n",
       "                \n",
       "            </td>\n",
       "            <td style=\"padding: 0 0.5em 0 0.5em; text-align: left; border: none;\">\n",
       "                BILL_AMT3\n",
       "            </td>\n",
       "        </tr>\n",
       "    \n",
       "        <tr style=\"background-color: hsl(0, 100.00%, 100.00%); border: none;\">\n",
       "            <td style=\"padding: 0 1em 0 0.5em; text-align: right; border: none;\">\n",
       "                0\n",
       "                \n",
       "            </td>\n",
       "            <td style=\"padding: 0 0.5em 0 0.5em; text-align: left; border: none;\">\n",
       "                BILL_AMT5\n",
       "            </td>\n",
       "        </tr>\n",
       "    \n",
       "        <tr style=\"background-color: hsl(0, 100.00%, 100.00%); border: none;\">\n",
       "            <td style=\"padding: 0 1em 0 0.5em; text-align: right; border: none;\">\n",
       "                0\n",
       "                \n",
       "            </td>\n",
       "            <td style=\"padding: 0 0.5em 0 0.5em; text-align: left; border: none;\">\n",
       "                BILL_AMT6\n",
       "            </td>\n",
       "        </tr>\n",
       "    \n",
       "        <tr style=\"background-color: hsl(0, 100.00%, 100.00%); border: none;\">\n",
       "            <td style=\"padding: 0 1em 0 0.5em; text-align: right; border: none;\">\n",
       "                0\n",
       "                \n",
       "            </td>\n",
       "            <td style=\"padding: 0 0.5em 0 0.5em; text-align: left; border: none;\">\n",
       "                AGE\n",
       "            </td>\n",
       "        </tr>\n",
       "    \n",
       "        <tr style=\"background-color: hsl(0, 100.00%, 100.00%); border: none;\">\n",
       "            <td style=\"padding: 0 1em 0 0.5em; text-align: right; border: none;\">\n",
       "                0\n",
       "                \n",
       "            </td>\n",
       "            <td style=\"padding: 0 0.5em 0 0.5em; text-align: left; border: none;\">\n",
       "                LIMIT_BAL\n",
       "            </td>\n",
       "        </tr>\n",
       "    \n",
       "        <tr style=\"background-color: hsl(0, 100.00%, 100.00%); border: none;\">\n",
       "            <td style=\"padding: 0 1em 0 0.5em; text-align: right; border: none;\">\n",
       "                0\n",
       "                \n",
       "            </td>\n",
       "            <td style=\"padding: 0 0.5em 0 0.5em; text-align: left; border: none;\">\n",
       "                PAY_AMT3\n",
       "            </td>\n",
       "        </tr>\n",
       "    \n",
       "        <tr style=\"background-color: hsl(0, 100.00%, 100.00%); border: none;\">\n",
       "            <td style=\"padding: 0 1em 0 0.5em; text-align: right; border: none;\">\n",
       "                0\n",
       "                \n",
       "            </td>\n",
       "            <td style=\"padding: 0 0.5em 0 0.5em; text-align: left; border: none;\">\n",
       "                SEX_2\n",
       "            </td>\n",
       "        </tr>\n",
       "    \n",
       "        <tr style=\"background-color: hsl(0, 100.00%, 100.00%); border: none;\">\n",
       "            <td style=\"padding: 0 1em 0 0.5em; text-align: right; border: none;\">\n",
       "                0\n",
       "                \n",
       "            </td>\n",
       "            <td style=\"padding: 0 0.5em 0 0.5em; text-align: left; border: none;\">\n",
       "                MARRIAGE_2\n",
       "            </td>\n",
       "        </tr>\n",
       "    \n",
       "        <tr style=\"background-color: hsl(0, 100.00%, 100.00%); border: none;\">\n",
       "            <td style=\"padding: 0 1em 0 0.5em; text-align: right; border: none;\">\n",
       "                0\n",
       "                \n",
       "            </td>\n",
       "            <td style=\"padding: 0 0.5em 0 0.5em; text-align: left; border: none;\">\n",
       "                BILL_AMT4\n",
       "            </td>\n",
       "        </tr>\n",
       "    \n",
       "        <tr style=\"background-color: hsl(0, 100.00%, 100.00%); border: none;\">\n",
       "            <td style=\"padding: 0 1em 0 0.5em; text-align: right; border: none;\">\n",
       "                0\n",
       "                \n",
       "            </td>\n",
       "            <td style=\"padding: 0 0.5em 0 0.5em; text-align: left; border: none;\">\n",
       "                EDUCATION\n",
       "            </td>\n",
       "        </tr>\n",
       "    \n",
       "    \n",
       "        \n",
       "            <tr style=\"background-color: hsl(0, 100.00%, 100.00%); border: none;\">\n",
       "                <td colspan=\"2\" style=\"padding: 0 0.5em 0 0.5em; text-align: center; border: none; white-space: nowrap;\">\n",
       "                    <i>&hellip; 10 more &hellip;</i>\n",
       "                </td>\n",
       "            </tr>\n",
       "        \n",
       "    \n",
       "    </tbody>\n",
       "</table>\n",
       "    \n",
       "\n",
       "    \n",
       "\n",
       "\n",
       "    \n",
       "\n",
       "    \n",
       "\n",
       "    \n",
       "\n",
       "    \n",
       "\n",
       "    \n",
       "\n",
       "    \n",
       "\n",
       "\n",
       "\n"
      ],
      "text/plain": [
       "Explanation(estimator=\"LGBMClassifier(class_weight='balanced', feature_fraction=0.6, max_depth=2,\\n               n_estimators=3)\", description='\\nLightGBM feature importances; values are numbers 0 <= x <= 1;\\nall values sum to 1.\\n', error=None, method='feature importances', is_regression=False, targets=None, feature_importances=FeatureImportances(importances=[FeatureWeight(feature='PAY_0', weight=0.6073491042787998, std=None, value=None), FeatureWeight(feature='PAY_2', weight=0.2594958448279559, std=None, value=None), FeatureWeight(feature='SPENT', weight=0.12609913305131176, std=None, value=None), FeatureWeight(feature='PAY_6', weight=0.007055917841932541, std=None, value=None), FeatureWeight(feature='PAY_AMT1', weight=0.0, std=None, value=None), FeatureWeight(feature='PAY_3', weight=0.0, std=None, value=None), FeatureWeight(feature='PAY_4', weight=0.0, std=None, value=None), FeatureWeight(feature='PAY_5', weight=0.0, std=None, value=None), FeatureWeight(feature='BILL_AMT1', weight=0.0, std=None, value=None), FeatureWeight(feature='BILL_AMT2', weight=0.0, std=None, value=None), FeatureWeight(feature='BILL_AMT3', weight=0.0, std=None, value=None), FeatureWeight(feature='BILL_AMT5', weight=0.0, std=None, value=None), FeatureWeight(feature='BILL_AMT6', weight=0.0, std=None, value=None), FeatureWeight(feature='AGE', weight=0.0, std=None, value=None), FeatureWeight(feature='LIMIT_BAL', weight=0.0, std=None, value=None), FeatureWeight(feature='PAY_AMT3', weight=0.0, std=None, value=None), FeatureWeight(feature='SEX_2', weight=0.0, std=None, value=None), FeatureWeight(feature='MARRIAGE_2', weight=0.0, std=None, value=None), FeatureWeight(feature='BILL_AMT4', weight=0.0, std=None, value=None), FeatureWeight(feature='EDUCATION', weight=0.0, std=None, value=None)], remaining=10), decision_tree=None, highlight_spaces=None, transition_features=None, image=None)"
      ]
     },
     "execution_count": 54,
     "metadata": {},
     "output_type": "execute_result"
    },
    {
     "data": {
      "image/png": "[encoded data removed]",
      "text/plain": [
       "<Figure size 640x480 with 1 Axes>"
      ]
     },
     "metadata": {},
     "output_type": "display_data"
    }
   ],
   "source": [
    "#from lecture 9 \n",
    "disp = ConfusionMatrixDisplay.from_estimator(\n",
    "    best_pipe_lgbm,\n",
    "    X_test,\n",
    "    y_test,\n",
    "    display_labels=[\"doesn't default\", \"defaults\"],\n",
    "    values_format=\"d\",\n",
    "    cmap=plt.cm.Blues,\n",
    "    colorbar=False,\n",
    ")\n",
    "\n",
    "eli5_lgbm"
   ]
  },
  {
   "cell_type": "code",
   "execution_count": 55,
   "metadata": {
    "tags": []
   },
   "outputs": [
    {
     "name": "stdout",
     "output_type": "stream",
     "text": [
      "test accuracy is:  0.6682222222222223\n",
      "test recall is:  0.7217659137577002\n",
      "test precision is:  0.3651948051948052\n",
      "test f1 score is:  0.48499482580200065\n"
     ]
    }
   ],
   "source": [
    "print(\"test accuracy is: \", best_pipe_lgbm.score(X_test, y_test)) \n",
    "print(\"test recall is: \", recall)\n",
    "print(\"test precision is: \", precision)\n",
    "print(\"test f1 score is: \", ((2 * precision * recall) / (precision + recall)))"
   ]
  },
  {
   "cell_type": "markdown",
   "metadata": {},
   "source": [
    "<!-- END QUESTION -->\n",
    "\n",
    "<br><br>"
   ]
  },
  {
   "cell_type": "markdown",
   "metadata": {},
   "source": [
    "<br><br>"
   ]
  },
  {
   "cell_type": "markdown",
   "metadata": {},
   "source": [
    "<!-- BEGIN QUESTION -->\n",
    "\n",
    "## (Optional) 14. Your takeaway <a name=\"15\"></a>\n",
    "<hr>\n",
    "rubric={points:2}\n",
    "\n",
    "**Your tasks:**\n",
    "\n",
    "What is your biggest takeaway from the supervised machine learning material we have learned so far? Please write thoughtful answers.  "
   ]
  },
  {
   "cell_type": "markdown",
   "metadata": {},
   "source": [
    "The biggest takeaway that I've gotten so far is that creating a good machine learning model doesn't really have to do at all with how clever the code is. In a lot of languages and applications this is not necessarily true. In supervised ml (at least that I've seen so far), all of the clever coding has been done, and a model can be created by anyone with an internet connection and 10 or so lines of code. What makes a good machine learning model depends on the resourcefulness, creativeness, background knowledge, and willingness to iterate of the person creating it."
   ]
  },
  {
   "cell_type": "markdown",
   "metadata": {},
   "source": [
    "<div class=\"alert alert-warning\">\n",
    "    \n",
    "Solution_14\n",
    "    \n",
    "</div>"
   ]
  },
  {
   "cell_type": "markdown",
   "metadata": {},
   "source": [
    "<!-- END QUESTION -->\n",
    "\n",
    "<br><br>"
   ]
  },
  {
   "cell_type": "markdown",
   "metadata": {},
   "source": [
    "**PLEASE READ BEFORE YOU SUBMIT:** \n",
    "\n",
    "When you are ready to submit your assignment do the following:\n",
    "\n",
    "1. Run all cells in your notebook to make sure there are no errors by doing `Kernel -> Restart Kernel and Clear All Outputs` and then `Run -> Run All Cells`. \n",
    "2. Notebooks with cell execution numbers out of order or not starting from \"1\" will have marks deducted. Notebooks without the output displayed may not be graded at all (because we need to see the output in order to grade your work).\n",
    "4. Upload the assignment using Gradescope's drag and drop tool. Check out this [Gradescope Student Guide](https://lthub.ubc.ca/guides/gradescope-student-guide/) if you need help with Gradescope submission. \n",
    "5. Make sure that the plots and output are rendered properly in your submitted file. If the .ipynb file is too big and doesn't render on Gradescope, also upload a pdf or html in addition to the .ipynb so that the TAs can view your submission on Gradescope. "
   ]
  },
  {
   "cell_type": "markdown",
   "metadata": {},
   "source": [
    "This was a tricky one but you did it! Have a great weekend! "
   ]
  },
  {
   "cell_type": "markdown",
   "metadata": {},
   "source": [
    "![](img/eva-well-done.png)"
   ]
  }
 ],
 "metadata": {
  "kernelspec": {
   "display_name": "Python [conda env:cpsc330]",
   "language": "python",
   "name": "conda-env-cpsc330-py"
  },
  "language_info": {
   "codemirror_mode": {
    "name": "ipython",
    "version": 3
   },
   "file_extension": ".py",
   "mimetype": "text/x-python",
   "name": "python",
   "nbconvert_exporter": "python",
   "pygments_lexer": "ipython3",
   "version": "3.10.11"
  },
  "otter": {
   "OK_FORMAT": true,
   "tests": {}
  }
 },
 "nbformat": 4,
 "nbformat_minor": 4
}
